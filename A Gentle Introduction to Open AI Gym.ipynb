{
 "cells": [
  {
   "cell_type": "markdown",
   "id": "6815ccaf",
   "metadata": {},
   "source": [
    "# 1. Importing Libraries"
   ]
  },
  {
   "cell_type": "code",
   "execution_count": null,
   "id": "8844b236",
   "metadata": {},
   "outputs": [],
   "source": [
    "!pip install 'stable-baselines3[extra]'\n",
    "!pip install wandb\n",
    "!pip install box2d-py\n",
    "!pip install gym_super_mario_bros==7.3.0 nes_py\n",
    "!pip install opencv-python"
   ]
  },
  {
   "cell_type": "code",
   "execution_count": 1,
   "id": "86e100da",
   "metadata": {},
   "outputs": [
    {
     "name": "stderr",
     "output_type": "stream",
     "text": [
      "/opt/homebrew/lib/python3.10/site-packages/tqdm/auto.py:22: TqdmWarning: IProgress not found. Please update jupyter and ipywidgets. See https://ipywidgets.readthedocs.io/en/stable/user_install.html\n",
      "  from .autonotebook import tqdm as notebook_tqdm\n"
     ]
    }
   ],
   "source": [
    "import gym\n",
    "import os \n",
    "import wandb\n",
    "import gym_super_mario_bros \n",
    "from nes_py.wrappers import JoypadSpace\n",
    "from gym.wrappers import GrayScaleObservation\n",
    "from wandb.integration.sb3 import WandbCallback\n",
    "from gym_super_mario_bros.actions import SIMPLE_MOVEMENT\n",
    "from stable_baselines3 import PPO\n",
    "from stable_baselines3.common.vec_env import DummyVecEnv,VecVideoRecorder\n",
    "from stable_baselines3.common.evaluation import evaluate_policy\n",
    "from stable_baselines3.common.monitor import Monitor\n",
    "from stable_baselines3.common.vec_env import VecFrameStack, DummyVecEnv"
   ]
  },
  {
   "cell_type": "markdown",
   "id": "9319fa25",
   "metadata": {},
   "source": [
    "# 2. CartPole-v1"
   ]
  },
  {
   "cell_type": "code",
   "execution_count": 2,
   "id": "e6fea45b",
   "metadata": {},
   "outputs": [
    {
     "name": "stderr",
     "output_type": "stream",
     "text": [
      "\u001b[34m\u001b[1mwandb\u001b[0m: Currently logged in as: \u001b[33mmukilan\u001b[0m. Use \u001b[1m`wandb login --relogin`\u001b[0m to force relogin\n"
     ]
    },
    {
     "data": {
      "text/html": [
       "wandb version 0.13.7 is available!  To upgrade, please run:\n",
       " $ pip install wandb --upgrade"
      ],
      "text/plain": [
       "<IPython.core.display.HTML object>"
      ]
     },
     "metadata": {},
     "output_type": "display_data"
    },
    {
     "data": {
      "text/html": [
       "Tracking run with wandb version 0.13.5"
      ],
      "text/plain": [
       "<IPython.core.display.HTML object>"
      ]
     },
     "metadata": {},
     "output_type": "display_data"
    },
    {
     "data": {
      "text/html": [
       "Run data is saved locally in <code>/Users/mukilankrishnakumar/Desktop/Gym/wandb/run-20230108_202709-3f051652</code>"
      ],
      "text/plain": [
       "<IPython.core.display.HTML object>"
      ]
     },
     "metadata": {},
     "output_type": "display_data"
    },
    {
     "data": {
      "text/html": [
       "Syncing run <strong><a href=\"https://wandb.ai/mukilan/intro_to_gym/runs/3f051652\" target=\"_blank\">gallant-flower-24</a></strong> to <a href=\"https://wandb.ai/mukilan/intro_to_gym\" target=\"_blank\">Weights & Biases</a> (<a href=\"https://wandb.me/run\" target=\"_blank\">docs</a>)<br/>"
      ],
      "text/plain": [
       "<IPython.core.display.HTML object>"
      ]
     },
     "metadata": {},
     "output_type": "display_data"
    }
   ],
   "source": [
    "config = {\n",
    "    \"policy_type\": \"MlpPolicy\",\n",
    "    \"total_timesteps\": 30000,\n",
    "    \"env_name\": \"CartPole-v1\",\n",
    "}\n",
    "run = wandb.init(\n",
    "    project=\"intro_to_gym\",\n",
    "    config=config,\n",
    "    sync_tensorboard=True,  \n",
    "    monitor_gym=True,  \n",
    "    save_code=True,  \n",
    ")"
   ]
  },
  {
   "cell_type": "code",
   "execution_count": 3,
   "id": "afa88117",
   "metadata": {},
   "outputs": [],
   "source": [
    "def make_env():\n",
    "    env = gym.make(config[\"env_name\"])\n",
    "    env = Monitor(env) \n",
    "    return env\n",
    "\n",
    "env = DummyVecEnv([make_env])\n",
    "env = VecVideoRecorder(env, f\"videos/{run.id}\", record_video_trigger=lambda x: x % 200 == 0, video_length=200)"
   ]
  },
  {
   "cell_type": "code",
   "execution_count": 4,
   "id": "dc3fc3ac",
   "metadata": {},
   "outputs": [
    {
     "name": "stdout",
     "output_type": "stream",
     "text": [
      "Using cpu device\n",
      "Logging to runs/3f051652/PPO_1\n"
     ]
    },
    {
     "name": "stderr",
     "output_type": "stream",
     "text": [
      "2023-01-08 20:27:24.703 Python[11602:299899] ApplePersistenceIgnoreState: Existing state will not be touched. New state will be written to /var/folders/qp/h29sqr1j4qlg8r6r10m9q9xh0000gn/T/org.python.python.savedState\n"
     ]
    },
    {
     "name": "stdout",
     "output_type": "stream",
     "text": [
      "Saving video to /Users/mukilankrishnakumar/Desktop/Gym/videos/3f051652/rl-video-step-0-to-step-200.mp4\n",
      "Saving video to /Users/mukilankrishnakumar/Desktop/Gym/videos/3f051652/rl-video-step-400-to-step-600.mp4\n",
      "Saving video to /Users/mukilankrishnakumar/Desktop/Gym/videos/3f051652/rl-video-step-800-to-step-1000.mp4\n",
      "Saving video to /Users/mukilankrishnakumar/Desktop/Gym/videos/3f051652/rl-video-step-1200-to-step-1400.mp4\n",
      "Saving video to /Users/mukilankrishnakumar/Desktop/Gym/videos/3f051652/rl-video-step-1600-to-step-1800.mp4\n",
      "---------------------------------\n",
      "| rollout/           |          |\n",
      "|    ep_len_mean     | 21.3     |\n",
      "|    ep_rew_mean     | 21.3     |\n",
      "| time/              |          |\n",
      "|    fps             | 127      |\n",
      "|    iterations      | 1        |\n",
      "|    time_elapsed    | 16       |\n",
      "|    total_timesteps | 2048     |\n",
      "---------------------------------\n",
      "Saving video to /Users/mukilankrishnakumar/Desktop/Gym/videos/3f051652/rl-video-step-2000-to-step-2200.mp4\n",
      "Saving video to /Users/mukilankrishnakumar/Desktop/Gym/videos/3f051652/rl-video-step-2400-to-step-2600.mp4\n",
      "Saving video to /Users/mukilankrishnakumar/Desktop/Gym/videos/3f051652/rl-video-step-2800-to-step-3000.mp4\n",
      "Saving video to /Users/mukilankrishnakumar/Desktop/Gym/videos/3f051652/rl-video-step-3200-to-step-3400.mp4\n",
      "Saving video to /Users/mukilankrishnakumar/Desktop/Gym/videos/3f051652/rl-video-step-3600-to-step-3800.mp4\n",
      "-----------------------------------------\n",
      "| rollout/                |             |\n",
      "|    ep_len_mean          | 26.5        |\n",
      "|    ep_rew_mean          | 26.5        |\n",
      "| time/                   |             |\n",
      "|    fps                  | 131         |\n",
      "|    iterations           | 2           |\n",
      "|    time_elapsed         | 31          |\n",
      "|    total_timesteps      | 4096        |\n",
      "| train/                  |             |\n",
      "|    approx_kl            | 0.008853821 |\n",
      "|    clip_fraction        | 0.108       |\n",
      "|    clip_range           | 0.2         |\n",
      "|    entropy_loss         | -0.686      |\n",
      "|    explained_variance   | -0.00243    |\n",
      "|    learning_rate        | 0.0003      |\n",
      "|    loss                 | 7.12        |\n",
      "|    n_updates            | 10          |\n",
      "|    policy_gradient_loss | -0.0167     |\n",
      "|    value_loss           | 48.7        |\n",
      "-----------------------------------------\n",
      "Saving video to /Users/mukilankrishnakumar/Desktop/Gym/videos/3f051652/rl-video-step-4000-to-step-4200.mp4\n",
      "Saving video to /Users/mukilankrishnakumar/Desktop/Gym/videos/3f051652/rl-video-step-4400-to-step-4600.mp4\n",
      "Saving video to /Users/mukilankrishnakumar/Desktop/Gym/videos/3f051652/rl-video-step-4800-to-step-5000.mp4\n",
      "Saving video to /Users/mukilankrishnakumar/Desktop/Gym/videos/3f051652/rl-video-step-5200-to-step-5400.mp4\n",
      "Saving video to /Users/mukilankrishnakumar/Desktop/Gym/videos/3f051652/rl-video-step-5600-to-step-5800.mp4\n",
      "-----------------------------------------\n",
      "| rollout/                |             |\n",
      "|    ep_len_mean          | 35.5        |\n",
      "|    ep_rew_mean          | 35.5        |\n",
      "| time/                   |             |\n",
      "|    fps                  | 132         |\n",
      "|    iterations           | 3           |\n",
      "|    time_elapsed         | 46          |\n",
      "|    total_timesteps      | 6144        |\n",
      "| train/                  |             |\n",
      "|    approx_kl            | 0.009672433 |\n",
      "|    clip_fraction        | 0.0721      |\n",
      "|    clip_range           | 0.2         |\n",
      "|    entropy_loss         | -0.667      |\n",
      "|    explained_variance   | 0.0885      |\n",
      "|    learning_rate        | 0.0003      |\n",
      "|    loss                 | 13.4        |\n",
      "|    n_updates            | 20          |\n",
      "|    policy_gradient_loss | -0.0194     |\n",
      "|    value_loss           | 38.8        |\n",
      "-----------------------------------------\n",
      "Saving video to /Users/mukilankrishnakumar/Desktop/Gym/videos/3f051652/rl-video-step-6000-to-step-6200.mp4\n",
      "Saving video to /Users/mukilankrishnakumar/Desktop/Gym/videos/3f051652/rl-video-step-6400-to-step-6600.mp4\n",
      "Saving video to /Users/mukilankrishnakumar/Desktop/Gym/videos/3f051652/rl-video-step-6800-to-step-7000.mp4\n",
      "Saving video to /Users/mukilankrishnakumar/Desktop/Gym/videos/3f051652/rl-video-step-7200-to-step-7400.mp4\n",
      "Saving video to /Users/mukilankrishnakumar/Desktop/Gym/videos/3f051652/rl-video-step-7600-to-step-7800.mp4\n",
      "-----------------------------------------\n",
      "| rollout/                |             |\n",
      "|    ep_len_mean          | 47.5        |\n",
      "|    ep_rew_mean          | 47.5        |\n",
      "| time/                   |             |\n",
      "|    fps                  | 133         |\n",
      "|    iterations           | 4           |\n",
      "|    time_elapsed         | 61          |\n",
      "|    total_timesteps      | 8192        |\n",
      "| train/                  |             |\n",
      "|    approx_kl            | 0.008729439 |\n",
      "|    clip_fraction        | 0.0937      |\n",
      "|    clip_range           | 0.2         |\n",
      "|    entropy_loss         | -0.638      |\n",
      "|    explained_variance   | 0.234       |\n",
      "|    learning_rate        | 0.0003      |\n",
      "|    loss                 | 25.2        |\n",
      "|    n_updates            | 30          |\n",
      "|    policy_gradient_loss | -0.0188     |\n",
      "|    value_loss           | 55.6        |\n",
      "-----------------------------------------\n",
      "Saving video to /Users/mukilankrishnakumar/Desktop/Gym/videos/3f051652/rl-video-step-8000-to-step-8200.mp4\n",
      "Saving video to /Users/mukilankrishnakumar/Desktop/Gym/videos/3f051652/rl-video-step-8400-to-step-8600.mp4\n",
      "Saving video to /Users/mukilankrishnakumar/Desktop/Gym/videos/3f051652/rl-video-step-8800-to-step-9000.mp4\n",
      "Saving video to /Users/mukilankrishnakumar/Desktop/Gym/videos/3f051652/rl-video-step-9200-to-step-9400.mp4\n",
      "Saving video to /Users/mukilankrishnakumar/Desktop/Gym/videos/3f051652/rl-video-step-9600-to-step-9800.mp4\n",
      "Saving video to /Users/mukilankrishnakumar/Desktop/Gym/videos/3f051652/rl-video-step-10000-to-step-10200.mp4\n",
      "-----------------------------------------\n",
      "| rollout/                |             |\n",
      "|    ep_len_mean          | 62          |\n",
      "|    ep_rew_mean          | 62          |\n",
      "| time/                   |             |\n",
      "|    fps                  | 135         |\n",
      "|    iterations           | 5           |\n",
      "|    time_elapsed         | 75          |\n",
      "|    total_timesteps      | 10240       |\n",
      "| train/                  |             |\n",
      "|    approx_kl            | 0.008808862 |\n",
      "|    clip_fraction        | 0.0695      |\n",
      "|    clip_range           | 0.2         |\n",
      "|    entropy_loss         | -0.611      |\n",
      "|    explained_variance   | 0.293       |\n",
      "|    learning_rate        | 0.0003      |\n",
      "|    loss                 | 27.3        |\n",
      "|    n_updates            | 40          |\n",
      "|    policy_gradient_loss | -0.0166     |\n",
      "|    value_loss           | 64.2        |\n",
      "-----------------------------------------\n",
      "Saving video to /Users/mukilankrishnakumar/Desktop/Gym/videos/3f051652/rl-video-step-10400-to-step-10600.mp4\n",
      "Saving video to /Users/mukilankrishnakumar/Desktop/Gym/videos/3f051652/rl-video-step-10800-to-step-11000.mp4\n",
      "Saving video to /Users/mukilankrishnakumar/Desktop/Gym/videos/3f051652/rl-video-step-11200-to-step-11400.mp4\n",
      "Saving video to /Users/mukilankrishnakumar/Desktop/Gym/videos/3f051652/rl-video-step-11600-to-step-11800.mp4\n",
      "Saving video to /Users/mukilankrishnakumar/Desktop/Gym/videos/3f051652/rl-video-step-12000-to-step-12200.mp4\n",
      "------------------------------------------\n",
      "| rollout/                |              |\n",
      "|    ep_len_mean          | 74           |\n",
      "|    ep_rew_mean          | 74           |\n",
      "| time/                   |              |\n",
      "|    fps                  | 136          |\n",
      "|    iterations           | 6            |\n",
      "|    time_elapsed         | 90           |\n",
      "|    total_timesteps      | 12288        |\n",
      "| train/                  |              |\n",
      "|    approx_kl            | 0.0072746524 |\n",
      "|    clip_fraction        | 0.0747       |\n",
      "|    clip_range           | 0.2          |\n",
      "|    entropy_loss         | -0.595       |\n",
      "|    explained_variance   | 0.484        |\n",
      "|    learning_rate        | 0.0003       |\n",
      "|    loss                 | 15.6         |\n",
      "|    n_updates            | 50           |\n",
      "|    policy_gradient_loss | -0.0158      |\n",
      "|    value_loss           | 52.4         |\n",
      "------------------------------------------\n",
      "Saving video to /Users/mukilankrishnakumar/Desktop/Gym/videos/3f051652/rl-video-step-12400-to-step-12600.mp4\n"
     ]
    },
    {
     "name": "stdout",
     "output_type": "stream",
     "text": [
      "Saving video to /Users/mukilankrishnakumar/Desktop/Gym/videos/3f051652/rl-video-step-12800-to-step-13000.mp4\n",
      "Saving video to /Users/mukilankrishnakumar/Desktop/Gym/videos/3f051652/rl-video-step-13200-to-step-13400.mp4\n",
      "Saving video to /Users/mukilankrishnakumar/Desktop/Gym/videos/3f051652/rl-video-step-13600-to-step-13800.mp4\n",
      "Saving video to /Users/mukilankrishnakumar/Desktop/Gym/videos/3f051652/rl-video-step-14000-to-step-14200.mp4\n",
      "-----------------------------------------\n",
      "| rollout/                |             |\n",
      "|    ep_len_mean          | 90.4        |\n",
      "|    ep_rew_mean          | 90.4        |\n",
      "| time/                   |             |\n",
      "|    fps                  | 137         |\n",
      "|    iterations           | 7           |\n",
      "|    time_elapsed         | 104         |\n",
      "|    total_timesteps      | 14336       |\n",
      "| train/                  |             |\n",
      "|    approx_kl            | 0.008159995 |\n",
      "|    clip_fraction        | 0.0881      |\n",
      "|    clip_range           | 0.2         |\n",
      "|    entropy_loss         | -0.593      |\n",
      "|    explained_variance   | 0.668       |\n",
      "|    learning_rate        | 0.0003      |\n",
      "|    loss                 | 20.2        |\n",
      "|    n_updates            | 60          |\n",
      "|    policy_gradient_loss | -0.0129     |\n",
      "|    value_loss           | 47.7        |\n",
      "-----------------------------------------\n",
      "Saving video to /Users/mukilankrishnakumar/Desktop/Gym/videos/3f051652/rl-video-step-14400-to-step-14600.mp4\n",
      "Saving video to /Users/mukilankrishnakumar/Desktop/Gym/videos/3f051652/rl-video-step-14800-to-step-15000.mp4\n",
      "Saving video to /Users/mukilankrishnakumar/Desktop/Gym/videos/3f051652/rl-video-step-15200-to-step-15400.mp4\n",
      "Saving video to /Users/mukilankrishnakumar/Desktop/Gym/videos/3f051652/rl-video-step-15600-to-step-15800.mp4\n",
      "Saving video to /Users/mukilankrishnakumar/Desktop/Gym/videos/3f051652/rl-video-step-16000-to-step-16200.mp4\n",
      "-----------------------------------------\n",
      "| rollout/                |             |\n",
      "|    ep_len_mean          | 109         |\n",
      "|    ep_rew_mean          | 109         |\n",
      "| time/                   |             |\n",
      "|    fps                  | 138         |\n",
      "|    iterations           | 8           |\n",
      "|    time_elapsed         | 118         |\n",
      "|    total_timesteps      | 16384       |\n",
      "| train/                  |             |\n",
      "|    approx_kl            | 0.008589698 |\n",
      "|    clip_fraction        | 0.0875      |\n",
      "|    clip_range           | 0.2         |\n",
      "|    entropy_loss         | -0.589      |\n",
      "|    explained_variance   | 0.782       |\n",
      "|    learning_rate        | 0.0003      |\n",
      "|    loss                 | 12.9        |\n",
      "|    n_updates            | 70          |\n",
      "|    policy_gradient_loss | -0.0107     |\n",
      "|    value_loss           | 41.5        |\n",
      "-----------------------------------------\n",
      "Saving video to /Users/mukilankrishnakumar/Desktop/Gym/videos/3f051652/rl-video-step-16400-to-step-16600.mp4\n",
      "Saving video to /Users/mukilankrishnakumar/Desktop/Gym/videos/3f051652/rl-video-step-16800-to-step-17000.mp4\n",
      "Saving video to /Users/mukilankrishnakumar/Desktop/Gym/videos/3f051652/rl-video-step-17200-to-step-17400.mp4\n",
      "Saving video to /Users/mukilankrishnakumar/Desktop/Gym/videos/3f051652/rl-video-step-17600-to-step-17800.mp4\n",
      "Saving video to /Users/mukilankrishnakumar/Desktop/Gym/videos/3f051652/rl-video-step-18000-to-step-18200.mp4\n",
      "-----------------------------------------\n",
      "| rollout/                |             |\n",
      "|    ep_len_mean          | 127         |\n",
      "|    ep_rew_mean          | 127         |\n",
      "| time/                   |             |\n",
      "|    fps                  | 137         |\n",
      "|    iterations           | 9           |\n",
      "|    time_elapsed         | 133         |\n",
      "|    total_timesteps      | 18432       |\n",
      "| train/                  |             |\n",
      "|    approx_kl            | 0.005494152 |\n",
      "|    clip_fraction        | 0.0455      |\n",
      "|    clip_range           | 0.2         |\n",
      "|    entropy_loss         | -0.591      |\n",
      "|    explained_variance   | 0.819       |\n",
      "|    learning_rate        | 0.0003      |\n",
      "|    loss                 | 7.38        |\n",
      "|    n_updates            | 80          |\n",
      "|    policy_gradient_loss | -0.00944    |\n",
      "|    value_loss           | 28.7        |\n",
      "-----------------------------------------\n",
      "Saving video to /Users/mukilankrishnakumar/Desktop/Gym/videos/3f051652/rl-video-step-18400-to-step-18600.mp4\n",
      "Saving video to /Users/mukilankrishnakumar/Desktop/Gym/videos/3f051652/rl-video-step-18800-to-step-19000.mp4\n",
      "Saving video to /Users/mukilankrishnakumar/Desktop/Gym/videos/3f051652/rl-video-step-19200-to-step-19400.mp4\n",
      "Saving video to /Users/mukilankrishnakumar/Desktop/Gym/videos/3f051652/rl-video-step-19600-to-step-19800.mp4\n",
      "Saving video to /Users/mukilankrishnakumar/Desktop/Gym/videos/3f051652/rl-video-step-20000-to-step-20200.mp4\n",
      "-----------------------------------------\n",
      "| rollout/                |             |\n",
      "|    ep_len_mean          | 144         |\n",
      "|    ep_rew_mean          | 144         |\n",
      "| time/                   |             |\n",
      "|    fps                  | 137         |\n",
      "|    iterations           | 10          |\n",
      "|    time_elapsed         | 148         |\n",
      "|    total_timesteps      | 20480       |\n",
      "| train/                  |             |\n",
      "|    approx_kl            | 0.008741526 |\n",
      "|    clip_fraction        | 0.105       |\n",
      "|    clip_range           | 0.2         |\n",
      "|    entropy_loss         | -0.575      |\n",
      "|    explained_variance   | 0.82        |\n",
      "|    learning_rate        | 0.0003      |\n",
      "|    loss                 | 4.72        |\n",
      "|    n_updates            | 90          |\n",
      "|    policy_gradient_loss | -0.0104     |\n",
      "|    value_loss           | 33.4        |\n",
      "-----------------------------------------\n",
      "Saving video to /Users/mukilankrishnakumar/Desktop/Gym/videos/3f051652/rl-video-step-20400-to-step-20600.mp4\n",
      "Saving video to /Users/mukilankrishnakumar/Desktop/Gym/videos/3f051652/rl-video-step-20800-to-step-21000.mp4\n",
      "Saving video to /Users/mukilankrishnakumar/Desktop/Gym/videos/3f051652/rl-video-step-21200-to-step-21400.mp4\n",
      "Saving video to /Users/mukilankrishnakumar/Desktop/Gym/videos/3f051652/rl-video-step-21600-to-step-21800.mp4\n",
      "Saving video to /Users/mukilankrishnakumar/Desktop/Gym/videos/3f051652/rl-video-step-22000-to-step-22200.mp4\n",
      "------------------------------------------\n",
      "| rollout/                |              |\n",
      "|    ep_len_mean          | 160          |\n",
      "|    ep_rew_mean          | 160          |\n",
      "| time/                   |              |\n",
      "|    fps                  | 137          |\n",
      "|    iterations           | 11           |\n",
      "|    time_elapsed         | 163          |\n",
      "|    total_timesteps      | 22528        |\n",
      "| train/                  |              |\n",
      "|    approx_kl            | 0.0034981326 |\n",
      "|    clip_fraction        | 0.0257       |\n",
      "|    clip_range           | 0.2          |\n",
      "|    entropy_loss         | -0.55        |\n",
      "|    explained_variance   | 0.463        |\n",
      "|    learning_rate        | 0.0003       |\n",
      "|    loss                 | 26.2         |\n",
      "|    n_updates            | 100          |\n",
      "|    policy_gradient_loss | -0.00708     |\n",
      "|    value_loss           | 91           |\n",
      "------------------------------------------\n",
      "Saving video to /Users/mukilankrishnakumar/Desktop/Gym/videos/3f051652/rl-video-step-22400-to-step-22600.mp4\n",
      "Saving video to /Users/mukilankrishnakumar/Desktop/Gym/videos/3f051652/rl-video-step-22800-to-step-23000.mp4\n",
      "Saving video to /Users/mukilankrishnakumar/Desktop/Gym/videos/3f051652/rl-video-step-23200-to-step-23400.mp4\n",
      "Saving video to /Users/mukilankrishnakumar/Desktop/Gym/videos/3f051652/rl-video-step-23600-to-step-23800.mp4\n",
      "Saving video to /Users/mukilankrishnakumar/Desktop/Gym/videos/3f051652/rl-video-step-24000-to-step-24200.mp4\n",
      "----------------------------------------\n",
      "| rollout/                |            |\n",
      "|    ep_len_mean          | 176        |\n",
      "|    ep_rew_mean          | 176        |\n",
      "| time/                   |            |\n",
      "|    fps                  | 137        |\n",
      "|    iterations           | 12         |\n",
      "|    time_elapsed         | 178        |\n",
      "|    total_timesteps      | 24576      |\n",
      "| train/                  |            |\n",
      "|    approx_kl            | 0.01327082 |\n",
      "|    clip_fraction        | 0.118      |\n",
      "|    clip_range           | 0.2        |\n",
      "|    entropy_loss         | -0.551     |\n",
      "|    explained_variance   | 0.87       |\n",
      "|    learning_rate        | 0.0003     |\n",
      "|    loss                 | 2.43       |\n",
      "|    n_updates            | 110        |\n",
      "|    policy_gradient_loss | -0.0114    |\n",
      "|    value_loss           | 27.9       |\n",
      "----------------------------------------\n"
     ]
    },
    {
     "name": "stdout",
     "output_type": "stream",
     "text": [
      "Saving video to /Users/mukilankrishnakumar/Desktop/Gym/videos/3f051652/rl-video-step-24400-to-step-24600.mp4\n",
      "Saving video to /Users/mukilankrishnakumar/Desktop/Gym/videos/3f051652/rl-video-step-24800-to-step-25000.mp4\n",
      "Saving video to /Users/mukilankrishnakumar/Desktop/Gym/videos/3f051652/rl-video-step-25200-to-step-25400.mp4\n",
      "Saving video to /Users/mukilankrishnakumar/Desktop/Gym/videos/3f051652/rl-video-step-25600-to-step-25800.mp4\n",
      "Saving video to /Users/mukilankrishnakumar/Desktop/Gym/videos/3f051652/rl-video-step-26000-to-step-26200.mp4\n",
      "Saving video to /Users/mukilankrishnakumar/Desktop/Gym/videos/3f051652/rl-video-step-26400-to-step-26600.mp4\n",
      "------------------------------------------\n",
      "| rollout/                |              |\n",
      "|    ep_len_mean          | 194          |\n",
      "|    ep_rew_mean          | 194          |\n",
      "| time/                   |              |\n",
      "|    fps                  | 137          |\n",
      "|    iterations           | 13           |\n",
      "|    time_elapsed         | 193          |\n",
      "|    total_timesteps      | 26624        |\n",
      "| train/                  |              |\n",
      "|    approx_kl            | 0.0057042004 |\n",
      "|    clip_fraction        | 0.0603       |\n",
      "|    clip_range           | 0.2          |\n",
      "|    entropy_loss         | -0.529       |\n",
      "|    explained_variance   | 0.826        |\n",
      "|    learning_rate        | 0.0003       |\n",
      "|    loss                 | 0.351        |\n",
      "|    n_updates            | 120          |\n",
      "|    policy_gradient_loss | -0.0052      |\n",
      "|    value_loss           | 8.45         |\n",
      "------------------------------------------\n",
      "Saving video to /Users/mukilankrishnakumar/Desktop/Gym/videos/3f051652/rl-video-step-26800-to-step-27000.mp4\n",
      "Saving video to /Users/mukilankrishnakumar/Desktop/Gym/videos/3f051652/rl-video-step-27200-to-step-27400.mp4\n",
      "Saving video to /Users/mukilankrishnakumar/Desktop/Gym/videos/3f051652/rl-video-step-27600-to-step-27800.mp4\n",
      "Saving video to /Users/mukilankrishnakumar/Desktop/Gym/videos/3f051652/rl-video-step-28000-to-step-28200.mp4\n",
      "Saving video to /Users/mukilankrishnakumar/Desktop/Gym/videos/3f051652/rl-video-step-28400-to-step-28600.mp4\n",
      "------------------------------------------\n",
      "| rollout/                |              |\n",
      "|    ep_len_mean          | 210          |\n",
      "|    ep_rew_mean          | 210          |\n",
      "| time/                   |              |\n",
      "|    fps                  | 137          |\n",
      "|    iterations           | 14           |\n",
      "|    time_elapsed         | 208          |\n",
      "|    total_timesteps      | 28672        |\n",
      "| train/                  |              |\n",
      "|    approx_kl            | 0.0045981174 |\n",
      "|    clip_fraction        | 0.0528       |\n",
      "|    clip_range           | 0.2          |\n",
      "|    entropy_loss         | -0.53        |\n",
      "|    explained_variance   | 0.637        |\n",
      "|    learning_rate        | 0.0003       |\n",
      "|    loss                 | 0.112        |\n",
      "|    n_updates            | 130          |\n",
      "|    policy_gradient_loss | -0.00785     |\n",
      "|    value_loss           | 3.1          |\n",
      "------------------------------------------\n",
      "Saving video to /Users/mukilankrishnakumar/Desktop/Gym/videos/3f051652/rl-video-step-28800-to-step-29000.mp4\n",
      "Saving video to /Users/mukilankrishnakumar/Desktop/Gym/videos/3f051652/rl-video-step-29200-to-step-29400.mp4\n",
      "Saving video to /Users/mukilankrishnakumar/Desktop/Gym/videos/3f051652/rl-video-step-29600-to-step-29800.mp4\n",
      "Saving video to /Users/mukilankrishnakumar/Desktop/Gym/videos/3f051652/rl-video-step-30000-to-step-30200.mp4\n",
      "Saving video to /Users/mukilankrishnakumar/Desktop/Gym/videos/3f051652/rl-video-step-30400-to-step-30600.mp4\n",
      "-----------------------------------------\n",
      "| rollout/                |             |\n",
      "|    ep_len_mean          | 231         |\n",
      "|    ep_rew_mean          | 231         |\n",
      "| time/                   |             |\n",
      "|    fps                  | 138         |\n",
      "|    iterations           | 15          |\n",
      "|    time_elapsed         | 222         |\n",
      "|    total_timesteps      | 30720       |\n",
      "| train/                  |             |\n",
      "|    approx_kl            | 0.004479511 |\n",
      "|    clip_fraction        | 0.0317      |\n",
      "|    clip_range           | 0.2         |\n",
      "|    entropy_loss         | -0.507      |\n",
      "|    explained_variance   | 0.24        |\n",
      "|    learning_rate        | 0.0003      |\n",
      "|    loss                 | 0.00645     |\n",
      "|    n_updates            | 140         |\n",
      "|    policy_gradient_loss | -0.000873   |\n",
      "|    value_loss           | 1.93        |\n",
      "-----------------------------------------\n"
     ]
    },
    {
     "data": {
      "text/plain": [
       "<stable_baselines3.ppo.ppo.PPO at 0x15274fdc0>"
      ]
     },
     "execution_count": 4,
     "metadata": {},
     "output_type": "execute_result"
    }
   ],
   "source": [
    "model = PPO(config[\"policy_type\"], env, verbose=1, tensorboard_log=f\"runs/{run.id}\")\n",
    "model.learn(\n",
    "    total_timesteps=config[\"total_timesteps\"],\n",
    "    callback=WandbCallback(\n",
    "        gradient_save_freq=100,\n",
    "        model_save_path=f\"models/{run.id}\",\n",
    "        verbose=2,\n",
    "    ),\n",
    ")"
   ]
  },
  {
   "cell_type": "code",
   "execution_count": 5,
   "id": "1305b253",
   "metadata": {},
   "outputs": [],
   "source": [
    "PPO_path = os.path.join('Training', 'Saved Models', 'PPO_CartPole_30k_PR')\n",
    "model.save(PPO_path)"
   ]
  },
  {
   "cell_type": "code",
   "execution_count": 6,
   "id": "d85aeaa5",
   "metadata": {},
   "outputs": [
    {
     "name": "stdout",
     "output_type": "stream",
     "text": [
      "Saving video to /Users/mukilankrishnakumar/Desktop/Gym/videos/3f051652/rl-video-step-30720-to-step-30920.mp4\n",
      "Saving video to /Users/mukilankrishnakumar/Desktop/Gym/videos/3f051652/rl-video-step-31000-to-step-31200.mp4\n",
      "Saving video to /Users/mukilankrishnakumar/Desktop/Gym/videos/3f051652/rl-video-step-31400-to-step-31600.mp4\n",
      "Saving video to /Users/mukilankrishnakumar/Desktop/Gym/videos/3f051652/rl-video-step-31800-to-step-32000.mp4\n",
      "Saving video to /Users/mukilankrishnakumar/Desktop/Gym/videos/3f051652/rl-video-step-32200-to-step-32400.mp4\n",
      "Saving video to /Users/mukilankrishnakumar/Desktop/Gym/videos/3f051652/rl-video-step-32600-to-step-32800.mp4\n",
      "Saving video to /Users/mukilankrishnakumar/Desktop/Gym/videos/3f051652/rl-video-step-33000-to-step-33200.mp4\n",
      "Saving video to /Users/mukilankrishnakumar/Desktop/Gym/videos/3f051652/rl-video-step-33400-to-step-33600.mp4\n",
      "Saving video to /Users/mukilankrishnakumar/Desktop/Gym/videos/3f051652/rl-video-step-33800-to-step-34000.mp4\n",
      "Saving video to /Users/mukilankrishnakumar/Desktop/Gym/videos/3f051652/rl-video-step-34200-to-step-34400.mp4\n",
      "Saving video to /Users/mukilankrishnakumar/Desktop/Gym/videos/3f051652/rl-video-step-34600-to-step-34800.mp4\n",
      "Saving video to /Users/mukilankrishnakumar/Desktop/Gym/videos/3f051652/rl-video-step-35000-to-step-35200.mp4\n",
      "Saving video to /Users/mukilankrishnakumar/Desktop/Gym/videos/3f051652/rl-video-step-35400-to-step-35600.mp4\n"
     ]
    },
    {
     "data": {
      "text/html": [
       "Waiting for W&B process to finish... <strong style=\"color:green\">(success).</strong>"
      ],
      "text/plain": [
       "<IPython.core.display.HTML object>"
      ]
     },
     "metadata": {},
     "output_type": "display_data"
    },
    {
     "data": {
      "text/html": [
       "<style>\n",
       "    table.wandb td:nth-child(1) { padding: 0 10px; text-align: left ; width: auto;} td:nth-child(2) {text-align: left ; width: 100%}\n",
       "    .wandb-row { display: flex; flex-direction: row; flex-wrap: wrap; justify-content: flex-start; width: 100% }\n",
       "    .wandb-col { display: flex; flex-direction: column; flex-basis: 100%; flex: 1; padding: 10px; }\n",
       "    </style>\n",
       "<div class=\"wandb-row\"><div class=\"wandb-col\"><h3>Run history:</h3><br/><table class=\"wandb\"><tr><td>global_step</td><td>▁▁▂▃▃▃▄▅▅▅▆▇▇▇█</td></tr><tr><td>rollout/ep_len_mean</td><td>▁▁▁▂▂▃▃▄▅▅▆▆▇▇█</td></tr><tr><td>rollout/ep_rew_mean</td><td>▁▁▁▂▂▃▃▄▅▅▆▆▇▇█</td></tr><tr><td>time/fps</td><td>▁▄▄▅▆▇▇█▇▇▇▇▇▇█</td></tr><tr><td>train/approx_kl</td><td>▅▅▅▅▄▄▅▂▅▁█▃▂▂</td></tr><tr><td>train/clip_fraction</td><td>▇▅▆▄▅▆▆▂▇▁█▄▃▁</td></tr><tr><td>train/clip_range</td><td>▁▁▁▁▁▁▁▁▁▁▁▁▁▁</td></tr><tr><td>train/entropy_loss</td><td>▁▂▃▄▅▅▅▅▅▆▆▇▇█</td></tr><tr><td>train/explained_variance</td><td>▁▂▃▃▅▆▇██▅██▆▃</td></tr><tr><td>train/learning_rate</td><td>▁▁▁▁▁▁▁▁▁▁▁▁▁▁</td></tr><tr><td>train/loss</td><td>▃▄▇█▅▆▄▃▂█▂▁▁▁</td></tr><tr><td>train/policy_gradient_loss</td><td>▂▁▁▂▂▃▄▅▄▆▄▆▅█</td></tr><tr><td>train/value_loss</td><td>▅▄▅▆▅▅▄▃▃█▃▂▁▁</td></tr></table><br/></div><div class=\"wandb-col\"><h3>Run summary:</h3><br/><table class=\"wandb\"><tr><td>global_step</td><td>30720</td></tr><tr><td>rollout/ep_len_mean</td><td>231.28999</td></tr><tr><td>rollout/ep_rew_mean</td><td>231.28999</td></tr><tr><td>time/fps</td><td>138.0</td></tr><tr><td>train/approx_kl</td><td>0.00448</td></tr><tr><td>train/clip_fraction</td><td>0.03174</td></tr><tr><td>train/clip_range</td><td>0.2</td></tr><tr><td>train/entropy_loss</td><td>-0.50699</td></tr><tr><td>train/explained_variance</td><td>0.24047</td></tr><tr><td>train/learning_rate</td><td>0.0003</td></tr><tr><td>train/loss</td><td>0.00645</td></tr><tr><td>train/policy_gradient_loss</td><td>-0.00087</td></tr><tr><td>train/value_loss</td><td>1.92717</td></tr></table><br/></div></div>"
      ],
      "text/plain": [
       "<IPython.core.display.HTML object>"
      ]
     },
     "metadata": {},
     "output_type": "display_data"
    },
    {
     "data": {
      "text/html": [
       "Synced <strong style=\"color:#cdcd00\">gallant-flower-24</strong>: <a href=\"https://wandb.ai/mukilan/intro_to_gym/runs/3f051652\" target=\"_blank\">https://wandb.ai/mukilan/intro_to_gym/runs/3f051652</a><br/>Synced 5 W&B file(s), 90 media file(s), 3 artifact file(s) and 3 other file(s)"
      ],
      "text/plain": [
       "<IPython.core.display.HTML object>"
      ]
     },
     "metadata": {},
     "output_type": "display_data"
    },
    {
     "data": {
      "text/html": [
       "Find logs at: <code>./wandb/run-20230108_202709-3f051652/logs</code>"
      ],
      "text/plain": [
       "<IPython.core.display.HTML object>"
      ]
     },
     "metadata": {},
     "output_type": "display_data"
    }
   ],
   "source": [
    "evaluate_policy(model, env, n_eval_episodes=10, render=True)\n",
    "run.finish()"
   ]
  },
  {
   "cell_type": "code",
   "execution_count": 7,
   "id": "1e5a5aeb",
   "metadata": {},
   "outputs": [],
   "source": [
    "del model"
   ]
  },
  {
   "cell_type": "markdown",
   "id": "56ad56cc",
   "metadata": {},
   "source": [
    "# 3. BipedalWalker-v3"
   ]
  },
  {
   "cell_type": "code",
   "execution_count": 8,
   "id": "6bc51ea5",
   "metadata": {},
   "outputs": [
    {
     "data": {
      "text/html": [
       "wandb version 0.13.7 is available!  To upgrade, please run:\n",
       " $ pip install wandb --upgrade"
      ],
      "text/plain": [
       "<IPython.core.display.HTML object>"
      ]
     },
     "metadata": {},
     "output_type": "display_data"
    },
    {
     "data": {
      "text/html": [
       "Tracking run with wandb version 0.13.5"
      ],
      "text/plain": [
       "<IPython.core.display.HTML object>"
      ]
     },
     "metadata": {},
     "output_type": "display_data"
    },
    {
     "data": {
      "text/html": [
       "Run data is saved locally in <code>/Users/mukilankrishnakumar/Desktop/Gym/wandb/run-20230108_203224-mucg1bqc</code>"
      ],
      "text/plain": [
       "<IPython.core.display.HTML object>"
      ]
     },
     "metadata": {},
     "output_type": "display_data"
    },
    {
     "data": {
      "text/html": [
       "Syncing run <strong><a href=\"https://wandb.ai/mukilan/intro_to_gym/runs/mucg1bqc\" target=\"_blank\">expert-energy-25</a></strong> to <a href=\"https://wandb.ai/mukilan/intro_to_gym\" target=\"_blank\">Weights & Biases</a> (<a href=\"https://wandb.me/run\" target=\"_blank\">docs</a>)<br/>"
      ],
      "text/plain": [
       "<IPython.core.display.HTML object>"
      ]
     },
     "metadata": {},
     "output_type": "display_data"
    }
   ],
   "source": [
    "env_name = \"BipedalWalker-v3\"\n",
    "config = {\n",
    "    \"policy_type\": \"MlpPolicy\",\n",
    "    \"total_timesteps\": 250000,\n",
    "    \"env_name\": env_name,\n",
    "}\n",
    "run = wandb.init(\n",
    "    project=\"intro_to_gym\",\n",
    "    config=config,\n",
    "    sync_tensorboard=True,  \n",
    "    monitor_gym=True,  \n",
    "    save_code=True,  \n",
    ")"
   ]
  },
  {
   "cell_type": "code",
   "execution_count": 9,
   "id": "b880bee0",
   "metadata": {},
   "outputs": [],
   "source": [
    "env = DummyVecEnv([make_env])\n",
    "env = VecVideoRecorder(env, f\"videos/{run.id}\", record_video_trigger=lambda x: x % 200 == 0, video_length=200)"
   ]
  },
  {
   "cell_type": "code",
   "execution_count": 10,
   "id": "f4b12a49",
   "metadata": {},
   "outputs": [
    {
     "name": "stderr",
     "output_type": "stream",
     "text": [
      "\u001b[34m\u001b[1mwandb\u001b[0m: \u001b[33mWARNING\u001b[0m When using several event log directories, please call `wandb.tensorboard.patch(root_logdir=\"...\")` before `wandb.init`\n"
     ]
    },
    {
     "name": "stdout",
     "output_type": "stream",
     "text": [
      "Using cpu device\n",
      "Logging to runs/mucg1bqc/PPO_1\n",
      "Saving video to /Users/mukilankrishnakumar/Desktop/Gym/videos/mucg1bqc/rl-video-step-0-to-step-200.mp4\n",
      "Saving video to /Users/mukilankrishnakumar/Desktop/Gym/videos/mucg1bqc/rl-video-step-400-to-step-600.mp4\n",
      "Saving video to /Users/mukilankrishnakumar/Desktop/Gym/videos/mucg1bqc/rl-video-step-800-to-step-1000.mp4\n",
      "Saving video to /Users/mukilankrishnakumar/Desktop/Gym/videos/mucg1bqc/rl-video-step-1200-to-step-1400.mp4\n",
      "Saving video to /Users/mukilankrishnakumar/Desktop/Gym/videos/mucg1bqc/rl-video-step-1600-to-step-1800.mp4\n",
      "---------------------------------\n",
      "| rollout/           |          |\n",
      "|    ep_len_mean     | 832      |\n",
      "|    ep_rew_mean     | -107     |\n",
      "| time/              |          |\n",
      "|    fps             | 99       |\n",
      "|    iterations      | 1        |\n",
      "|    time_elapsed    | 20       |\n",
      "|    total_timesteps | 2048     |\n",
      "---------------------------------\n",
      "Saving video to /Users/mukilankrishnakumar/Desktop/Gym/videos/mucg1bqc/rl-video-step-2000-to-step-2200.mp4\n",
      "Saving video to /Users/mukilankrishnakumar/Desktop/Gym/videos/mucg1bqc/rl-video-step-2400-to-step-2600.mp4\n",
      "Saving video to /Users/mukilankrishnakumar/Desktop/Gym/videos/mucg1bqc/rl-video-step-2800-to-step-3000.mp4\n",
      "Saving video to /Users/mukilankrishnakumar/Desktop/Gym/videos/mucg1bqc/rl-video-step-3200-to-step-3400.mp4\n",
      "Saving video to /Users/mukilankrishnakumar/Desktop/Gym/videos/mucg1bqc/rl-video-step-3600-to-step-3800.mp4\n",
      "-----------------------------------------\n",
      "| rollout/                |             |\n",
      "|    ep_len_mean          | 459         |\n",
      "|    ep_rew_mean          | -107        |\n",
      "| time/                   |             |\n",
      "|    fps                  | 99          |\n",
      "|    iterations           | 2           |\n",
      "|    time_elapsed         | 40          |\n",
      "|    total_timesteps      | 4096        |\n",
      "| train/                  |             |\n",
      "|    approx_kl            | 0.008340959 |\n",
      "|    clip_fraction        | 0.0881      |\n",
      "|    clip_range           | 0.2         |\n",
      "|    entropy_loss         | -5.67       |\n",
      "|    explained_variance   | 0.00272     |\n",
      "|    learning_rate        | 0.0003      |\n",
      "|    loss                 | 0.608       |\n",
      "|    n_updates            | 10          |\n",
      "|    policy_gradient_loss | -0.00689    |\n",
      "|    std                  | 0.996       |\n",
      "|    value_loss           | 41.1        |\n",
      "-----------------------------------------\n",
      "Saving video to /Users/mukilankrishnakumar/Desktop/Gym/videos/mucg1bqc/rl-video-step-4000-to-step-4200.mp4\n",
      "Saving video to /Users/mukilankrishnakumar/Desktop/Gym/videos/mucg1bqc/rl-video-step-4400-to-step-4600.mp4\n",
      "Saving video to /Users/mukilankrishnakumar/Desktop/Gym/videos/mucg1bqc/rl-video-step-4800-to-step-5000.mp4\n",
      "Saving video to /Users/mukilankrishnakumar/Desktop/Gym/videos/mucg1bqc/rl-video-step-5200-to-step-5400.mp4\n",
      "Saving video to /Users/mukilankrishnakumar/Desktop/Gym/videos/mucg1bqc/rl-video-step-5600-to-step-5800.mp4\n",
      "------------------------------------------\n",
      "| rollout/                |              |\n",
      "|    ep_len_mean          | 406          |\n",
      "|    ep_rew_mean          | -107         |\n",
      "| time/                   |              |\n",
      "|    fps                  | 100          |\n",
      "|    iterations           | 3            |\n",
      "|    time_elapsed         | 61           |\n",
      "|    total_timesteps      | 6144         |\n",
      "| train/                  |              |\n",
      "|    approx_kl            | 0.0024394991 |\n",
      "|    clip_fraction        | 0.00112      |\n",
      "|    clip_range           | 0.2          |\n",
      "|    entropy_loss         | -5.65        |\n",
      "|    explained_variance   | 0.0262       |\n",
      "|    learning_rate        | 0.0003       |\n",
      "|    loss                 | 60.6         |\n",
      "|    n_updates            | 20           |\n",
      "|    policy_gradient_loss | -0.00403     |\n",
      "|    std                  | 0.995        |\n",
      "|    value_loss           | 166          |\n",
      "------------------------------------------\n",
      "Saving video to /Users/mukilankrishnakumar/Desktop/Gym/videos/mucg1bqc/rl-video-step-6000-to-step-6200.mp4\n",
      "Saving video to /Users/mukilankrishnakumar/Desktop/Gym/videos/mucg1bqc/rl-video-step-6400-to-step-6600.mp4\n",
      "Saving video to /Users/mukilankrishnakumar/Desktop/Gym/videos/mucg1bqc/rl-video-step-6800-to-step-7000.mp4\n",
      "Saving video to /Users/mukilankrishnakumar/Desktop/Gym/videos/mucg1bqc/rl-video-step-7200-to-step-7400.mp4\n",
      "Saving video to /Users/mukilankrishnakumar/Desktop/Gym/videos/mucg1bqc/rl-video-step-7600-to-step-7800.mp4\n",
      "------------------------------------------\n",
      "| rollout/                |              |\n",
      "|    ep_len_mean          | 466          |\n",
      "|    ep_rew_mean          | -108         |\n",
      "| time/                   |              |\n",
      "|    fps                  | 100          |\n",
      "|    iterations           | 4            |\n",
      "|    time_elapsed         | 81           |\n",
      "|    total_timesteps      | 8192         |\n",
      "| train/                  |              |\n",
      "|    approx_kl            | 0.0067411643 |\n",
      "|    clip_fraction        | 0.0243       |\n",
      "|    clip_range           | 0.2          |\n",
      "|    entropy_loss         | -5.65        |\n",
      "|    explained_variance   | 0.332        |\n",
      "|    learning_rate        | 0.0003       |\n",
      "|    loss                 | 14.6         |\n",
      "|    n_updates            | 30           |\n",
      "|    policy_gradient_loss | -0.00475     |\n",
      "|    std                  | 0.994        |\n",
      "|    value_loss           | 139          |\n",
      "------------------------------------------\n",
      "Saving video to /Users/mukilankrishnakumar/Desktop/Gym/videos/mucg1bqc/rl-video-step-8000-to-step-8200.mp4\n",
      "Saving video to /Users/mukilankrishnakumar/Desktop/Gym/videos/mucg1bqc/rl-video-step-8400-to-step-8600.mp4\n",
      "Saving video to /Users/mukilankrishnakumar/Desktop/Gym/videos/mucg1bqc/rl-video-step-8800-to-step-9000.mp4\n",
      "Saving video to /Users/mukilankrishnakumar/Desktop/Gym/videos/mucg1bqc/rl-video-step-9200-to-step-9400.mp4\n",
      "Saving video to /Users/mukilankrishnakumar/Desktop/Gym/videos/mucg1bqc/rl-video-step-9600-to-step-9800.mp4\n",
      "Saving video to /Users/mukilankrishnakumar/Desktop/Gym/videos/mucg1bqc/rl-video-step-10000-to-step-10200.mp4\n",
      "-----------------------------------------\n",
      "| rollout/                |             |\n",
      "|    ep_len_mean          | 532         |\n",
      "|    ep_rew_mean          | -109        |\n",
      "| time/                   |             |\n",
      "|    fps                  | 101         |\n",
      "|    iterations           | 5           |\n",
      "|    time_elapsed         | 100         |\n",
      "|    total_timesteps      | 10240       |\n",
      "| train/                  |             |\n",
      "|    approx_kl            | 0.008679418 |\n",
      "|    clip_fraction        | 0.0942      |\n",
      "|    clip_range           | 0.2         |\n",
      "|    entropy_loss         | -5.66       |\n",
      "|    explained_variance   | 0.683       |\n",
      "|    learning_rate        | 0.0003      |\n",
      "|    loss                 | 0.966       |\n",
      "|    n_updates            | 40          |\n",
      "|    policy_gradient_loss | -0.00999    |\n",
      "|    std                  | 0.995       |\n",
      "|    value_loss           | 29.1        |\n",
      "-----------------------------------------\n",
      "Saving video to /Users/mukilankrishnakumar/Desktop/Gym/videos/mucg1bqc/rl-video-step-10400-to-step-10600.mp4\n",
      "Saving video to /Users/mukilankrishnakumar/Desktop/Gym/videos/mucg1bqc/rl-video-step-10800-to-step-11000.mp4\n",
      "Saving video to /Users/mukilankrishnakumar/Desktop/Gym/videos/mucg1bqc/rl-video-step-11200-to-step-11400.mp4\n",
      "Saving video to /Users/mukilankrishnakumar/Desktop/Gym/videos/mucg1bqc/rl-video-step-11600-to-step-11800.mp4\n",
      "Saving video to /Users/mukilankrishnakumar/Desktop/Gym/videos/mucg1bqc/rl-video-step-12000-to-step-12200.mp4\n",
      "----------------------------------------\n",
      "| rollout/                |            |\n",
      "|    ep_len_mean          | 645        |\n",
      "|    ep_rew_mean          | -109       |\n",
      "| time/                   |            |\n",
      "|    fps                  | 102        |\n",
      "|    iterations           | 6          |\n",
      "|    time_elapsed         | 120        |\n",
      "|    total_timesteps      | 12288      |\n",
      "| train/                  |            |\n",
      "|    approx_kl            | 0.01279337 |\n",
      "|    clip_fraction        | 0.149      |\n",
      "|    clip_range           | 0.2        |\n",
      "|    entropy_loss         | -5.62      |\n",
      "|    explained_variance   | -0.0141    |\n",
      "|    learning_rate        | 0.0003     |\n",
      "|    loss                 | 0.156      |\n",
      "|    n_updates            | 50         |\n",
      "|    policy_gradient_loss | -0.0131    |\n",
      "|    std                  | 0.979      |\n",
      "|    value_loss           | 0.924      |\n",
      "----------------------------------------\n"
     ]
    },
    {
     "name": "stdout",
     "output_type": "stream",
     "text": [
      "Saving video to /Users/mukilankrishnakumar/Desktop/Gym/videos/mucg1bqc/rl-video-step-12400-to-step-12600.mp4\n",
      "Saving video to /Users/mukilankrishnakumar/Desktop/Gym/videos/mucg1bqc/rl-video-step-12800-to-step-13000.mp4\n",
      "Saving video to /Users/mukilankrishnakumar/Desktop/Gym/videos/mucg1bqc/rl-video-step-13200-to-step-13400.mp4\n",
      "Saving video to /Users/mukilankrishnakumar/Desktop/Gym/videos/mucg1bqc/rl-video-step-13600-to-step-13800.mp4\n",
      "Saving video to /Users/mukilankrishnakumar/Desktop/Gym/videos/mucg1bqc/rl-video-step-14000-to-step-14200.mp4\n",
      "----------------------------------------\n",
      "| rollout/                |            |\n",
      "|    ep_len_mean          | 693        |\n",
      "|    ep_rew_mean          | -109       |\n",
      "| time/                   |            |\n",
      "|    fps                  | 102        |\n",
      "|    iterations           | 7          |\n",
      "|    time_elapsed         | 139        |\n",
      "|    total_timesteps      | 14336      |\n",
      "| train/                  |            |\n",
      "|    approx_kl            | 0.00964761 |\n",
      "|    clip_fraction        | 0.0992     |\n",
      "|    clip_range           | 0.2        |\n",
      "|    entropy_loss         | -5.58      |\n",
      "|    explained_variance   | 0.936      |\n",
      "|    learning_rate        | 0.0003     |\n",
      "|    loss                 | 0.0386     |\n",
      "|    n_updates            | 60         |\n",
      "|    policy_gradient_loss | -0.0098    |\n",
      "|    std                  | 0.973      |\n",
      "|    value_loss           | 0.323      |\n",
      "----------------------------------------\n",
      "Saving video to /Users/mukilankrishnakumar/Desktop/Gym/videos/mucg1bqc/rl-video-step-14400-to-step-14600.mp4\n",
      "Saving video to /Users/mukilankrishnakumar/Desktop/Gym/videos/mucg1bqc/rl-video-step-14800-to-step-15000.mp4\n",
      "Saving video to /Users/mukilankrishnakumar/Desktop/Gym/videos/mucg1bqc/rl-video-step-15200-to-step-15400.mp4\n",
      "Saving video to /Users/mukilankrishnakumar/Desktop/Gym/videos/mucg1bqc/rl-video-step-15600-to-step-15800.mp4\n",
      "Saving video to /Users/mukilankrishnakumar/Desktop/Gym/videos/mucg1bqc/rl-video-step-16000-to-step-16200.mp4\n",
      "-----------------------------------------\n",
      "| rollout/                |             |\n",
      "|    ep_len_mean          | 736         |\n",
      "|    ep_rew_mean          | -109        |\n",
      "| time/                   |             |\n",
      "|    fps                  | 103         |\n",
      "|    iterations           | 8           |\n",
      "|    time_elapsed         | 158         |\n",
      "|    total_timesteps      | 16384       |\n",
      "| train/                  |             |\n",
      "|    approx_kl            | 0.008665902 |\n",
      "|    clip_fraction        | 0.119       |\n",
      "|    clip_range           | 0.2         |\n",
      "|    entropy_loss         | -5.56       |\n",
      "|    explained_variance   | -1.81       |\n",
      "|    learning_rate        | 0.0003      |\n",
      "|    loss                 | 0.0962      |\n",
      "|    n_updates            | 70          |\n",
      "|    policy_gradient_loss | -0.0118     |\n",
      "|    std                  | 0.97        |\n",
      "|    value_loss           | 0.328       |\n",
      "-----------------------------------------\n",
      "Saving video to /Users/mukilankrishnakumar/Desktop/Gym/videos/mucg1bqc/rl-video-step-16400-to-step-16600.mp4\n",
      "Saving video to /Users/mukilankrishnakumar/Desktop/Gym/videos/mucg1bqc/rl-video-step-16800-to-step-17000.mp4\n",
      "Saving video to /Users/mukilankrishnakumar/Desktop/Gym/videos/mucg1bqc/rl-video-step-17200-to-step-17400.mp4\n",
      "Saving video to /Users/mukilankrishnakumar/Desktop/Gym/videos/mucg1bqc/rl-video-step-17600-to-step-17800.mp4\n",
      "Saving video to /Users/mukilankrishnakumar/Desktop/Gym/videos/mucg1bqc/rl-video-step-18000-to-step-18200.mp4\n",
      "-----------------------------------------\n",
      "| rollout/                |             |\n",
      "|    ep_len_mean          | 775         |\n",
      "|    ep_rew_mean          | -108        |\n",
      "| time/                   |             |\n",
      "|    fps                  | 103         |\n",
      "|    iterations           | 9           |\n",
      "|    time_elapsed         | 178         |\n",
      "|    total_timesteps      | 18432       |\n",
      "| train/                  |             |\n",
      "|    approx_kl            | 0.013057122 |\n",
      "|    clip_fraction        | 0.121       |\n",
      "|    clip_range           | 0.2         |\n",
      "|    entropy_loss         | -5.5        |\n",
      "|    explained_variance   | 0.345       |\n",
      "|    learning_rate        | 0.0003      |\n",
      "|    loss                 | 0.079       |\n",
      "|    n_updates            | 80          |\n",
      "|    policy_gradient_loss | -0.0115     |\n",
      "|    std                  | 0.948       |\n",
      "|    value_loss           | 0.266       |\n",
      "-----------------------------------------\n",
      "Saving video to /Users/mukilankrishnakumar/Desktop/Gym/videos/mucg1bqc/rl-video-step-18400-to-step-18600.mp4\n",
      "Saving video to /Users/mukilankrishnakumar/Desktop/Gym/videos/mucg1bqc/rl-video-step-18800-to-step-19000.mp4\n",
      "Saving video to /Users/mukilankrishnakumar/Desktop/Gym/videos/mucg1bqc/rl-video-step-19200-to-step-19400.mp4\n",
      "Saving video to /Users/mukilankrishnakumar/Desktop/Gym/videos/mucg1bqc/rl-video-step-19600-to-step-19800.mp4\n",
      "Saving video to /Users/mukilankrishnakumar/Desktop/Gym/videos/mucg1bqc/rl-video-step-20000-to-step-20200.mp4\n",
      "-----------------------------------------\n",
      "| rollout/                |             |\n",
      "|    ep_len_mean          | 784         |\n",
      "|    ep_rew_mean          | -107        |\n",
      "| time/                   |             |\n",
      "|    fps                  | 103         |\n",
      "|    iterations           | 10          |\n",
      "|    time_elapsed         | 198         |\n",
      "|    total_timesteps      | 20480       |\n",
      "| train/                  |             |\n",
      "|    approx_kl            | 0.008947558 |\n",
      "|    clip_fraction        | 0.0879      |\n",
      "|    clip_range           | 0.2         |\n",
      "|    entropy_loss         | -5.44       |\n",
      "|    explained_variance   | 0.288       |\n",
      "|    learning_rate        | 0.0003      |\n",
      "|    loss                 | 0.0531      |\n",
      "|    n_updates            | 90          |\n",
      "|    policy_gradient_loss | -0.011      |\n",
      "|    std                  | 0.936       |\n",
      "|    value_loss           | 0.172       |\n",
      "-----------------------------------------\n",
      "Saving video to /Users/mukilankrishnakumar/Desktop/Gym/videos/mucg1bqc/rl-video-step-20400-to-step-20600.mp4\n",
      "Saving video to /Users/mukilankrishnakumar/Desktop/Gym/videos/mucg1bqc/rl-video-step-20800-to-step-21000.mp4\n",
      "Saving video to /Users/mukilankrishnakumar/Desktop/Gym/videos/mucg1bqc/rl-video-step-21200-to-step-21400.mp4\n",
      "Saving video to /Users/mukilankrishnakumar/Desktop/Gym/videos/mucg1bqc/rl-video-step-21600-to-step-21800.mp4\n",
      "Saving video to /Users/mukilankrishnakumar/Desktop/Gym/videos/mucg1bqc/rl-video-step-22000-to-step-22200.mp4\n",
      "-----------------------------------------\n",
      "| rollout/                |             |\n",
      "|    ep_len_mean          | 814         |\n",
      "|    ep_rew_mean          | -107        |\n",
      "| time/                   |             |\n",
      "|    fps                  | 103         |\n",
      "|    iterations           | 11          |\n",
      "|    time_elapsed         | 218         |\n",
      "|    total_timesteps      | 22528       |\n",
      "| train/                  |             |\n",
      "|    approx_kl            | 0.004923861 |\n",
      "|    clip_fraction        | 0.0415      |\n",
      "|    clip_range           | 0.2         |\n",
      "|    entropy_loss         | -5.41       |\n",
      "|    explained_variance   | 0.203       |\n",
      "|    learning_rate        | 0.0003      |\n",
      "|    loss                 | 60.5        |\n",
      "|    n_updates            | 100         |\n",
      "|    policy_gradient_loss | -0.00491    |\n",
      "|    std                  | 0.935       |\n",
      "|    value_loss           | 46.4        |\n",
      "-----------------------------------------\n",
      "Saving video to /Users/mukilankrishnakumar/Desktop/Gym/videos/mucg1bqc/rl-video-step-22400-to-step-22600.mp4\n",
      "Saving video to /Users/mukilankrishnakumar/Desktop/Gym/videos/mucg1bqc/rl-video-step-22800-to-step-23000.mp4\n",
      "Saving video to /Users/mukilankrishnakumar/Desktop/Gym/videos/mucg1bqc/rl-video-step-23200-to-step-23400.mp4\n",
      "Saving video to /Users/mukilankrishnakumar/Desktop/Gym/videos/mucg1bqc/rl-video-step-23600-to-step-23800.mp4\n",
      "Saving video to /Users/mukilankrishnakumar/Desktop/Gym/videos/mucg1bqc/rl-video-step-24000-to-step-24200.mp4\n",
      "-----------------------------------------\n",
      "| rollout/                |             |\n",
      "|    ep_len_mean          | 842         |\n",
      "|    ep_rew_mean          | -106        |\n",
      "| time/                   |             |\n",
      "|    fps                  | 102         |\n",
      "|    iterations           | 12          |\n",
      "|    time_elapsed         | 238         |\n",
      "|    total_timesteps      | 24576       |\n",
      "| train/                  |             |\n",
      "|    approx_kl            | 0.013181912 |\n",
      "|    clip_fraction        | 0.157       |\n",
      "|    clip_range           | 0.2         |\n",
      "|    entropy_loss         | -5.35       |\n",
      "|    explained_variance   | 0.243       |\n",
      "|    learning_rate        | 0.0003      |\n",
      "|    loss                 | 0.0309      |\n",
      "|    n_updates            | 110         |\n",
      "|    policy_gradient_loss | -0.0162     |\n",
      "|    std                  | 0.911       |\n",
      "|    value_loss           | 0.0769      |\n",
      "-----------------------------------------\n"
     ]
    },
    {
     "name": "stdout",
     "output_type": "stream",
     "text": [
      "Saving video to /Users/mukilankrishnakumar/Desktop/Gym/videos/mucg1bqc/rl-video-step-24400-to-step-24600.mp4\n",
      "Saving video to /Users/mukilankrishnakumar/Desktop/Gym/videos/mucg1bqc/rl-video-step-24800-to-step-25000.mp4\n",
      "Saving video to /Users/mukilankrishnakumar/Desktop/Gym/videos/mucg1bqc/rl-video-step-25200-to-step-25400.mp4\n",
      "Saving video to /Users/mukilankrishnakumar/Desktop/Gym/videos/mucg1bqc/rl-video-step-25600-to-step-25800.mp4\n",
      "Saving video to /Users/mukilankrishnakumar/Desktop/Gym/videos/mucg1bqc/rl-video-step-26000-to-step-26200.mp4\n",
      "Saving video to /Users/mukilankrishnakumar/Desktop/Gym/videos/mucg1bqc/rl-video-step-26400-to-step-26600.mp4\n",
      "-----------------------------------------\n",
      "| rollout/                |             |\n",
      "|    ep_len_mean          | 868         |\n",
      "|    ep_rew_mean          | -105        |\n",
      "| time/                   |             |\n",
      "|    fps                  | 102         |\n",
      "|    iterations           | 13          |\n",
      "|    time_elapsed         | 258         |\n",
      "|    total_timesteps      | 26624       |\n",
      "| train/                  |             |\n",
      "|    approx_kl            | 0.012112756 |\n",
      "|    clip_fraction        | 0.164       |\n",
      "|    clip_range           | 0.2         |\n",
      "|    entropy_loss         | -5.27       |\n",
      "|    explained_variance   | 0.406       |\n",
      "|    learning_rate        | 0.0003      |\n",
      "|    loss                 | -0.000685   |\n",
      "|    n_updates            | 120         |\n",
      "|    policy_gradient_loss | -0.0154     |\n",
      "|    std                  | 0.896       |\n",
      "|    value_loss           | 0.0672      |\n",
      "-----------------------------------------\n",
      "Saving video to /Users/mukilankrishnakumar/Desktop/Gym/videos/mucg1bqc/rl-video-step-26800-to-step-27000.mp4\n",
      "Saving video to /Users/mukilankrishnakumar/Desktop/Gym/videos/mucg1bqc/rl-video-step-27200-to-step-27400.mp4\n",
      "Saving video to /Users/mukilankrishnakumar/Desktop/Gym/videos/mucg1bqc/rl-video-step-27600-to-step-27800.mp4\n",
      "Saving video to /Users/mukilankrishnakumar/Desktop/Gym/videos/mucg1bqc/rl-video-step-28000-to-step-28200.mp4\n",
      "Saving video to /Users/mukilankrishnakumar/Desktop/Gym/videos/mucg1bqc/rl-video-step-28400-to-step-28600.mp4\n",
      "-----------------------------------------\n",
      "| rollout/                |             |\n",
      "|    ep_len_mean          | 916         |\n",
      "|    ep_rew_mean          | -104        |\n",
      "| time/                   |             |\n",
      "|    fps                  | 103         |\n",
      "|    iterations           | 14          |\n",
      "|    time_elapsed         | 277         |\n",
      "|    total_timesteps      | 28672       |\n",
      "| train/                  |             |\n",
      "|    approx_kl            | 0.010558871 |\n",
      "|    clip_fraction        | 0.0973      |\n",
      "|    clip_range           | 0.2         |\n",
      "|    entropy_loss         | -5.21       |\n",
      "|    explained_variance   | 0.548       |\n",
      "|    learning_rate        | 0.0003      |\n",
      "|    loss                 | 0.0192      |\n",
      "|    n_updates            | 130         |\n",
      "|    policy_gradient_loss | -0.0103     |\n",
      "|    std                  | 0.887       |\n",
      "|    value_loss           | 0.0619      |\n",
      "-----------------------------------------\n",
      "Saving video to /Users/mukilankrishnakumar/Desktop/Gym/videos/mucg1bqc/rl-video-step-28800-to-step-29000.mp4\n",
      "Saving video to /Users/mukilankrishnakumar/Desktop/Gym/videos/mucg1bqc/rl-video-step-29200-to-step-29400.mp4\n",
      "Saving video to /Users/mukilankrishnakumar/Desktop/Gym/videos/mucg1bqc/rl-video-step-29600-to-step-29800.mp4\n",
      "Saving video to /Users/mukilankrishnakumar/Desktop/Gym/videos/mucg1bqc/rl-video-step-30000-to-step-30200.mp4\n",
      "Saving video to /Users/mukilankrishnakumar/Desktop/Gym/videos/mucg1bqc/rl-video-step-30400-to-step-30600.mp4\n",
      "-----------------------------------------\n",
      "| rollout/                |             |\n",
      "|    ep_len_mean          | 937         |\n",
      "|    ep_rew_mean          | -104        |\n",
      "| time/                   |             |\n",
      "|    fps                  | 103         |\n",
      "|    iterations           | 15          |\n",
      "|    time_elapsed         | 297         |\n",
      "|    total_timesteps      | 30720       |\n",
      "| train/                  |             |\n",
      "|    approx_kl            | 0.010726893 |\n",
      "|    clip_fraction        | 0.12        |\n",
      "|    clip_range           | 0.2         |\n",
      "|    entropy_loss         | -5.2        |\n",
      "|    explained_variance   | 0.645       |\n",
      "|    learning_rate        | 0.0003      |\n",
      "|    loss                 | 0.0208      |\n",
      "|    n_updates            | 140         |\n",
      "|    policy_gradient_loss | -0.0118     |\n",
      "|    std                  | 0.888       |\n",
      "|    value_loss           | 0.0904      |\n",
      "-----------------------------------------\n",
      "Saving video to /Users/mukilankrishnakumar/Desktop/Gym/videos/mucg1bqc/rl-video-step-30800-to-step-31000.mp4\n",
      "Saving video to /Users/mukilankrishnakumar/Desktop/Gym/videos/mucg1bqc/rl-video-step-31200-to-step-31400.mp4\n",
      "Saving video to /Users/mukilankrishnakumar/Desktop/Gym/videos/mucg1bqc/rl-video-step-31600-to-step-31800.mp4\n",
      "Saving video to /Users/mukilankrishnakumar/Desktop/Gym/videos/mucg1bqc/rl-video-step-32000-to-step-32200.mp4\n",
      "Saving video to /Users/mukilankrishnakumar/Desktop/Gym/videos/mucg1bqc/rl-video-step-32400-to-step-32600.mp4\n",
      "-----------------------------------------\n",
      "| rollout/                |             |\n",
      "|    ep_len_mean          | 957         |\n",
      "|    ep_rew_mean          | -103        |\n",
      "| time/                   |             |\n",
      "|    fps                  | 103         |\n",
      "|    iterations           | 16          |\n",
      "|    time_elapsed         | 316         |\n",
      "|    total_timesteps      | 32768       |\n",
      "| train/                  |             |\n",
      "|    approx_kl            | 0.009676622 |\n",
      "|    clip_fraction        | 0.107       |\n",
      "|    clip_range           | 0.2         |\n",
      "|    entropy_loss         | -5.18       |\n",
      "|    explained_variance   | 0.441       |\n",
      "|    learning_rate        | 0.0003      |\n",
      "|    loss                 | 0.0128      |\n",
      "|    n_updates            | 150         |\n",
      "|    policy_gradient_loss | -0.00799    |\n",
      "|    std                  | 0.878       |\n",
      "|    value_loss           | 0.0632      |\n",
      "-----------------------------------------\n",
      "Saving video to /Users/mukilankrishnakumar/Desktop/Gym/videos/mucg1bqc/rl-video-step-32800-to-step-33000.mp4\n",
      "Saving video to /Users/mukilankrishnakumar/Desktop/Gym/videos/mucg1bqc/rl-video-step-33200-to-step-33400.mp4\n",
      "Saving video to /Users/mukilankrishnakumar/Desktop/Gym/videos/mucg1bqc/rl-video-step-33600-to-step-33800.mp4\n",
      "Saving video to /Users/mukilankrishnakumar/Desktop/Gym/videos/mucg1bqc/rl-video-step-34000-to-step-34200.mp4\n",
      "Saving video to /Users/mukilankrishnakumar/Desktop/Gym/videos/mucg1bqc/rl-video-step-34400-to-step-34600.mp4\n",
      "-----------------------------------------\n",
      "| rollout/                |             |\n",
      "|    ep_len_mean          | 994         |\n",
      "|    ep_rew_mean          | -101        |\n",
      "| time/                   |             |\n",
      "|    fps                  | 103         |\n",
      "|    iterations           | 17          |\n",
      "|    time_elapsed         | 335         |\n",
      "|    total_timesteps      | 34816       |\n",
      "| train/                  |             |\n",
      "|    approx_kl            | 0.009713427 |\n",
      "|    clip_fraction        | 0.0936      |\n",
      "|    clip_range           | 0.2         |\n",
      "|    entropy_loss         | -5.1        |\n",
      "|    explained_variance   | 0.754       |\n",
      "|    learning_rate        | 0.0003      |\n",
      "|    loss                 | 0.0184      |\n",
      "|    n_updates            | 160         |\n",
      "|    policy_gradient_loss | -0.0142     |\n",
      "|    std                  | 0.858       |\n",
      "|    value_loss           | 0.0797      |\n",
      "-----------------------------------------\n",
      "Saving video to /Users/mukilankrishnakumar/Desktop/Gym/videos/mucg1bqc/rl-video-step-34800-to-step-35000.mp4\n",
      "Saving video to /Users/mukilankrishnakumar/Desktop/Gym/videos/mucg1bqc/rl-video-step-35200-to-step-35400.mp4\n",
      "Saving video to /Users/mukilankrishnakumar/Desktop/Gym/videos/mucg1bqc/rl-video-step-35600-to-step-35800.mp4\n",
      "Saving video to /Users/mukilankrishnakumar/Desktop/Gym/videos/mucg1bqc/rl-video-step-36000-to-step-36200.mp4\n",
      "Saving video to /Users/mukilankrishnakumar/Desktop/Gym/videos/mucg1bqc/rl-video-step-36400-to-step-36600.mp4\n",
      "-----------------------------------------\n",
      "| rollout/                |             |\n",
      "|    ep_len_mean          | 1.01e+03    |\n",
      "|    ep_rew_mean          | -99.8       |\n",
      "| time/                   |             |\n",
      "|    fps                  | 103         |\n",
      "|    iterations           | 18          |\n",
      "|    time_elapsed         | 356         |\n",
      "|    total_timesteps      | 36864       |\n",
      "| train/                  |             |\n",
      "|    approx_kl            | 0.009778601 |\n",
      "|    clip_fraction        | 0.0939      |\n",
      "|    clip_range           | 0.2         |\n",
      "|    entropy_loss         | -5.04       |\n",
      "|    explained_variance   | 0.693       |\n",
      "|    learning_rate        | 0.0003      |\n",
      "|    loss                 | 0.0449      |\n",
      "|    n_updates            | 170         |\n",
      "|    policy_gradient_loss | -0.00847    |\n",
      "|    std                  | 0.85        |\n",
      "|    value_loss           | 0.0847      |\n",
      "-----------------------------------------\n"
     ]
    },
    {
     "name": "stdout",
     "output_type": "stream",
     "text": [
      "Saving video to /Users/mukilankrishnakumar/Desktop/Gym/videos/mucg1bqc/rl-video-step-36800-to-step-37000.mp4\n",
      "Saving video to /Users/mukilankrishnakumar/Desktop/Gym/videos/mucg1bqc/rl-video-step-37200-to-step-37400.mp4\n",
      "Saving video to /Users/mukilankrishnakumar/Desktop/Gym/videos/mucg1bqc/rl-video-step-37600-to-step-37800.mp4\n",
      "Saving video to /Users/mukilankrishnakumar/Desktop/Gym/videos/mucg1bqc/rl-video-step-38000-to-step-38200.mp4\n",
      "Saving video to /Users/mukilankrishnakumar/Desktop/Gym/videos/mucg1bqc/rl-video-step-38400-to-step-38600.mp4\n",
      "------------------------------------------\n",
      "| rollout/                |              |\n",
      "|    ep_len_mean          | 1e+03        |\n",
      "|    ep_rew_mean          | -99          |\n",
      "| time/                   |              |\n",
      "|    fps                  | 103          |\n",
      "|    iterations           | 19           |\n",
      "|    time_elapsed         | 376          |\n",
      "|    total_timesteps      | 38912        |\n",
      "| train/                  |              |\n",
      "|    approx_kl            | 0.0103736725 |\n",
      "|    clip_fraction        | 0.108        |\n",
      "|    clip_range           | 0.2          |\n",
      "|    entropy_loss         | -5           |\n",
      "|    explained_variance   | 0.77         |\n",
      "|    learning_rate        | 0.0003       |\n",
      "|    loss                 | 0.0249       |\n",
      "|    n_updates            | 180          |\n",
      "|    policy_gradient_loss | -0.013       |\n",
      "|    std                  | 0.839        |\n",
      "|    value_loss           | 0.0836       |\n",
      "------------------------------------------\n",
      "Saving video to /Users/mukilankrishnakumar/Desktop/Gym/videos/mucg1bqc/rl-video-step-38800-to-step-39000.mp4\n",
      "Saving video to /Users/mukilankrishnakumar/Desktop/Gym/videos/mucg1bqc/rl-video-step-39200-to-step-39400.mp4\n",
      "Saving video to /Users/mukilankrishnakumar/Desktop/Gym/videos/mucg1bqc/rl-video-step-39600-to-step-39800.mp4\n",
      "Saving video to /Users/mukilankrishnakumar/Desktop/Gym/videos/mucg1bqc/rl-video-step-40000-to-step-40200.mp4\n",
      "Saving video to /Users/mukilankrishnakumar/Desktop/Gym/videos/mucg1bqc/rl-video-step-40400-to-step-40600.mp4\n",
      "------------------------------------------\n",
      "| rollout/                |              |\n",
      "|    ep_len_mean          | 1.02e+03     |\n",
      "|    ep_rew_mean          | -98.1        |\n",
      "| time/                   |              |\n",
      "|    fps                  | 103          |\n",
      "|    iterations           | 20           |\n",
      "|    time_elapsed         | 396          |\n",
      "|    total_timesteps      | 40960        |\n",
      "| train/                  |              |\n",
      "|    approx_kl            | 0.0074881325 |\n",
      "|    clip_fraction        | 0.0747       |\n",
      "|    clip_range           | 0.2          |\n",
      "|    entropy_loss         | -4.97        |\n",
      "|    explained_variance   | 0.37         |\n",
      "|    learning_rate        | 0.0003       |\n",
      "|    loss                 | 15.4         |\n",
      "|    n_updates            | 190          |\n",
      "|    policy_gradient_loss | -0.00707     |\n",
      "|    std                  | 0.84         |\n",
      "|    value_loss           | 19.3         |\n",
      "------------------------------------------\n",
      "Saving video to /Users/mukilankrishnakumar/Desktop/Gym/videos/mucg1bqc/rl-video-step-40800-to-step-41000.mp4\n",
      "Saving video to /Users/mukilankrishnakumar/Desktop/Gym/videos/mucg1bqc/rl-video-step-41200-to-step-41400.mp4\n",
      "Saving video to /Users/mukilankrishnakumar/Desktop/Gym/videos/mucg1bqc/rl-video-step-41600-to-step-41800.mp4\n",
      "Saving video to /Users/mukilankrishnakumar/Desktop/Gym/videos/mucg1bqc/rl-video-step-42000-to-step-42200.mp4\n",
      "Saving video to /Users/mukilankrishnakumar/Desktop/Gym/videos/mucg1bqc/rl-video-step-42400-to-step-42600.mp4\n",
      "Saving video to /Users/mukilankrishnakumar/Desktop/Gym/videos/mucg1bqc/rl-video-step-42800-to-step-43000.mp4\n",
      "-----------------------------------------\n",
      "| rollout/                |             |\n",
      "|    ep_len_mean          | 1.04e+03    |\n",
      "|    ep_rew_mean          | -96.2       |\n",
      "| time/                   |             |\n",
      "|    fps                  | 103         |\n",
      "|    iterations           | 21          |\n",
      "|    time_elapsed         | 416         |\n",
      "|    total_timesteps      | 43008       |\n",
      "| train/                  |             |\n",
      "|    approx_kl            | 0.010586977 |\n",
      "|    clip_fraction        | 0.112       |\n",
      "|    clip_range           | 0.2         |\n",
      "|    entropy_loss         | -4.96       |\n",
      "|    explained_variance   | 0.42        |\n",
      "|    learning_rate        | 0.0003      |\n",
      "|    loss                 | -0.000113   |\n",
      "|    n_updates            | 200         |\n",
      "|    policy_gradient_loss | -0.00925    |\n",
      "|    std                  | 0.836       |\n",
      "|    value_loss           | 0.0941      |\n",
      "-----------------------------------------\n",
      "Saving video to /Users/mukilankrishnakumar/Desktop/Gym/videos/mucg1bqc/rl-video-step-43200-to-step-43400.mp4\n",
      "Saving video to /Users/mukilankrishnakumar/Desktop/Gym/videos/mucg1bqc/rl-video-step-43600-to-step-43800.mp4\n",
      "Saving video to /Users/mukilankrishnakumar/Desktop/Gym/videos/mucg1bqc/rl-video-step-44000-to-step-44200.mp4\n",
      "Saving video to /Users/mukilankrishnakumar/Desktop/Gym/videos/mucg1bqc/rl-video-step-44400-to-step-44600.mp4\n",
      "Saving video to /Users/mukilankrishnakumar/Desktop/Gym/videos/mucg1bqc/rl-video-step-44800-to-step-45000.mp4\n",
      "-----------------------------------------\n",
      "| rollout/                |             |\n",
      "|    ep_len_mean          | 1.06e+03    |\n",
      "|    ep_rew_mean          | -95.5       |\n",
      "| time/                   |             |\n",
      "|    fps                  | 103         |\n",
      "|    iterations           | 22          |\n",
      "|    time_elapsed         | 435         |\n",
      "|    total_timesteps      | 45056       |\n",
      "| train/                  |             |\n",
      "|    approx_kl            | 0.007837964 |\n",
      "|    clip_fraction        | 0.0848      |\n",
      "|    clip_range           | 0.2         |\n",
      "|    entropy_loss         | -4.92       |\n",
      "|    explained_variance   | 0.616       |\n",
      "|    learning_rate        | 0.0003      |\n",
      "|    loss                 | 0.0764      |\n",
      "|    n_updates            | 210         |\n",
      "|    policy_gradient_loss | -0.0108     |\n",
      "|    std                  | 0.823       |\n",
      "|    value_loss           | 0.147       |\n",
      "-----------------------------------------\n",
      "Saving video to /Users/mukilankrishnakumar/Desktop/Gym/videos/mucg1bqc/rl-video-step-45200-to-step-45400.mp4\n",
      "Saving video to /Users/mukilankrishnakumar/Desktop/Gym/videos/mucg1bqc/rl-video-step-45600-to-step-45800.mp4\n",
      "Saving video to /Users/mukilankrishnakumar/Desktop/Gym/videos/mucg1bqc/rl-video-step-46000-to-step-46200.mp4\n",
      "Saving video to /Users/mukilankrishnakumar/Desktop/Gym/videos/mucg1bqc/rl-video-step-46400-to-step-46600.mp4\n",
      "Saving video to /Users/mukilankrishnakumar/Desktop/Gym/videos/mucg1bqc/rl-video-step-46800-to-step-47000.mp4\n",
      "----------------------------------------\n",
      "| rollout/                |            |\n",
      "|    ep_len_mean          | 1.07e+03   |\n",
      "|    ep_rew_mean          | -94.6      |\n",
      "| time/                   |            |\n",
      "|    fps                  | 103        |\n",
      "|    iterations           | 23         |\n",
      "|    time_elapsed         | 454        |\n",
      "|    total_timesteps      | 47104      |\n",
      "| train/                  |            |\n",
      "|    approx_kl            | 0.00966098 |\n",
      "|    clip_fraction        | 0.106      |\n",
      "|    clip_range           | 0.2        |\n",
      "|    entropy_loss         | -4.86      |\n",
      "|    explained_variance   | 0.73       |\n",
      "|    learning_rate        | 0.0003     |\n",
      "|    loss                 | 0.0369     |\n",
      "|    n_updates            | 220        |\n",
      "|    policy_gradient_loss | -0.0111    |\n",
      "|    std                  | 0.812      |\n",
      "|    value_loss           | 0.0744     |\n",
      "----------------------------------------\n",
      "Saving video to /Users/mukilankrishnakumar/Desktop/Gym/videos/mucg1bqc/rl-video-step-47200-to-step-47400.mp4\n",
      "Saving video to /Users/mukilankrishnakumar/Desktop/Gym/videos/mucg1bqc/rl-video-step-47600-to-step-47800.mp4\n",
      "Saving video to /Users/mukilankrishnakumar/Desktop/Gym/videos/mucg1bqc/rl-video-step-48000-to-step-48200.mp4\n",
      "Saving video to /Users/mukilankrishnakumar/Desktop/Gym/videos/mucg1bqc/rl-video-step-48400-to-step-48600.mp4\n",
      "Saving video to /Users/mukilankrishnakumar/Desktop/Gym/videos/mucg1bqc/rl-video-step-48800-to-step-49000.mp4\n",
      "-----------------------------------------\n",
      "| rollout/                |             |\n",
      "|    ep_len_mean          | 1.08e+03    |\n",
      "|    ep_rew_mean          | -93.7       |\n",
      "| time/                   |             |\n",
      "|    fps                  | 103         |\n",
      "|    iterations           | 24          |\n",
      "|    time_elapsed         | 474         |\n",
      "|    total_timesteps      | 49152       |\n",
      "| train/                  |             |\n",
      "|    approx_kl            | 0.009245972 |\n",
      "|    clip_fraction        | 0.108       |\n",
      "|    clip_range           | 0.2         |\n",
      "|    entropy_loss         | -4.82       |\n",
      "|    explained_variance   | 0.638       |\n",
      "|    learning_rate        | 0.0003      |\n",
      "|    loss                 | 0.0502      |\n",
      "|    n_updates            | 230         |\n",
      "|    policy_gradient_loss | -0.0101     |\n",
      "|    std                  | 0.804       |\n",
      "|    value_loss           | 0.115       |\n",
      "-----------------------------------------\n"
     ]
    },
    {
     "name": "stdout",
     "output_type": "stream",
     "text": [
      "Saving video to /Users/mukilankrishnakumar/Desktop/Gym/videos/mucg1bqc/rl-video-step-49200-to-step-49400.mp4\n",
      "Saving video to /Users/mukilankrishnakumar/Desktop/Gym/videos/mucg1bqc/rl-video-step-49600-to-step-49800.mp4\n",
      "Saving video to /Users/mukilankrishnakumar/Desktop/Gym/videos/mucg1bqc/rl-video-step-50000-to-step-50200.mp4\n",
      "Saving video to /Users/mukilankrishnakumar/Desktop/Gym/videos/mucg1bqc/rl-video-step-50400-to-step-50600.mp4\n",
      "Saving video to /Users/mukilankrishnakumar/Desktop/Gym/videos/mucg1bqc/rl-video-step-50800-to-step-51000.mp4\n",
      "-----------------------------------------\n",
      "| rollout/                |             |\n",
      "|    ep_len_mean          | 1.11e+03    |\n",
      "|    ep_rew_mean          | -91.4       |\n",
      "| time/                   |             |\n",
      "|    fps                  | 103         |\n",
      "|    iterations           | 25          |\n",
      "|    time_elapsed         | 493         |\n",
      "|    total_timesteps      | 51200       |\n",
      "| train/                  |             |\n",
      "|    approx_kl            | 0.010601426 |\n",
      "|    clip_fraction        | 0.133       |\n",
      "|    clip_range           | 0.2         |\n",
      "|    entropy_loss         | -4.79       |\n",
      "|    explained_variance   | 0.781       |\n",
      "|    learning_rate        | 0.0003      |\n",
      "|    loss                 | 0.0436      |\n",
      "|    n_updates            | 240         |\n",
      "|    policy_gradient_loss | -0.0142     |\n",
      "|    std                  | 0.801       |\n",
      "|    value_loss           | 0.124       |\n",
      "-----------------------------------------\n",
      "Saving video to /Users/mukilankrishnakumar/Desktop/Gym/videos/mucg1bqc/rl-video-step-51200-to-step-51400.mp4\n",
      "Saving video to /Users/mukilankrishnakumar/Desktop/Gym/videos/mucg1bqc/rl-video-step-51600-to-step-51800.mp4\n",
      "Saving video to /Users/mukilankrishnakumar/Desktop/Gym/videos/mucg1bqc/rl-video-step-52000-to-step-52200.mp4\n",
      "Saving video to /Users/mukilankrishnakumar/Desktop/Gym/videos/mucg1bqc/rl-video-step-52400-to-step-52600.mp4\n",
      "Saving video to /Users/mukilankrishnakumar/Desktop/Gym/videos/mucg1bqc/rl-video-step-52800-to-step-53000.mp4\n",
      "----------------------------------------\n",
      "| rollout/                |            |\n",
      "|    ep_len_mean          | 1.12e+03   |\n",
      "|    ep_rew_mean          | -90.4      |\n",
      "| time/                   |            |\n",
      "|    fps                  | 103        |\n",
      "|    iterations           | 26         |\n",
      "|    time_elapsed         | 513        |\n",
      "|    total_timesteps      | 53248      |\n",
      "| train/                  |            |\n",
      "|    approx_kl            | 0.00946939 |\n",
      "|    clip_fraction        | 0.107      |\n",
      "|    clip_range           | 0.2        |\n",
      "|    entropy_loss         | -4.76      |\n",
      "|    explained_variance   | 0.815      |\n",
      "|    learning_rate        | 0.0003     |\n",
      "|    loss                 | 0.0524     |\n",
      "|    n_updates            | 250        |\n",
      "|    policy_gradient_loss | -0.0133    |\n",
      "|    std                  | 0.794      |\n",
      "|    value_loss           | 0.166      |\n",
      "----------------------------------------\n",
      "Saving video to /Users/mukilankrishnakumar/Desktop/Gym/videos/mucg1bqc/rl-video-step-53200-to-step-53400.mp4\n",
      "Saving video to /Users/mukilankrishnakumar/Desktop/Gym/videos/mucg1bqc/rl-video-step-53600-to-step-53800.mp4\n",
      "Saving video to /Users/mukilankrishnakumar/Desktop/Gym/videos/mucg1bqc/rl-video-step-54000-to-step-54200.mp4\n",
      "Saving video to /Users/mukilankrishnakumar/Desktop/Gym/videos/mucg1bqc/rl-video-step-54400-to-step-54600.mp4\n",
      "Saving video to /Users/mukilankrishnakumar/Desktop/Gym/videos/mucg1bqc/rl-video-step-54800-to-step-55000.mp4\n",
      "-----------------------------------------\n",
      "| rollout/                |             |\n",
      "|    ep_len_mean          | 1.13e+03    |\n",
      "|    ep_rew_mean          | -89.2       |\n",
      "| time/                   |             |\n",
      "|    fps                  | 103         |\n",
      "|    iterations           | 27          |\n",
      "|    time_elapsed         | 533         |\n",
      "|    total_timesteps      | 55296       |\n",
      "| train/                  |             |\n",
      "|    approx_kl            | 0.010701187 |\n",
      "|    clip_fraction        | 0.0987      |\n",
      "|    clip_range           | 0.2         |\n",
      "|    entropy_loss         | -4.72       |\n",
      "|    explained_variance   | 0.855       |\n",
      "|    learning_rate        | 0.0003      |\n",
      "|    loss                 | 0.0267      |\n",
      "|    n_updates            | 260         |\n",
      "|    policy_gradient_loss | -0.00835    |\n",
      "|    std                  | 0.785       |\n",
      "|    value_loss           | 0.124       |\n",
      "-----------------------------------------\n",
      "Saving video to /Users/mukilankrishnakumar/Desktop/Gym/videos/mucg1bqc/rl-video-step-55200-to-step-55400.mp4\n",
      "Saving video to /Users/mukilankrishnakumar/Desktop/Gym/videos/mucg1bqc/rl-video-step-55600-to-step-55800.mp4\n",
      "Saving video to /Users/mukilankrishnakumar/Desktop/Gym/videos/mucg1bqc/rl-video-step-56000-to-step-56200.mp4\n",
      "Saving video to /Users/mukilankrishnakumar/Desktop/Gym/videos/mucg1bqc/rl-video-step-56400-to-step-56600.mp4\n",
      "Saving video to /Users/mukilankrishnakumar/Desktop/Gym/videos/mucg1bqc/rl-video-step-56800-to-step-57000.mp4\n",
      "-----------------------------------------\n",
      "| rollout/                |             |\n",
      "|    ep_len_mean          | 1.14e+03    |\n",
      "|    ep_rew_mean          | -86.8       |\n",
      "| time/                   |             |\n",
      "|    fps                  | 103         |\n",
      "|    iterations           | 28          |\n",
      "|    time_elapsed         | 554         |\n",
      "|    total_timesteps      | 57344       |\n",
      "| train/                  |             |\n",
      "|    approx_kl            | 0.010196877 |\n",
      "|    clip_fraction        | 0.133       |\n",
      "|    clip_range           | 0.2         |\n",
      "|    entropy_loss         | -4.68       |\n",
      "|    explained_variance   | 0.723       |\n",
      "|    learning_rate        | 0.0003      |\n",
      "|    loss                 | 0.0201      |\n",
      "|    n_updates            | 270         |\n",
      "|    policy_gradient_loss | -0.0118     |\n",
      "|    std                  | 0.777       |\n",
      "|    value_loss           | 0.115       |\n",
      "-----------------------------------------\n",
      "Saving video to /Users/mukilankrishnakumar/Desktop/Gym/videos/mucg1bqc/rl-video-step-57200-to-step-57400.mp4\n",
      "Saving video to /Users/mukilankrishnakumar/Desktop/Gym/videos/mucg1bqc/rl-video-step-57600-to-step-57800.mp4\n",
      "Saving video to /Users/mukilankrishnakumar/Desktop/Gym/videos/mucg1bqc/rl-video-step-58000-to-step-58200.mp4\n",
      "Saving video to /Users/mukilankrishnakumar/Desktop/Gym/videos/mucg1bqc/rl-video-step-58400-to-step-58600.mp4\n",
      "Saving video to /Users/mukilankrishnakumar/Desktop/Gym/videos/mucg1bqc/rl-video-step-58800-to-step-59000.mp4\n",
      "-----------------------------------------\n",
      "| rollout/                |             |\n",
      "|    ep_len_mean          | 1.15e+03    |\n",
      "|    ep_rew_mean          | -85         |\n",
      "| time/                   |             |\n",
      "|    fps                  | 103         |\n",
      "|    iterations           | 29          |\n",
      "|    time_elapsed         | 574         |\n",
      "|    total_timesteps      | 59392       |\n",
      "| train/                  |             |\n",
      "|    approx_kl            | 0.010991659 |\n",
      "|    clip_fraction        | 0.127       |\n",
      "|    clip_range           | 0.2         |\n",
      "|    entropy_loss         | -4.63       |\n",
      "|    explained_variance   | 0.685       |\n",
      "|    learning_rate        | 0.0003      |\n",
      "|    loss                 | 0.0586      |\n",
      "|    n_updates            | 280         |\n",
      "|    policy_gradient_loss | -0.0142     |\n",
      "|    std                  | 0.767       |\n",
      "|    value_loss           | 0.172       |\n",
      "-----------------------------------------\n",
      "Saving video to /Users/mukilankrishnakumar/Desktop/Gym/videos/mucg1bqc/rl-video-step-59200-to-step-59400.mp4\n",
      "Saving video to /Users/mukilankrishnakumar/Desktop/Gym/videos/mucg1bqc/rl-video-step-59600-to-step-59800.mp4\n",
      "Saving video to /Users/mukilankrishnakumar/Desktop/Gym/videos/mucg1bqc/rl-video-step-60000-to-step-60200.mp4\n",
      "Saving video to /Users/mukilankrishnakumar/Desktop/Gym/videos/mucg1bqc/rl-video-step-60400-to-step-60600.mp4\n",
      "Saving video to /Users/mukilankrishnakumar/Desktop/Gym/videos/mucg1bqc/rl-video-step-60800-to-step-61000.mp4\n",
      "Saving video to /Users/mukilankrishnakumar/Desktop/Gym/videos/mucg1bqc/rl-video-step-61200-to-step-61400.mp4\n",
      "-----------------------------------------\n",
      "| rollout/                |             |\n",
      "|    ep_len_mean          | 1.16e+03    |\n",
      "|    ep_rew_mean          | -83.2       |\n",
      "| time/                   |             |\n",
      "|    fps                  | 103         |\n",
      "|    iterations           | 30          |\n",
      "|    time_elapsed         | 593         |\n",
      "|    total_timesteps      | 61440       |\n",
      "| train/                  |             |\n",
      "|    approx_kl            | 0.010007954 |\n",
      "|    clip_fraction        | 0.136       |\n",
      "|    clip_range           | 0.2         |\n",
      "|    entropy_loss         | -4.59       |\n",
      "|    explained_variance   | 0.827       |\n",
      "|    learning_rate        | 0.0003      |\n",
      "|    loss                 | 0.0943      |\n",
      "|    n_updates            | 290         |\n",
      "|    policy_gradient_loss | -0.0162     |\n",
      "|    std                  | 0.761       |\n",
      "|    value_loss           | 0.275       |\n",
      "-----------------------------------------\n"
     ]
    },
    {
     "name": "stdout",
     "output_type": "stream",
     "text": [
      "Saving video to /Users/mukilankrishnakumar/Desktop/Gym/videos/mucg1bqc/rl-video-step-61600-to-step-61800.mp4\n",
      "Saving video to /Users/mukilankrishnakumar/Desktop/Gym/videos/mucg1bqc/rl-video-step-62000-to-step-62200.mp4\n",
      "Saving video to /Users/mukilankrishnakumar/Desktop/Gym/videos/mucg1bqc/rl-video-step-62400-to-step-62600.mp4\n",
      "Saving video to /Users/mukilankrishnakumar/Desktop/Gym/videos/mucg1bqc/rl-video-step-62800-to-step-63000.mp4\n",
      "Saving video to /Users/mukilankrishnakumar/Desktop/Gym/videos/mucg1bqc/rl-video-step-63200-to-step-63400.mp4\n",
      "-----------------------------------------\n",
      "| rollout/                |             |\n",
      "|    ep_len_mean          | 1.17e+03    |\n",
      "|    ep_rew_mean          | -81.4       |\n",
      "| time/                   |             |\n",
      "|    fps                  | 103         |\n",
      "|    iterations           | 31          |\n",
      "|    time_elapsed         | 612         |\n",
      "|    total_timesteps      | 63488       |\n",
      "| train/                  |             |\n",
      "|    approx_kl            | 0.010610271 |\n",
      "|    clip_fraction        | 0.119       |\n",
      "|    clip_range           | 0.2         |\n",
      "|    entropy_loss         | -4.56       |\n",
      "|    explained_variance   | 0.801       |\n",
      "|    learning_rate        | 0.0003      |\n",
      "|    loss                 | 0.0854      |\n",
      "|    n_updates            | 300         |\n",
      "|    policy_gradient_loss | -0.0129     |\n",
      "|    std                  | 0.754       |\n",
      "|    value_loss           | 0.233       |\n",
      "-----------------------------------------\n",
      "Saving video to /Users/mukilankrishnakumar/Desktop/Gym/videos/mucg1bqc/rl-video-step-63600-to-step-63800.mp4\n",
      "Saving video to /Users/mukilankrishnakumar/Desktop/Gym/videos/mucg1bqc/rl-video-step-64000-to-step-64200.mp4\n",
      "Saving video to /Users/mukilankrishnakumar/Desktop/Gym/videos/mucg1bqc/rl-video-step-64400-to-step-64600.mp4\n",
      "Saving video to /Users/mukilankrishnakumar/Desktop/Gym/videos/mucg1bqc/rl-video-step-64800-to-step-65000.mp4\n",
      "Saving video to /Users/mukilankrishnakumar/Desktop/Gym/videos/mucg1bqc/rl-video-step-65200-to-step-65400.mp4\n",
      "----------------------------------------\n",
      "| rollout/                |            |\n",
      "|    ep_len_mean          | 1.19e+03   |\n",
      "|    ep_rew_mean          | -77.6      |\n",
      "| time/                   |            |\n",
      "|    fps                  | 103        |\n",
      "|    iterations           | 32         |\n",
      "|    time_elapsed         | 632        |\n",
      "|    total_timesteps      | 65536      |\n",
      "| train/                  |            |\n",
      "|    approx_kl            | 0.01171455 |\n",
      "|    clip_fraction        | 0.129      |\n",
      "|    clip_range           | 0.2        |\n",
      "|    entropy_loss         | -4.53      |\n",
      "|    explained_variance   | 0.841      |\n",
      "|    learning_rate        | 0.0003     |\n",
      "|    loss                 | 0.127      |\n",
      "|    n_updates            | 310        |\n",
      "|    policy_gradient_loss | -0.0136    |\n",
      "|    std                  | 0.748      |\n",
      "|    value_loss           | 0.265      |\n",
      "----------------------------------------\n",
      "Saving video to /Users/mukilankrishnakumar/Desktop/Gym/videos/mucg1bqc/rl-video-step-65600-to-step-65800.mp4\n",
      "Saving video to /Users/mukilankrishnakumar/Desktop/Gym/videos/mucg1bqc/rl-video-step-66000-to-step-66200.mp4\n",
      "Saving video to /Users/mukilankrishnakumar/Desktop/Gym/videos/mucg1bqc/rl-video-step-66400-to-step-66600.mp4\n",
      "Saving video to /Users/mukilankrishnakumar/Desktop/Gym/videos/mucg1bqc/rl-video-step-66800-to-step-67000.mp4\n",
      "Saving video to /Users/mukilankrishnakumar/Desktop/Gym/videos/mucg1bqc/rl-video-step-67200-to-step-67400.mp4\n",
      "-----------------------------------------\n",
      "| rollout/                |             |\n",
      "|    ep_len_mean          | 1.17e+03    |\n",
      "|    ep_rew_mean          | -76.2       |\n",
      "| time/                   |             |\n",
      "|    fps                  | 103         |\n",
      "|    iterations           | 33          |\n",
      "|    time_elapsed         | 651         |\n",
      "|    total_timesteps      | 67584       |\n",
      "| train/                  |             |\n",
      "|    approx_kl            | 0.010662811 |\n",
      "|    clip_fraction        | 0.128       |\n",
      "|    clip_range           | 0.2         |\n",
      "|    entropy_loss         | -4.49       |\n",
      "|    explained_variance   | 0.825       |\n",
      "|    learning_rate        | 0.0003      |\n",
      "|    loss                 | 0.157       |\n",
      "|    n_updates            | 320         |\n",
      "|    policy_gradient_loss | -0.0146     |\n",
      "|    std                  | 0.739       |\n",
      "|    value_loss           | 0.286       |\n",
      "-----------------------------------------\n",
      "Saving video to /Users/mukilankrishnakumar/Desktop/Gym/videos/mucg1bqc/rl-video-step-67600-to-step-67800.mp4\n",
      "Saving video to /Users/mukilankrishnakumar/Desktop/Gym/videos/mucg1bqc/rl-video-step-68000-to-step-68200.mp4\n",
      "Saving video to /Users/mukilankrishnakumar/Desktop/Gym/videos/mucg1bqc/rl-video-step-68400-to-step-68600.mp4\n",
      "Saving video to /Users/mukilankrishnakumar/Desktop/Gym/videos/mucg1bqc/rl-video-step-68800-to-step-69000.mp4\n",
      "Saving video to /Users/mukilankrishnakumar/Desktop/Gym/videos/mucg1bqc/rl-video-step-69200-to-step-69400.mp4\n",
      "-----------------------------------------\n",
      "| rollout/                |             |\n",
      "|    ep_len_mean          | 1.18e+03    |\n",
      "|    ep_rew_mean          | -74.2       |\n",
      "| time/                   |             |\n",
      "|    fps                  | 103         |\n",
      "|    iterations           | 34          |\n",
      "|    time_elapsed         | 671         |\n",
      "|    total_timesteps      | 69632       |\n",
      "| train/                  |             |\n",
      "|    approx_kl            | 0.009068446 |\n",
      "|    clip_fraction        | 0.0909      |\n",
      "|    clip_range           | 0.2         |\n",
      "|    entropy_loss         | -4.45       |\n",
      "|    explained_variance   | -0.133      |\n",
      "|    learning_rate        | 0.0003      |\n",
      "|    loss                 | 4.48        |\n",
      "|    n_updates            | 330         |\n",
      "|    policy_gradient_loss | -0.00957    |\n",
      "|    std                  | 0.734       |\n",
      "|    value_loss           | 39.2        |\n",
      "-----------------------------------------\n",
      "Saving video to /Users/mukilankrishnakumar/Desktop/Gym/videos/mucg1bqc/rl-video-step-69600-to-step-69800.mp4\n",
      "Saving video to /Users/mukilankrishnakumar/Desktop/Gym/videos/mucg1bqc/rl-video-step-70000-to-step-70200.mp4\n",
      "Saving video to /Users/mukilankrishnakumar/Desktop/Gym/videos/mucg1bqc/rl-video-step-70400-to-step-70600.mp4\n",
      "Saving video to /Users/mukilankrishnakumar/Desktop/Gym/videos/mucg1bqc/rl-video-step-70800-to-step-71000.mp4\n",
      "Saving video to /Users/mukilankrishnakumar/Desktop/Gym/videos/mucg1bqc/rl-video-step-71200-to-step-71400.mp4\n",
      "-----------------------------------------\n",
      "| rollout/                |             |\n",
      "|    ep_len_mean          | 1.19e+03    |\n",
      "|    ep_rew_mean          | -72.1       |\n",
      "| time/                   |             |\n",
      "|    fps                  | 103         |\n",
      "|    iterations           | 35          |\n",
      "|    time_elapsed         | 691         |\n",
      "|    total_timesteps      | 71680       |\n",
      "| train/                  |             |\n",
      "|    approx_kl            | 0.009741696 |\n",
      "|    clip_fraction        | 0.115       |\n",
      "|    clip_range           | 0.2         |\n",
      "|    entropy_loss         | -4.4        |\n",
      "|    explained_variance   | 0.591       |\n",
      "|    learning_rate        | 0.0003      |\n",
      "|    loss                 | 0.208       |\n",
      "|    n_updates            | 340         |\n",
      "|    policy_gradient_loss | -0.0105     |\n",
      "|    std                  | 0.722       |\n",
      "|    value_loss           | 0.67        |\n",
      "-----------------------------------------\n",
      "Saving video to /Users/mukilankrishnakumar/Desktop/Gym/videos/mucg1bqc/rl-video-step-71600-to-step-71800.mp4\n",
      "Saving video to /Users/mukilankrishnakumar/Desktop/Gym/videos/mucg1bqc/rl-video-step-72000-to-step-72200.mp4\n",
      "Saving video to /Users/mukilankrishnakumar/Desktop/Gym/videos/mucg1bqc/rl-video-step-72400-to-step-72600.mp4\n",
      "Saving video to /Users/mukilankrishnakumar/Desktop/Gym/videos/mucg1bqc/rl-video-step-72800-to-step-73000.mp4\n",
      "Saving video to /Users/mukilankrishnakumar/Desktop/Gym/videos/mucg1bqc/rl-video-step-73200-to-step-73400.mp4\n",
      "-----------------------------------------\n",
      "| rollout/                |             |\n",
      "|    ep_len_mean          | 1.18e+03    |\n",
      "|    ep_rew_mean          | -69         |\n",
      "| time/                   |             |\n",
      "|    fps                  | 103         |\n",
      "|    iterations           | 36          |\n",
      "|    time_elapsed         | 712         |\n",
      "|    total_timesteps      | 73728       |\n",
      "| train/                  |             |\n",
      "|    approx_kl            | 0.013223282 |\n",
      "|    clip_fraction        | 0.146       |\n",
      "|    clip_range           | 0.2         |\n",
      "|    entropy_loss         | -4.35       |\n",
      "|    explained_variance   | 0.809       |\n",
      "|    learning_rate        | 0.0003      |\n",
      "|    loss                 | 0.122       |\n",
      "|    n_updates            | 350         |\n",
      "|    policy_gradient_loss | -0.0158     |\n",
      "|    std                  | 0.714       |\n",
      "|    value_loss           | 0.348       |\n",
      "-----------------------------------------\n"
     ]
    },
    {
     "name": "stdout",
     "output_type": "stream",
     "text": [
      "Saving video to /Users/mukilankrishnakumar/Desktop/Gym/videos/mucg1bqc/rl-video-step-73600-to-step-73800.mp4\n",
      "Saving video to /Users/mukilankrishnakumar/Desktop/Gym/videos/mucg1bqc/rl-video-step-74000-to-step-74200.mp4\n",
      "Saving video to /Users/mukilankrishnakumar/Desktop/Gym/videos/mucg1bqc/rl-video-step-74400-to-step-74600.mp4\n",
      "Saving video to /Users/mukilankrishnakumar/Desktop/Gym/videos/mucg1bqc/rl-video-step-74800-to-step-75000.mp4\n",
      "Saving video to /Users/mukilankrishnakumar/Desktop/Gym/videos/mucg1bqc/rl-video-step-75200-to-step-75400.mp4\n",
      "-----------------------------------------\n",
      "| rollout/                |             |\n",
      "|    ep_len_mean          | 1.19e+03    |\n",
      "|    ep_rew_mean          | -67.1       |\n",
      "| time/                   |             |\n",
      "|    fps                  | 103         |\n",
      "|    iterations           | 37          |\n",
      "|    time_elapsed         | 732         |\n",
      "|    total_timesteps      | 75776       |\n",
      "| train/                  |             |\n",
      "|    approx_kl            | 0.008053376 |\n",
      "|    clip_fraction        | 0.0586      |\n",
      "|    clip_range           | 0.2         |\n",
      "|    entropy_loss         | -4.33       |\n",
      "|    explained_variance   | -0.0632     |\n",
      "|    learning_rate        | 0.0003      |\n",
      "|    loss                 | 2.12        |\n",
      "|    n_updates            | 360         |\n",
      "|    policy_gradient_loss | -0.00589    |\n",
      "|    std                  | 0.714       |\n",
      "|    value_loss           | 34.7        |\n",
      "-----------------------------------------\n",
      "Saving video to /Users/mukilankrishnakumar/Desktop/Gym/videos/mucg1bqc/rl-video-step-75600-to-step-75800.mp4\n",
      "Saving video to /Users/mukilankrishnakumar/Desktop/Gym/videos/mucg1bqc/rl-video-step-76000-to-step-76200.mp4\n",
      "Saving video to /Users/mukilankrishnakumar/Desktop/Gym/videos/mucg1bqc/rl-video-step-76400-to-step-76600.mp4\n",
      "Saving video to /Users/mukilankrishnakumar/Desktop/Gym/videos/mucg1bqc/rl-video-step-76800-to-step-77000.mp4\n",
      "Saving video to /Users/mukilankrishnakumar/Desktop/Gym/videos/mucg1bqc/rl-video-step-77200-to-step-77400.mp4\n",
      "Saving video to /Users/mukilankrishnakumar/Desktop/Gym/videos/mucg1bqc/rl-video-step-77600-to-step-77800.mp4\n",
      "-----------------------------------------\n",
      "| rollout/                |             |\n",
      "|    ep_len_mean          | 1.17e+03    |\n",
      "|    ep_rew_mean          | -66.2       |\n",
      "| time/                   |             |\n",
      "|    fps                  | 103         |\n",
      "|    iterations           | 38          |\n",
      "|    time_elapsed         | 752         |\n",
      "|    total_timesteps      | 77824       |\n",
      "| train/                  |             |\n",
      "|    approx_kl            | 0.012772642 |\n",
      "|    clip_fraction        | 0.147       |\n",
      "|    clip_range           | 0.2         |\n",
      "|    entropy_loss         | -4.3        |\n",
      "|    explained_variance   | 0.647       |\n",
      "|    learning_rate        | 0.0003      |\n",
      "|    loss                 | 0.229       |\n",
      "|    n_updates            | 370         |\n",
      "|    policy_gradient_loss | -0.0129     |\n",
      "|    std                  | 0.707       |\n",
      "|    value_loss           | 0.702       |\n",
      "-----------------------------------------\n",
      "Saving video to /Users/mukilankrishnakumar/Desktop/Gym/videos/mucg1bqc/rl-video-step-78000-to-step-78200.mp4\n",
      "Saving video to /Users/mukilankrishnakumar/Desktop/Gym/videos/mucg1bqc/rl-video-step-78400-to-step-78600.mp4\n",
      "Saving video to /Users/mukilankrishnakumar/Desktop/Gym/videos/mucg1bqc/rl-video-step-78800-to-step-79000.mp4\n",
      "Saving video to /Users/mukilankrishnakumar/Desktop/Gym/videos/mucg1bqc/rl-video-step-79200-to-step-79400.mp4\n",
      "Saving video to /Users/mukilankrishnakumar/Desktop/Gym/videos/mucg1bqc/rl-video-step-79600-to-step-79800.mp4\n",
      "-----------------------------------------\n",
      "| rollout/                |             |\n",
      "|    ep_len_mean          | 1.17e+03    |\n",
      "|    ep_rew_mean          | -64.4       |\n",
      "| time/                   |             |\n",
      "|    fps                  | 103         |\n",
      "|    iterations           | 39          |\n",
      "|    time_elapsed         | 771         |\n",
      "|    total_timesteps      | 79872       |\n",
      "| train/                  |             |\n",
      "|    approx_kl            | 0.006695099 |\n",
      "|    clip_fraction        | 0.058       |\n",
      "|    clip_range           | 0.2         |\n",
      "|    entropy_loss         | -4.28       |\n",
      "|    explained_variance   | 0.475       |\n",
      "|    learning_rate        | 0.0003      |\n",
      "|    loss                 | 1.44        |\n",
      "|    n_updates            | 380         |\n",
      "|    policy_gradient_loss | -0.00794    |\n",
      "|    std                  | 0.706       |\n",
      "|    value_loss           | 56.3        |\n",
      "-----------------------------------------\n",
      "Saving video to /Users/mukilankrishnakumar/Desktop/Gym/videos/mucg1bqc/rl-video-step-80000-to-step-80200.mp4\n",
      "Saving video to /Users/mukilankrishnakumar/Desktop/Gym/videos/mucg1bqc/rl-video-step-80400-to-step-80600.mp4\n",
      "Saving video to /Users/mukilankrishnakumar/Desktop/Gym/videos/mucg1bqc/rl-video-step-80800-to-step-81000.mp4\n",
      "Saving video to /Users/mukilankrishnakumar/Desktop/Gym/videos/mucg1bqc/rl-video-step-81200-to-step-81400.mp4\n",
      "Saving video to /Users/mukilankrishnakumar/Desktop/Gym/videos/mucg1bqc/rl-video-step-81600-to-step-81800.mp4\n",
      "-----------------------------------------\n",
      "| rollout/                |             |\n",
      "|    ep_len_mean          | 1.19e+03    |\n",
      "|    ep_rew_mean          | -62.3       |\n",
      "| time/                   |             |\n",
      "|    fps                  | 103         |\n",
      "|    iterations           | 40          |\n",
      "|    time_elapsed         | 790         |\n",
      "|    total_timesteps      | 81920       |\n",
      "| train/                  |             |\n",
      "|    approx_kl            | 0.016851528 |\n",
      "|    clip_fraction        | 0.169       |\n",
      "|    clip_range           | 0.2         |\n",
      "|    entropy_loss         | -4.27       |\n",
      "|    explained_variance   | 0.704       |\n",
      "|    learning_rate        | 0.0003      |\n",
      "|    loss                 | 0.175       |\n",
      "|    n_updates            | 390         |\n",
      "|    policy_gradient_loss | -0.0134     |\n",
      "|    std                  | 0.703       |\n",
      "|    value_loss           | 0.737       |\n",
      "-----------------------------------------\n",
      "Saving video to /Users/mukilankrishnakumar/Desktop/Gym/videos/mucg1bqc/rl-video-step-82000-to-step-82200.mp4\n",
      "Saving video to /Users/mukilankrishnakumar/Desktop/Gym/videos/mucg1bqc/rl-video-step-82400-to-step-82600.mp4\n",
      "Saving video to /Users/mukilankrishnakumar/Desktop/Gym/videos/mucg1bqc/rl-video-step-82800-to-step-83000.mp4\n",
      "Saving video to /Users/mukilankrishnakumar/Desktop/Gym/videos/mucg1bqc/rl-video-step-83200-to-step-83400.mp4\n",
      "Saving video to /Users/mukilankrishnakumar/Desktop/Gym/videos/mucg1bqc/rl-video-step-83600-to-step-83800.mp4\n",
      "-----------------------------------------\n",
      "| rollout/                |             |\n",
      "|    ep_len_mean          | 1.19e+03    |\n",
      "|    ep_rew_mean          | -60.5       |\n",
      "| time/                   |             |\n",
      "|    fps                  | 103         |\n",
      "|    iterations           | 41          |\n",
      "|    time_elapsed         | 809         |\n",
      "|    total_timesteps      | 83968       |\n",
      "| train/                  |             |\n",
      "|    approx_kl            | 0.006348027 |\n",
      "|    clip_fraction        | 0.079       |\n",
      "|    clip_range           | 0.2         |\n",
      "|    entropy_loss         | -4.26       |\n",
      "|    explained_variance   | 0.376       |\n",
      "|    learning_rate        | 0.0003      |\n",
      "|    loss                 | 0.385       |\n",
      "|    n_updates            | 400         |\n",
      "|    policy_gradient_loss | -0.00544    |\n",
      "|    std                  | 0.702       |\n",
      "|    value_loss           | 20.5        |\n",
      "-----------------------------------------\n",
      "Saving video to /Users/mukilankrishnakumar/Desktop/Gym/videos/mucg1bqc/rl-video-step-84000-to-step-84200.mp4\n",
      "Saving video to /Users/mukilankrishnakumar/Desktop/Gym/videos/mucg1bqc/rl-video-step-84400-to-step-84600.mp4\n",
      "Saving video to /Users/mukilankrishnakumar/Desktop/Gym/videos/mucg1bqc/rl-video-step-84800-to-step-85000.mp4\n",
      "Saving video to /Users/mukilankrishnakumar/Desktop/Gym/videos/mucg1bqc/rl-video-step-85200-to-step-85400.mp4\n",
      "Saving video to /Users/mukilankrishnakumar/Desktop/Gym/videos/mucg1bqc/rl-video-step-85600-to-step-85800.mp4\n",
      "-----------------------------------------\n",
      "| rollout/                |             |\n",
      "|    ep_len_mean          | 1.2e+03     |\n",
      "|    ep_rew_mean          | -58.6       |\n",
      "| time/                   |             |\n",
      "|    fps                  | 103         |\n",
      "|    iterations           | 42          |\n",
      "|    time_elapsed         | 829         |\n",
      "|    total_timesteps      | 86016       |\n",
      "| train/                  |             |\n",
      "|    approx_kl            | 0.010985382 |\n",
      "|    clip_fraction        | 0.127       |\n",
      "|    clip_range           | 0.2         |\n",
      "|    entropy_loss         | -4.25       |\n",
      "|    explained_variance   | 0.796       |\n",
      "|    learning_rate        | 0.0003      |\n",
      "|    loss                 | 0.261       |\n",
      "|    n_updates            | 410         |\n",
      "|    policy_gradient_loss | -0.0107     |\n",
      "|    std                  | 0.7         |\n",
      "|    value_loss           | 0.652       |\n",
      "-----------------------------------------\n"
     ]
    },
    {
     "name": "stdout",
     "output_type": "stream",
     "text": [
      "Saving video to /Users/mukilankrishnakumar/Desktop/Gym/videos/mucg1bqc/rl-video-step-86000-to-step-86200.mp4\n",
      "Saving video to /Users/mukilankrishnakumar/Desktop/Gym/videos/mucg1bqc/rl-video-step-86400-to-step-86600.mp4\n",
      "Saving video to /Users/mukilankrishnakumar/Desktop/Gym/videos/mucg1bqc/rl-video-step-86800-to-step-87000.mp4\n",
      "Saving video to /Users/mukilankrishnakumar/Desktop/Gym/videos/mucg1bqc/rl-video-step-87200-to-step-87400.mp4\n",
      "Saving video to /Users/mukilankrishnakumar/Desktop/Gym/videos/mucg1bqc/rl-video-step-87600-to-step-87800.mp4\n",
      "-----------------------------------------\n",
      "| rollout/                |             |\n",
      "|    ep_len_mean          | 1.2e+03     |\n",
      "|    ep_rew_mean          | -56.4       |\n",
      "| time/                   |             |\n",
      "|    fps                  | 103         |\n",
      "|    iterations           | 43          |\n",
      "|    time_elapsed         | 850         |\n",
      "|    total_timesteps      | 88064       |\n",
      "| train/                  |             |\n",
      "|    approx_kl            | 0.011906529 |\n",
      "|    clip_fraction        | 0.134       |\n",
      "|    clip_range           | 0.2         |\n",
      "|    entropy_loss         | -4.22       |\n",
      "|    explained_variance   | 0.823       |\n",
      "|    learning_rate        | 0.0003      |\n",
      "|    loss                 | 0.209       |\n",
      "|    n_updates            | 420         |\n",
      "|    policy_gradient_loss | -0.013      |\n",
      "|    std                  | 0.693       |\n",
      "|    value_loss           | 0.463       |\n",
      "-----------------------------------------\n",
      "Saving video to /Users/mukilankrishnakumar/Desktop/Gym/videos/mucg1bqc/rl-video-step-88000-to-step-88200.mp4\n",
      "Saving video to /Users/mukilankrishnakumar/Desktop/Gym/videos/mucg1bqc/rl-video-step-88400-to-step-88600.mp4\n",
      "Saving video to /Users/mukilankrishnakumar/Desktop/Gym/videos/mucg1bqc/rl-video-step-88800-to-step-89000.mp4\n",
      "Saving video to /Users/mukilankrishnakumar/Desktop/Gym/videos/mucg1bqc/rl-video-step-89200-to-step-89400.mp4\n",
      "Saving video to /Users/mukilankrishnakumar/Desktop/Gym/videos/mucg1bqc/rl-video-step-89600-to-step-89800.mp4\n",
      "-----------------------------------------\n",
      "| rollout/                |             |\n",
      "|    ep_len_mean          | 1.18e+03    |\n",
      "|    ep_rew_mean          | -53.8       |\n",
      "| time/                   |             |\n",
      "|    fps                  | 103         |\n",
      "|    iterations           | 44          |\n",
      "|    time_elapsed         | 870         |\n",
      "|    total_timesteps      | 90112       |\n",
      "| train/                  |             |\n",
      "|    approx_kl            | 0.011997912 |\n",
      "|    clip_fraction        | 0.156       |\n",
      "|    clip_range           | 0.2         |\n",
      "|    entropy_loss         | -4.16       |\n",
      "|    explained_variance   | 0.859       |\n",
      "|    learning_rate        | 0.0003      |\n",
      "|    loss                 | 0.0904      |\n",
      "|    n_updates            | 430         |\n",
      "|    policy_gradient_loss | -0.017      |\n",
      "|    std                  | 0.677       |\n",
      "|    value_loss           | 0.324       |\n",
      "-----------------------------------------\n",
      "Saving video to /Users/mukilankrishnakumar/Desktop/Gym/videos/mucg1bqc/rl-video-step-90000-to-step-90200.mp4\n",
      "Saving video to /Users/mukilankrishnakumar/Desktop/Gym/videos/mucg1bqc/rl-video-step-90400-to-step-90600.mp4\n",
      "Saving video to /Users/mukilankrishnakumar/Desktop/Gym/videos/mucg1bqc/rl-video-step-90800-to-step-91000.mp4\n",
      "Saving video to /Users/mukilankrishnakumar/Desktop/Gym/videos/mucg1bqc/rl-video-step-91200-to-step-91400.mp4\n",
      "Saving video to /Users/mukilankrishnakumar/Desktop/Gym/videos/mucg1bqc/rl-video-step-91600-to-step-91800.mp4\n",
      "------------------------------------------\n",
      "| rollout/                |              |\n",
      "|    ep_len_mean          | 1.18e+03     |\n",
      "|    ep_rew_mean          | -52.6        |\n",
      "| time/                   |              |\n",
      "|    fps                  | 103          |\n",
      "|    iterations           | 45           |\n",
      "|    time_elapsed         | 890          |\n",
      "|    total_timesteps      | 92160        |\n",
      "| train/                  |              |\n",
      "|    approx_kl            | 0.0059532654 |\n",
      "|    clip_fraction        | 0.0315       |\n",
      "|    clip_range           | 0.2          |\n",
      "|    entropy_loss         | -4.11        |\n",
      "|    explained_variance   | 0.408        |\n",
      "|    learning_rate        | 0.0003       |\n",
      "|    loss                 | 15.1         |\n",
      "|    n_updates            | 440          |\n",
      "|    policy_gradient_loss | -0.00424     |\n",
      "|    std                  | 0.676        |\n",
      "|    value_loss           | 48           |\n",
      "------------------------------------------\n",
      "Saving video to /Users/mukilankrishnakumar/Desktop/Gym/videos/mucg1bqc/rl-video-step-92000-to-step-92200.mp4\n",
      "Saving video to /Users/mukilankrishnakumar/Desktop/Gym/videos/mucg1bqc/rl-video-step-92400-to-step-92600.mp4\n",
      "Saving video to /Users/mukilankrishnakumar/Desktop/Gym/videos/mucg1bqc/rl-video-step-92800-to-step-93000.mp4\n",
      "Saving video to /Users/mukilankrishnakumar/Desktop/Gym/videos/mucg1bqc/rl-video-step-93200-to-step-93400.mp4\n",
      "Saving video to /Users/mukilankrishnakumar/Desktop/Gym/videos/mucg1bqc/rl-video-step-93600-to-step-93800.mp4\n",
      "Saving video to /Users/mukilankrishnakumar/Desktop/Gym/videos/mucg1bqc/rl-video-step-94000-to-step-94200.mp4\n",
      "-----------------------------------------\n",
      "| rollout/                |             |\n",
      "|    ep_len_mean          | 1.17e+03    |\n",
      "|    ep_rew_mean          | -52.5       |\n",
      "| time/                   |             |\n",
      "|    fps                  | 103         |\n",
      "|    iterations           | 46          |\n",
      "|    time_elapsed         | 910         |\n",
      "|    total_timesteps      | 94208       |\n",
      "| train/                  |             |\n",
      "|    approx_kl            | 0.009130875 |\n",
      "|    clip_fraction        | 0.109       |\n",
      "|    clip_range           | 0.2         |\n",
      "|    entropy_loss         | -4.1        |\n",
      "|    explained_variance   | 0.815       |\n",
      "|    learning_rate        | 0.0003      |\n",
      "|    loss                 | 2.01        |\n",
      "|    n_updates            | 450         |\n",
      "|    policy_gradient_loss | -0.0154     |\n",
      "|    std                  | 0.67        |\n",
      "|    value_loss           | 13.6        |\n",
      "-----------------------------------------\n",
      "Saving video to /Users/mukilankrishnakumar/Desktop/Gym/videos/mucg1bqc/rl-video-step-94400-to-step-94600.mp4\n",
      "Saving video to /Users/mukilankrishnakumar/Desktop/Gym/videos/mucg1bqc/rl-video-step-94800-to-step-95000.mp4\n",
      "Saving video to /Users/mukilankrishnakumar/Desktop/Gym/videos/mucg1bqc/rl-video-step-95200-to-step-95400.mp4\n",
      "Saving video to /Users/mukilankrishnakumar/Desktop/Gym/videos/mucg1bqc/rl-video-step-95600-to-step-95800.mp4\n",
      "Saving video to /Users/mukilankrishnakumar/Desktop/Gym/videos/mucg1bqc/rl-video-step-96000-to-step-96200.mp4\n",
      "----------------------------------------\n",
      "| rollout/                |            |\n",
      "|    ep_len_mean          | 1.18e+03   |\n",
      "|    ep_rew_mean          | -49        |\n",
      "| time/                   |            |\n",
      "|    fps                  | 103        |\n",
      "|    iterations           | 47         |\n",
      "|    time_elapsed         | 930        |\n",
      "|    total_timesteps      | 96256      |\n",
      "| train/                  |            |\n",
      "|    approx_kl            | 0.01244308 |\n",
      "|    clip_fraction        | 0.103      |\n",
      "|    clip_range           | 0.2        |\n",
      "|    entropy_loss         | -4.07      |\n",
      "|    explained_variance   | 0.855      |\n",
      "|    learning_rate        | 0.0003     |\n",
      "|    loss                 | 18         |\n",
      "|    n_updates            | 460        |\n",
      "|    policy_gradient_loss | -0.00811   |\n",
      "|    std                  | 0.668      |\n",
      "|    value_loss           | 12.8       |\n",
      "----------------------------------------\n",
      "Saving video to /Users/mukilankrishnakumar/Desktop/Gym/videos/mucg1bqc/rl-video-step-96400-to-step-96600.mp4\n",
      "Saving video to /Users/mukilankrishnakumar/Desktop/Gym/videos/mucg1bqc/rl-video-step-96800-to-step-97000.mp4\n",
      "Saving video to /Users/mukilankrishnakumar/Desktop/Gym/videos/mucg1bqc/rl-video-step-97200-to-step-97400.mp4\n",
      "Saving video to /Users/mukilankrishnakumar/Desktop/Gym/videos/mucg1bqc/rl-video-step-97600-to-step-97800.mp4\n",
      "Saving video to /Users/mukilankrishnakumar/Desktop/Gym/videos/mucg1bqc/rl-video-step-98000-to-step-98200.mp4\n",
      "-----------------------------------------\n",
      "| rollout/                |             |\n",
      "|    ep_len_mean          | 1.19e+03    |\n",
      "|    ep_rew_mean          | -47.3       |\n",
      "| time/                   |             |\n",
      "|    fps                  | 103         |\n",
      "|    iterations           | 48          |\n",
      "|    time_elapsed         | 949         |\n",
      "|    total_timesteps      | 98304       |\n",
      "| train/                  |             |\n",
      "|    approx_kl            | 0.012574213 |\n",
      "|    clip_fraction        | 0.156       |\n",
      "|    clip_range           | 0.2         |\n",
      "|    entropy_loss         | -4.03       |\n",
      "|    explained_variance   | 0.459       |\n",
      "|    learning_rate        | 0.0003      |\n",
      "|    loss                 | 0.152       |\n",
      "|    n_updates            | 470         |\n",
      "|    policy_gradient_loss | -0.0116     |\n",
      "|    std                  | 0.657       |\n",
      "|    value_loss           | 0.483       |\n",
      "-----------------------------------------\n"
     ]
    },
    {
     "name": "stdout",
     "output_type": "stream",
     "text": [
      "Saving video to /Users/mukilankrishnakumar/Desktop/Gym/videos/mucg1bqc/rl-video-step-98400-to-step-98600.mp4\n",
      "Saving video to /Users/mukilankrishnakumar/Desktop/Gym/videos/mucg1bqc/rl-video-step-98800-to-step-99000.mp4\n",
      "Saving video to /Users/mukilankrishnakumar/Desktop/Gym/videos/mucg1bqc/rl-video-step-99200-to-step-99400.mp4\n",
      "Saving video to /Users/mukilankrishnakumar/Desktop/Gym/videos/mucg1bqc/rl-video-step-99600-to-step-99800.mp4\n",
      "Saving video to /Users/mukilankrishnakumar/Desktop/Gym/videos/mucg1bqc/rl-video-step-100000-to-step-100200.mp4\n",
      "-----------------------------------------\n",
      "| rollout/                |             |\n",
      "|    ep_len_mean          | 1.19e+03    |\n",
      "|    ep_rew_mean          | -45.5       |\n",
      "| time/                   |             |\n",
      "|    fps                  | 103         |\n",
      "|    iterations           | 49          |\n",
      "|    time_elapsed         | 969         |\n",
      "|    total_timesteps      | 100352      |\n",
      "| train/                  |             |\n",
      "|    approx_kl            | 0.011743222 |\n",
      "|    clip_fraction        | 0.168       |\n",
      "|    clip_range           | 0.2         |\n",
      "|    entropy_loss         | -3.97       |\n",
      "|    explained_variance   | 0.837       |\n",
      "|    learning_rate        | 0.0003      |\n",
      "|    loss                 | 0.14        |\n",
      "|    n_updates            | 480         |\n",
      "|    policy_gradient_loss | -0.0118     |\n",
      "|    std                  | 0.651       |\n",
      "|    value_loss           | 0.27        |\n",
      "-----------------------------------------\n",
      "Saving video to /Users/mukilankrishnakumar/Desktop/Gym/videos/mucg1bqc/rl-video-step-100400-to-step-100600.mp4\n",
      "Saving video to /Users/mukilankrishnakumar/Desktop/Gym/videos/mucg1bqc/rl-video-step-100800-to-step-101000.mp4\n",
      "Saving video to /Users/mukilankrishnakumar/Desktop/Gym/videos/mucg1bqc/rl-video-step-101200-to-step-101400.mp4\n",
      "Saving video to /Users/mukilankrishnakumar/Desktop/Gym/videos/mucg1bqc/rl-video-step-101600-to-step-101800.mp4\n",
      "Saving video to /Users/mukilankrishnakumar/Desktop/Gym/videos/mucg1bqc/rl-video-step-102000-to-step-102200.mp4\n",
      "-----------------------------------------\n",
      "| rollout/                |             |\n",
      "|    ep_len_mean          | 1.2e+03     |\n",
      "|    ep_rew_mean          | -41.8       |\n",
      "| time/                   |             |\n",
      "|    fps                  | 103         |\n",
      "|    iterations           | 50          |\n",
      "|    time_elapsed         | 988         |\n",
      "|    total_timesteps      | 102400      |\n",
      "| train/                  |             |\n",
      "|    approx_kl            | 0.012508228 |\n",
      "|    clip_fraction        | 0.161       |\n",
      "|    clip_range           | 0.2         |\n",
      "|    entropy_loss         | -3.92       |\n",
      "|    explained_variance   | 0.854       |\n",
      "|    learning_rate        | 0.0003      |\n",
      "|    loss                 | 0.204       |\n",
      "|    n_updates            | 490         |\n",
      "|    policy_gradient_loss | -0.0146     |\n",
      "|    std                  | 0.639       |\n",
      "|    value_loss           | 0.345       |\n",
      "-----------------------------------------\n",
      "Saving video to /Users/mukilankrishnakumar/Desktop/Gym/videos/mucg1bqc/rl-video-step-102400-to-step-102600.mp4\n",
      "Saving video to /Users/mukilankrishnakumar/Desktop/Gym/videos/mucg1bqc/rl-video-step-102800-to-step-103000.mp4\n",
      "Saving video to /Users/mukilankrishnakumar/Desktop/Gym/videos/mucg1bqc/rl-video-step-103200-to-step-103400.mp4\n",
      "Saving video to /Users/mukilankrishnakumar/Desktop/Gym/videos/mucg1bqc/rl-video-step-103600-to-step-103800.mp4\n",
      "Saving video to /Users/mukilankrishnakumar/Desktop/Gym/videos/mucg1bqc/rl-video-step-104000-to-step-104200.mp4\n",
      "-----------------------------------------\n",
      "| rollout/                |             |\n",
      "|    ep_len_mean          | 1.2e+03     |\n",
      "|    ep_rew_mean          | -41.9       |\n",
      "| time/                   |             |\n",
      "|    fps                  | 103         |\n",
      "|    iterations           | 51          |\n",
      "|    time_elapsed         | 1008        |\n",
      "|    total_timesteps      | 104448      |\n",
      "| train/                  |             |\n",
      "|    approx_kl            | 0.013252209 |\n",
      "|    clip_fraction        | 0.159       |\n",
      "|    clip_range           | 0.2         |\n",
      "|    entropy_loss         | -3.85       |\n",
      "|    explained_variance   | 0.884       |\n",
      "|    learning_rate        | 0.0003      |\n",
      "|    loss                 | 0.181       |\n",
      "|    n_updates            | 500         |\n",
      "|    policy_gradient_loss | -0.016      |\n",
      "|    std                  | 0.63        |\n",
      "|    value_loss           | 0.392       |\n",
      "-----------------------------------------\n",
      "Saving video to /Users/mukilankrishnakumar/Desktop/Gym/videos/mucg1bqc/rl-video-step-104400-to-step-104600.mp4\n",
      "Saving video to /Users/mukilankrishnakumar/Desktop/Gym/videos/mucg1bqc/rl-video-step-104800-to-step-105000.mp4\n",
      "Saving video to /Users/mukilankrishnakumar/Desktop/Gym/videos/mucg1bqc/rl-video-step-105200-to-step-105400.mp4\n",
      "Saving video to /Users/mukilankrishnakumar/Desktop/Gym/videos/mucg1bqc/rl-video-step-105600-to-step-105800.mp4\n",
      "Saving video to /Users/mukilankrishnakumar/Desktop/Gym/videos/mucg1bqc/rl-video-step-106000-to-step-106200.mp4\n",
      "-----------------------------------------\n",
      "| rollout/                |             |\n",
      "|    ep_len_mean          | 1.21e+03    |\n",
      "|    ep_rew_mean          | -38.3       |\n",
      "| time/                   |             |\n",
      "|    fps                  | 103         |\n",
      "|    iterations           | 52          |\n",
      "|    time_elapsed         | 1028        |\n",
      "|    total_timesteps      | 106496      |\n",
      "| train/                  |             |\n",
      "|    approx_kl            | 0.010102408 |\n",
      "|    clip_fraction        | 0.123       |\n",
      "|    clip_range           | 0.2         |\n",
      "|    entropy_loss         | -3.82       |\n",
      "|    explained_variance   | 0.835       |\n",
      "|    learning_rate        | 0.0003      |\n",
      "|    loss                 | 0.24        |\n",
      "|    n_updates            | 510         |\n",
      "|    policy_gradient_loss | -0.00804    |\n",
      "|    std                  | 0.629       |\n",
      "|    value_loss           | 8.35        |\n",
      "-----------------------------------------\n",
      "Saving video to /Users/mukilankrishnakumar/Desktop/Gym/videos/mucg1bqc/rl-video-step-106400-to-step-106600.mp4\n",
      "Saving video to /Users/mukilankrishnakumar/Desktop/Gym/videos/mucg1bqc/rl-video-step-106800-to-step-107000.mp4\n",
      "Saving video to /Users/mukilankrishnakumar/Desktop/Gym/videos/mucg1bqc/rl-video-step-107200-to-step-107400.mp4\n",
      "Saving video to /Users/mukilankrishnakumar/Desktop/Gym/videos/mucg1bqc/rl-video-step-107600-to-step-107800.mp4\n",
      "Saving video to /Users/mukilankrishnakumar/Desktop/Gym/videos/mucg1bqc/rl-video-step-108000-to-step-108200.mp4\n",
      "-----------------------------------------\n",
      "| rollout/                |             |\n",
      "|    ep_len_mean          | 1.21e+03    |\n",
      "|    ep_rew_mean          | -36.2       |\n",
      "| time/                   |             |\n",
      "|    fps                  | 103         |\n",
      "|    iterations           | 53          |\n",
      "|    time_elapsed         | 1048        |\n",
      "|    total_timesteps      | 108544      |\n",
      "| train/                  |             |\n",
      "|    approx_kl            | 0.011229855 |\n",
      "|    clip_fraction        | 0.133       |\n",
      "|    clip_range           | 0.2         |\n",
      "|    entropy_loss         | -3.8        |\n",
      "|    explained_variance   | 0.896       |\n",
      "|    learning_rate        | 0.0003      |\n",
      "|    loss                 | 0.156       |\n",
      "|    n_updates            | 520         |\n",
      "|    policy_gradient_loss | -0.0132     |\n",
      "|    std                  | 0.623       |\n",
      "|    value_loss           | 0.379       |\n",
      "-----------------------------------------\n",
      "Saving video to /Users/mukilankrishnakumar/Desktop/Gym/videos/mucg1bqc/rl-video-step-108400-to-step-108600.mp4\n",
      "Saving video to /Users/mukilankrishnakumar/Desktop/Gym/videos/mucg1bqc/rl-video-step-108800-to-step-109000.mp4\n",
      "Saving video to /Users/mukilankrishnakumar/Desktop/Gym/videos/mucg1bqc/rl-video-step-109200-to-step-109400.mp4\n",
      "Saving video to /Users/mukilankrishnakumar/Desktop/Gym/videos/mucg1bqc/rl-video-step-109600-to-step-109800.mp4\n",
      "Saving video to /Users/mukilankrishnakumar/Desktop/Gym/videos/mucg1bqc/rl-video-step-110000-to-step-110200.mp4\n",
      "-----------------------------------------\n",
      "| rollout/                |             |\n",
      "|    ep_len_mean          | 1.22e+03    |\n",
      "|    ep_rew_mean          | -34.6       |\n",
      "| time/                   |             |\n",
      "|    fps                  | 103         |\n",
      "|    iterations           | 54          |\n",
      "|    time_elapsed         | 1069        |\n",
      "|    total_timesteps      | 110592      |\n",
      "| train/                  |             |\n",
      "|    approx_kl            | 0.011467544 |\n",
      "|    clip_fraction        | 0.137       |\n",
      "|    clip_range           | 0.2         |\n",
      "|    entropy_loss         | -3.74       |\n",
      "|    explained_variance   | 0.889       |\n",
      "|    learning_rate        | 0.0003      |\n",
      "|    loss                 | 0.105       |\n",
      "|    n_updates            | 530         |\n",
      "|    policy_gradient_loss | -0.0136     |\n",
      "|    std                  | 0.61        |\n",
      "|    value_loss           | 0.349       |\n",
      "-----------------------------------------\n"
     ]
    },
    {
     "name": "stdout",
     "output_type": "stream",
     "text": [
      "Saving video to /Users/mukilankrishnakumar/Desktop/Gym/videos/mucg1bqc/rl-video-step-110400-to-step-110600.mp4\n",
      "Saving video to /Users/mukilankrishnakumar/Desktop/Gym/videos/mucg1bqc/rl-video-step-110800-to-step-111000.mp4\n",
      "Saving video to /Users/mukilankrishnakumar/Desktop/Gym/videos/mucg1bqc/rl-video-step-111200-to-step-111400.mp4\n",
      "Saving video to /Users/mukilankrishnakumar/Desktop/Gym/videos/mucg1bqc/rl-video-step-111600-to-step-111800.mp4\n",
      "Saving video to /Users/mukilankrishnakumar/Desktop/Gym/videos/mucg1bqc/rl-video-step-112000-to-step-112200.mp4\n",
      "Saving video to /Users/mukilankrishnakumar/Desktop/Gym/videos/mucg1bqc/rl-video-step-112400-to-step-112600.mp4\n",
      "-----------------------------------------\n",
      "| rollout/                |             |\n",
      "|    ep_len_mean          | 1.2e+03     |\n",
      "|    ep_rew_mean          | -34.6       |\n",
      "| time/                   |             |\n",
      "|    fps                  | 103         |\n",
      "|    iterations           | 55          |\n",
      "|    time_elapsed         | 1088        |\n",
      "|    total_timesteps      | 112640      |\n",
      "| train/                  |             |\n",
      "|    approx_kl            | 0.011588698 |\n",
      "|    clip_fraction        | 0.127       |\n",
      "|    clip_range           | 0.2         |\n",
      "|    entropy_loss         | -3.67       |\n",
      "|    explained_variance   | 0.876       |\n",
      "|    learning_rate        | 0.0003      |\n",
      "|    loss                 | 0.157       |\n",
      "|    n_updates            | 540         |\n",
      "|    policy_gradient_loss | -0.011      |\n",
      "|    std                  | 0.603       |\n",
      "|    value_loss           | 0.539       |\n",
      "-----------------------------------------\n",
      "Saving video to /Users/mukilankrishnakumar/Desktop/Gym/videos/mucg1bqc/rl-video-step-112800-to-step-113000.mp4\n",
      "Saving video to /Users/mukilankrishnakumar/Desktop/Gym/videos/mucg1bqc/rl-video-step-113200-to-step-113400.mp4\n",
      "Saving video to /Users/mukilankrishnakumar/Desktop/Gym/videos/mucg1bqc/rl-video-step-113600-to-step-113800.mp4\n",
      "Saving video to /Users/mukilankrishnakumar/Desktop/Gym/videos/mucg1bqc/rl-video-step-114000-to-step-114200.mp4\n",
      "Saving video to /Users/mukilankrishnakumar/Desktop/Gym/videos/mucg1bqc/rl-video-step-114400-to-step-114600.mp4\n",
      "------------------------------------------\n",
      "| rollout/                |              |\n",
      "|    ep_len_mean          | 1.2e+03      |\n",
      "|    ep_rew_mean          | -32.6        |\n",
      "| time/                   |              |\n",
      "|    fps                  | 103          |\n",
      "|    iterations           | 56           |\n",
      "|    time_elapsed         | 1107         |\n",
      "|    total_timesteps      | 114688       |\n",
      "| train/                  |              |\n",
      "|    approx_kl            | 0.0068489397 |\n",
      "|    clip_fraction        | 0.0735       |\n",
      "|    clip_range           | 0.2          |\n",
      "|    entropy_loss         | -3.65        |\n",
      "|    explained_variance   | 0.647        |\n",
      "|    learning_rate        | 0.0003       |\n",
      "|    loss                 | 0.971        |\n",
      "|    n_updates            | 550          |\n",
      "|    policy_gradient_loss | -0.00639     |\n",
      "|    std                  | 0.604        |\n",
      "|    value_loss           | 48.6         |\n",
      "------------------------------------------\n",
      "Saving video to /Users/mukilankrishnakumar/Desktop/Gym/videos/mucg1bqc/rl-video-step-114800-to-step-115000.mp4\n",
      "Saving video to /Users/mukilankrishnakumar/Desktop/Gym/videos/mucg1bqc/rl-video-step-115200-to-step-115400.mp4\n",
      "Saving video to /Users/mukilankrishnakumar/Desktop/Gym/videos/mucg1bqc/rl-video-step-115600-to-step-115800.mp4\n",
      "Saving video to /Users/mukilankrishnakumar/Desktop/Gym/videos/mucg1bqc/rl-video-step-116000-to-step-116200.mp4\n",
      "Saving video to /Users/mukilankrishnakumar/Desktop/Gym/videos/mucg1bqc/rl-video-step-116400-to-step-116600.mp4\n",
      "----------------------------------------\n",
      "| rollout/                |            |\n",
      "|    ep_len_mean          | 1.18e+03   |\n",
      "|    ep_rew_mean          | -32.6      |\n",
      "| time/                   |            |\n",
      "|    fps                  | 103        |\n",
      "|    iterations           | 57         |\n",
      "|    time_elapsed         | 1127       |\n",
      "|    total_timesteps      | 116736     |\n",
      "| train/                  |            |\n",
      "|    approx_kl            | 0.01531198 |\n",
      "|    clip_fraction        | 0.161      |\n",
      "|    clip_range           | 0.2        |\n",
      "|    entropy_loss         | -3.66      |\n",
      "|    explained_variance   | 0.803      |\n",
      "|    learning_rate        | 0.0003     |\n",
      "|    loss                 | 0.14       |\n",
      "|    n_updates            | 560        |\n",
      "|    policy_gradient_loss | -0.0119    |\n",
      "|    std                  | 0.603      |\n",
      "|    value_loss           | 0.561      |\n",
      "----------------------------------------\n",
      "Saving video to /Users/mukilankrishnakumar/Desktop/Gym/videos/mucg1bqc/rl-video-step-116800-to-step-117000.mp4\n",
      "Saving video to /Users/mukilankrishnakumar/Desktop/Gym/videos/mucg1bqc/rl-video-step-117200-to-step-117400.mp4\n",
      "Saving video to /Users/mukilankrishnakumar/Desktop/Gym/videos/mucg1bqc/rl-video-step-117600-to-step-117800.mp4\n",
      "Saving video to /Users/mukilankrishnakumar/Desktop/Gym/videos/mucg1bqc/rl-video-step-118000-to-step-118200.mp4\n",
      "Saving video to /Users/mukilankrishnakumar/Desktop/Gym/videos/mucg1bqc/rl-video-step-118400-to-step-118600.mp4\n",
      "------------------------------------------\n",
      "| rollout/                |              |\n",
      "|    ep_len_mean          | 1.17e+03     |\n",
      "|    ep_rew_mean          | -33.3        |\n",
      "| time/                   |              |\n",
      "|    fps                  | 103          |\n",
      "|    iterations           | 58           |\n",
      "|    time_elapsed         | 1146         |\n",
      "|    total_timesteps      | 118784       |\n",
      "| train/                  |              |\n",
      "|    approx_kl            | 0.0067988522 |\n",
      "|    clip_fraction        | 0.0829       |\n",
      "|    clip_range           | 0.2          |\n",
      "|    entropy_loss         | -3.65        |\n",
      "|    explained_variance   | 0.801        |\n",
      "|    learning_rate        | 0.0003       |\n",
      "|    loss                 | 6.47         |\n",
      "|    n_updates            | 570          |\n",
      "|    policy_gradient_loss | -0.00853     |\n",
      "|    std                  | 0.602        |\n",
      "|    value_loss           | 52.7         |\n",
      "------------------------------------------\n",
      "Saving video to /Users/mukilankrishnakumar/Desktop/Gym/videos/mucg1bqc/rl-video-step-118800-to-step-119000.mp4\n",
      "Saving video to /Users/mukilankrishnakumar/Desktop/Gym/videos/mucg1bqc/rl-video-step-119200-to-step-119400.mp4\n",
      "Saving video to /Users/mukilankrishnakumar/Desktop/Gym/videos/mucg1bqc/rl-video-step-119600-to-step-119800.mp4\n",
      "Saving video to /Users/mukilankrishnakumar/Desktop/Gym/videos/mucg1bqc/rl-video-step-120000-to-step-120200.mp4\n",
      "Saving video to /Users/mukilankrishnakumar/Desktop/Gym/videos/mucg1bqc/rl-video-step-120400-to-step-120600.mp4\n",
      "-----------------------------------------\n",
      "| rollout/                |             |\n",
      "|    ep_len_mean          | 1.18e+03    |\n",
      "|    ep_rew_mean          | -27.8       |\n",
      "| time/                   |             |\n",
      "|    fps                  | 103         |\n",
      "|    iterations           | 59          |\n",
      "|    time_elapsed         | 1166        |\n",
      "|    total_timesteps      | 120832      |\n",
      "| train/                  |             |\n",
      "|    approx_kl            | 0.010319008 |\n",
      "|    clip_fraction        | 0.0812      |\n",
      "|    clip_range           | 0.2         |\n",
      "|    entropy_loss         | -3.64       |\n",
      "|    explained_variance   | 0.907       |\n",
      "|    learning_rate        | 0.0003      |\n",
      "|    loss                 | 0.977       |\n",
      "|    n_updates            | 580         |\n",
      "|    policy_gradient_loss | -0.0107     |\n",
      "|    std                  | 0.601       |\n",
      "|    value_loss           | 14.5        |\n",
      "-----------------------------------------\n",
      "Saving video to /Users/mukilankrishnakumar/Desktop/Gym/videos/mucg1bqc/rl-video-step-120800-to-step-121000.mp4\n",
      "Saving video to /Users/mukilankrishnakumar/Desktop/Gym/videos/mucg1bqc/rl-video-step-121200-to-step-121400.mp4\n",
      "Saving video to /Users/mukilankrishnakumar/Desktop/Gym/videos/mucg1bqc/rl-video-step-121600-to-step-121800.mp4\n",
      "Saving video to /Users/mukilankrishnakumar/Desktop/Gym/videos/mucg1bqc/rl-video-step-122000-to-step-122200.mp4\n",
      "Saving video to /Users/mukilankrishnakumar/Desktop/Gym/videos/mucg1bqc/rl-video-step-122400-to-step-122600.mp4\n",
      "-----------------------------------------\n",
      "| rollout/                |             |\n",
      "|    ep_len_mean          | 1.19e+03    |\n",
      "|    ep_rew_mean          | -26.7       |\n",
      "| time/                   |             |\n",
      "|    fps                  | 103         |\n",
      "|    iterations           | 60          |\n",
      "|    time_elapsed         | 1186        |\n",
      "|    total_timesteps      | 122880      |\n",
      "| train/                  |             |\n",
      "|    approx_kl            | 0.008212242 |\n",
      "|    clip_fraction        | 0.0694      |\n",
      "|    clip_range           | 0.2         |\n",
      "|    entropy_loss         | -3.64       |\n",
      "|    explained_variance   | 0.883       |\n",
      "|    learning_rate        | 0.0003      |\n",
      "|    loss                 | 5.03        |\n",
      "|    n_updates            | 590         |\n",
      "|    policy_gradient_loss | -0.00854    |\n",
      "|    std                  | 0.601       |\n",
      "|    value_loss           | 13.8        |\n",
      "-----------------------------------------\n"
     ]
    },
    {
     "name": "stdout",
     "output_type": "stream",
     "text": [
      "Saving video to /Users/mukilankrishnakumar/Desktop/Gym/videos/mucg1bqc/rl-video-step-122800-to-step-123000.mp4\n",
      "Saving video to /Users/mukilankrishnakumar/Desktop/Gym/videos/mucg1bqc/rl-video-step-123200-to-step-123400.mp4\n",
      "Saving video to /Users/mukilankrishnakumar/Desktop/Gym/videos/mucg1bqc/rl-video-step-123600-to-step-123800.mp4\n",
      "Saving video to /Users/mukilankrishnakumar/Desktop/Gym/videos/mucg1bqc/rl-video-step-124000-to-step-124200.mp4\n",
      "Saving video to /Users/mukilankrishnakumar/Desktop/Gym/videos/mucg1bqc/rl-video-step-124400-to-step-124600.mp4\n",
      "-----------------------------------------\n",
      "| rollout/                |             |\n",
      "|    ep_len_mean          | 1.2e+03     |\n",
      "|    ep_rew_mean          | -23.9       |\n",
      "| time/                   |             |\n",
      "|    fps                  | 103         |\n",
      "|    iterations           | 61          |\n",
      "|    time_elapsed         | 1206        |\n",
      "|    total_timesteps      | 124928      |\n",
      "| train/                  |             |\n",
      "|    approx_kl            | 0.009023075 |\n",
      "|    clip_fraction        | 0.104       |\n",
      "|    clip_range           | 0.2         |\n",
      "|    entropy_loss         | -3.63       |\n",
      "|    explained_variance   | 0.93        |\n",
      "|    learning_rate        | 0.0003      |\n",
      "|    loss                 | 4.35        |\n",
      "|    n_updates            | 600         |\n",
      "|    policy_gradient_loss | -0.0106     |\n",
      "|    std                  | 0.599       |\n",
      "|    value_loss           | 11          |\n",
      "-----------------------------------------\n",
      "Saving video to /Users/mukilankrishnakumar/Desktop/Gym/videos/mucg1bqc/rl-video-step-124800-to-step-125000.mp4\n",
      "Saving video to /Users/mukilankrishnakumar/Desktop/Gym/videos/mucg1bqc/rl-video-step-125200-to-step-125400.mp4\n",
      "Saving video to /Users/mukilankrishnakumar/Desktop/Gym/videos/mucg1bqc/rl-video-step-125600-to-step-125800.mp4\n",
      "Saving video to /Users/mukilankrishnakumar/Desktop/Gym/videos/mucg1bqc/rl-video-step-126000-to-step-126200.mp4\n",
      "Saving video to /Users/mukilankrishnakumar/Desktop/Gym/videos/mucg1bqc/rl-video-step-126400-to-step-126600.mp4\n",
      "-----------------------------------------\n",
      "| rollout/                |             |\n",
      "|    ep_len_mean          | 1.23e+03    |\n",
      "|    ep_rew_mean          | -18.8       |\n",
      "| time/                   |             |\n",
      "|    fps                  | 103         |\n",
      "|    iterations           | 62          |\n",
      "|    time_elapsed         | 1227        |\n",
      "|    total_timesteps      | 126976      |\n",
      "| train/                  |             |\n",
      "|    approx_kl            | 0.013668312 |\n",
      "|    clip_fraction        | 0.142       |\n",
      "|    clip_range           | 0.2         |\n",
      "|    entropy_loss         | -3.61       |\n",
      "|    explained_variance   | 0.913       |\n",
      "|    learning_rate        | 0.0003      |\n",
      "|    loss                 | 7.6         |\n",
      "|    n_updates            | 610         |\n",
      "|    policy_gradient_loss | -0.00826    |\n",
      "|    std                  | 0.594       |\n",
      "|    value_loss           | 7.41        |\n",
      "-----------------------------------------\n",
      "Saving video to /Users/mukilankrishnakumar/Desktop/Gym/videos/mucg1bqc/rl-video-step-126800-to-step-127000.mp4\n",
      "Saving video to /Users/mukilankrishnakumar/Desktop/Gym/videos/mucg1bqc/rl-video-step-127200-to-step-127400.mp4\n",
      "Saving video to /Users/mukilankrishnakumar/Desktop/Gym/videos/mucg1bqc/rl-video-step-127600-to-step-127800.mp4\n",
      "Saving video to /Users/mukilankrishnakumar/Desktop/Gym/videos/mucg1bqc/rl-video-step-128000-to-step-128200.mp4\n",
      "Saving video to /Users/mukilankrishnakumar/Desktop/Gym/videos/mucg1bqc/rl-video-step-128400-to-step-128600.mp4\n",
      "Saving video to /Users/mukilankrishnakumar/Desktop/Gym/videos/mucg1bqc/rl-video-step-128800-to-step-129000.mp4\n",
      "-----------------------------------------\n",
      "| rollout/                |             |\n",
      "|    ep_len_mean          | 1.25e+03    |\n",
      "|    ep_rew_mean          | -16.4       |\n",
      "| time/                   |             |\n",
      "|    fps                  | 103         |\n",
      "|    iterations           | 63          |\n",
      "|    time_elapsed         | 1246        |\n",
      "|    total_timesteps      | 129024      |\n",
      "| train/                  |             |\n",
      "|    approx_kl            | 0.015538367 |\n",
      "|    clip_fraction        | 0.206       |\n",
      "|    clip_range           | 0.2         |\n",
      "|    entropy_loss         | -3.58       |\n",
      "|    explained_variance   | 0.166       |\n",
      "|    learning_rate        | 0.0003      |\n",
      "|    loss                 | 0.387       |\n",
      "|    n_updates            | 620         |\n",
      "|    policy_gradient_loss | -0.0106     |\n",
      "|    std                  | 0.591       |\n",
      "|    value_loss           | 0.824       |\n",
      "-----------------------------------------\n",
      "Saving video to /Users/mukilankrishnakumar/Desktop/Gym/videos/mucg1bqc/rl-video-step-129200-to-step-129400.mp4\n",
      "Saving video to /Users/mukilankrishnakumar/Desktop/Gym/videos/mucg1bqc/rl-video-step-129600-to-step-129800.mp4\n",
      "Saving video to /Users/mukilankrishnakumar/Desktop/Gym/videos/mucg1bqc/rl-video-step-130000-to-step-130200.mp4\n",
      "Saving video to /Users/mukilankrishnakumar/Desktop/Gym/videos/mucg1bqc/rl-video-step-130400-to-step-130600.mp4\n",
      "Saving video to /Users/mukilankrishnakumar/Desktop/Gym/videos/mucg1bqc/rl-video-step-130800-to-step-131000.mp4\n",
      "------------------------------------------\n",
      "| rollout/                |              |\n",
      "|    ep_len_mean          | 1.25e+03     |\n",
      "|    ep_rew_mean          | -13.5        |\n",
      "| time/                   |              |\n",
      "|    fps                  | 103          |\n",
      "|    iterations           | 64           |\n",
      "|    time_elapsed         | 1266         |\n",
      "|    total_timesteps      | 131072       |\n",
      "| train/                  |              |\n",
      "|    approx_kl            | 0.0144345015 |\n",
      "|    clip_fraction        | 0.174        |\n",
      "|    clip_range           | 0.2          |\n",
      "|    entropy_loss         | -3.51        |\n",
      "|    explained_variance   | 0.818        |\n",
      "|    learning_rate        | 0.0003       |\n",
      "|    loss                 | 0.139        |\n",
      "|    n_updates            | 630          |\n",
      "|    policy_gradient_loss | -0.013       |\n",
      "|    std                  | 0.577        |\n",
      "|    value_loss           | 0.412        |\n",
      "------------------------------------------\n",
      "Saving video to /Users/mukilankrishnakumar/Desktop/Gym/videos/mucg1bqc/rl-video-step-131200-to-step-131400.mp4\n",
      "Saving video to /Users/mukilankrishnakumar/Desktop/Gym/videos/mucg1bqc/rl-video-step-131600-to-step-131800.mp4\n",
      "Saving video to /Users/mukilankrishnakumar/Desktop/Gym/videos/mucg1bqc/rl-video-step-132000-to-step-132200.mp4\n",
      "Saving video to /Users/mukilankrishnakumar/Desktop/Gym/videos/mucg1bqc/rl-video-step-132400-to-step-132600.mp4\n",
      "Saving video to /Users/mukilankrishnakumar/Desktop/Gym/videos/mucg1bqc/rl-video-step-132800-to-step-133000.mp4\n",
      "-----------------------------------------\n",
      "| rollout/                |             |\n",
      "|    ep_len_mean          | 1.27e+03    |\n",
      "|    ep_rew_mean          | -10.8       |\n",
      "| time/                   |             |\n",
      "|    fps                  | 103         |\n",
      "|    iterations           | 65          |\n",
      "|    time_elapsed         | 1285        |\n",
      "|    total_timesteps      | 133120      |\n",
      "| train/                  |             |\n",
      "|    approx_kl            | 0.009102794 |\n",
      "|    clip_fraction        | 0.121       |\n",
      "|    clip_range           | 0.2         |\n",
      "|    entropy_loss         | -3.47       |\n",
      "|    explained_variance   | 0.666       |\n",
      "|    learning_rate        | 0.0003      |\n",
      "|    loss                 | 1.34        |\n",
      "|    n_updates            | 640         |\n",
      "|    policy_gradient_loss | -0.0119     |\n",
      "|    std                  | 0.578       |\n",
      "|    value_loss           | 40.2        |\n",
      "-----------------------------------------\n",
      "Saving video to /Users/mukilankrishnakumar/Desktop/Gym/videos/mucg1bqc/rl-video-step-133200-to-step-133400.mp4\n",
      "Saving video to /Users/mukilankrishnakumar/Desktop/Gym/videos/mucg1bqc/rl-video-step-133600-to-step-133800.mp4\n",
      "Saving video to /Users/mukilankrishnakumar/Desktop/Gym/videos/mucg1bqc/rl-video-step-134000-to-step-134200.mp4\n",
      "Saving video to /Users/mukilankrishnakumar/Desktop/Gym/videos/mucg1bqc/rl-video-step-134400-to-step-134600.mp4\n",
      "Saving video to /Users/mukilankrishnakumar/Desktop/Gym/videos/mucg1bqc/rl-video-step-134800-to-step-135000.mp4\n",
      "-----------------------------------------\n",
      "| rollout/                |             |\n",
      "|    ep_len_mean          | 1.28e+03    |\n",
      "|    ep_rew_mean          | -8.34       |\n",
      "| time/                   |             |\n",
      "|    fps                  | 103         |\n",
      "|    iterations           | 66          |\n",
      "|    time_elapsed         | 1304        |\n",
      "|    total_timesteps      | 135168      |\n",
      "| train/                  |             |\n",
      "|    approx_kl            | 0.012925601 |\n",
      "|    clip_fraction        | 0.109       |\n",
      "|    clip_range           | 0.2         |\n",
      "|    entropy_loss         | -3.47       |\n",
      "|    explained_variance   | 0.628       |\n",
      "|    learning_rate        | 0.0003      |\n",
      "|    loss                 | 0.461       |\n",
      "|    n_updates            | 650         |\n",
      "|    policy_gradient_loss | -0.00736    |\n",
      "|    std                  | 0.574       |\n",
      "|    value_loss           | 0.916       |\n",
      "-----------------------------------------\n"
     ]
    },
    {
     "name": "stdout",
     "output_type": "stream",
     "text": [
      "Saving video to /Users/mukilankrishnakumar/Desktop/Gym/videos/mucg1bqc/rl-video-step-135200-to-step-135400.mp4\n",
      "Saving video to /Users/mukilankrishnakumar/Desktop/Gym/videos/mucg1bqc/rl-video-step-135600-to-step-135800.mp4\n",
      "Saving video to /Users/mukilankrishnakumar/Desktop/Gym/videos/mucg1bqc/rl-video-step-136000-to-step-136200.mp4\n",
      "Saving video to /Users/mukilankrishnakumar/Desktop/Gym/videos/mucg1bqc/rl-video-step-136400-to-step-136600.mp4\n",
      "Saving video to /Users/mukilankrishnakumar/Desktop/Gym/videos/mucg1bqc/rl-video-step-136800-to-step-137000.mp4\n",
      "-----------------------------------------\n",
      "| rollout/                |             |\n",
      "|    ep_len_mean          | 1.28e+03    |\n",
      "|    ep_rew_mean          | -5.77       |\n",
      "| time/                   |             |\n",
      "|    fps                  | 103         |\n",
      "|    iterations           | 67          |\n",
      "|    time_elapsed         | 1324        |\n",
      "|    total_timesteps      | 137216      |\n",
      "| train/                  |             |\n",
      "|    approx_kl            | 0.013012014 |\n",
      "|    clip_fraction        | 0.16        |\n",
      "|    clip_range           | 0.2         |\n",
      "|    entropy_loss         | -3.45       |\n",
      "|    explained_variance   | 0.806       |\n",
      "|    learning_rate        | 0.0003      |\n",
      "|    loss                 | 0.2         |\n",
      "|    n_updates            | 660         |\n",
      "|    policy_gradient_loss | -0.0104     |\n",
      "|    std                  | 0.572       |\n",
      "|    value_loss           | 0.468       |\n",
      "-----------------------------------------\n",
      "Saving video to /Users/mukilankrishnakumar/Desktop/Gym/videos/mucg1bqc/rl-video-step-137200-to-step-137400.mp4\n",
      "Saving video to /Users/mukilankrishnakumar/Desktop/Gym/videos/mucg1bqc/rl-video-step-137600-to-step-137800.mp4\n",
      "Saving video to /Users/mukilankrishnakumar/Desktop/Gym/videos/mucg1bqc/rl-video-step-138000-to-step-138200.mp4\n",
      "Saving video to /Users/mukilankrishnakumar/Desktop/Gym/videos/mucg1bqc/rl-video-step-138400-to-step-138600.mp4\n",
      "Saving video to /Users/mukilankrishnakumar/Desktop/Gym/videos/mucg1bqc/rl-video-step-138800-to-step-139000.mp4\n",
      "-----------------------------------------\n",
      "| rollout/                |             |\n",
      "|    ep_len_mean          | 1.27e+03    |\n",
      "|    ep_rew_mean          | -3.45       |\n",
      "| time/                   |             |\n",
      "|    fps                  | 103         |\n",
      "|    iterations           | 68          |\n",
      "|    time_elapsed         | 1344        |\n",
      "|    total_timesteps      | 139264      |\n",
      "| train/                  |             |\n",
      "|    approx_kl            | 0.010972589 |\n",
      "|    clip_fraction        | 0.117       |\n",
      "|    clip_range           | 0.2         |\n",
      "|    entropy_loss         | -3.43       |\n",
      "|    explained_variance   | 0.916       |\n",
      "|    learning_rate        | 0.0003      |\n",
      "|    loss                 | 7.91        |\n",
      "|    n_updates            | 670         |\n",
      "|    policy_gradient_loss | -0.00727    |\n",
      "|    std                  | 0.569       |\n",
      "|    value_loss           | 9.88        |\n",
      "-----------------------------------------\n",
      "Saving video to /Users/mukilankrishnakumar/Desktop/Gym/videos/mucg1bqc/rl-video-step-139200-to-step-139400.mp4\n",
      "Saving video to /Users/mukilankrishnakumar/Desktop/Gym/videos/mucg1bqc/rl-video-step-139600-to-step-139800.mp4\n",
      "Saving video to /Users/mukilankrishnakumar/Desktop/Gym/videos/mucg1bqc/rl-video-step-140000-to-step-140200.mp4\n",
      "Saving video to /Users/mukilankrishnakumar/Desktop/Gym/videos/mucg1bqc/rl-video-step-140400-to-step-140600.mp4\n",
      "Saving video to /Users/mukilankrishnakumar/Desktop/Gym/videos/mucg1bqc/rl-video-step-140800-to-step-141000.mp4\n",
      "------------------------------------------\n",
      "| rollout/                |              |\n",
      "|    ep_len_mean          | 1.27e+03     |\n",
      "|    ep_rew_mean          | 1.89         |\n",
      "| time/                   |              |\n",
      "|    fps                  | 103          |\n",
      "|    iterations           | 69           |\n",
      "|    time_elapsed         | 1365         |\n",
      "|    total_timesteps      | 141312       |\n",
      "| train/                  |              |\n",
      "|    approx_kl            | 0.0050604385 |\n",
      "|    clip_fraction        | 0.0538       |\n",
      "|    clip_range           | 0.2          |\n",
      "|    entropy_loss         | -3.41        |\n",
      "|    explained_variance   | 0.499        |\n",
      "|    learning_rate        | 0.0003       |\n",
      "|    loss                 | 32.8         |\n",
      "|    n_updates            | 680          |\n",
      "|    policy_gradient_loss | -0.00788     |\n",
      "|    std                  | 0.568        |\n",
      "|    value_loss           | 87.3         |\n",
      "------------------------------------------\n",
      "Saving video to /Users/mukilankrishnakumar/Desktop/Gym/videos/mucg1bqc/rl-video-step-141200-to-step-141400.mp4\n",
      "Saving video to /Users/mukilankrishnakumar/Desktop/Gym/videos/mucg1bqc/rl-video-step-141600-to-step-141800.mp4\n",
      "Saving video to /Users/mukilankrishnakumar/Desktop/Gym/videos/mucg1bqc/rl-video-step-142000-to-step-142200.mp4\n",
      "Saving video to /Users/mukilankrishnakumar/Desktop/Gym/videos/mucg1bqc/rl-video-step-142400-to-step-142600.mp4\n",
      "Saving video to /Users/mukilankrishnakumar/Desktop/Gym/videos/mucg1bqc/rl-video-step-142800-to-step-143000.mp4\n",
      "-----------------------------------------\n",
      "| rollout/                |             |\n",
      "|    ep_len_mean          | 1.27e+03    |\n",
      "|    ep_rew_mean          | 4.69        |\n",
      "| time/                   |             |\n",
      "|    fps                  | 103         |\n",
      "|    iterations           | 70          |\n",
      "|    time_elapsed         | 1385        |\n",
      "|    total_timesteps      | 143360      |\n",
      "| train/                  |             |\n",
      "|    approx_kl            | 0.014432572 |\n",
      "|    clip_fraction        | 0.156       |\n",
      "|    clip_range           | 0.2         |\n",
      "|    entropy_loss         | -3.39       |\n",
      "|    explained_variance   | 0.505       |\n",
      "|    learning_rate        | 0.0003      |\n",
      "|    loss                 | 0.161       |\n",
      "|    n_updates            | 690         |\n",
      "|    policy_gradient_loss | -0.00884    |\n",
      "|    std                  | 0.562       |\n",
      "|    value_loss           | 0.593       |\n",
      "-----------------------------------------\n",
      "Saving video to /Users/mukilankrishnakumar/Desktop/Gym/videos/mucg1bqc/rl-video-step-143200-to-step-143400.mp4\n",
      "Saving video to /Users/mukilankrishnakumar/Desktop/Gym/videos/mucg1bqc/rl-video-step-143600-to-step-143800.mp4\n",
      "Saving video to /Users/mukilankrishnakumar/Desktop/Gym/videos/mucg1bqc/rl-video-step-144000-to-step-144200.mp4\n",
      "Saving video to /Users/mukilankrishnakumar/Desktop/Gym/videos/mucg1bqc/rl-video-step-144400-to-step-144600.mp4\n",
      "Saving video to /Users/mukilankrishnakumar/Desktop/Gym/videos/mucg1bqc/rl-video-step-144800-to-step-145000.mp4\n",
      "Saving video to /Users/mukilankrishnakumar/Desktop/Gym/videos/mucg1bqc/rl-video-step-145200-to-step-145400.mp4\n",
      "-----------------------------------------\n",
      "| rollout/                |             |\n",
      "|    ep_len_mean          | 1.27e+03    |\n",
      "|    ep_rew_mean          | 7.69        |\n",
      "| time/                   |             |\n",
      "|    fps                  | 103         |\n",
      "|    iterations           | 71          |\n",
      "|    time_elapsed         | 1405        |\n",
      "|    total_timesteps      | 145408      |\n",
      "| train/                  |             |\n",
      "|    approx_kl            | 0.012713097 |\n",
      "|    clip_fraction        | 0.161       |\n",
      "|    clip_range           | 0.2         |\n",
      "|    entropy_loss         | -3.35       |\n",
      "|    explained_variance   | 0.819       |\n",
      "|    learning_rate        | 0.0003      |\n",
      "|    loss                 | 0.217       |\n",
      "|    n_updates            | 700         |\n",
      "|    policy_gradient_loss | -0.0109     |\n",
      "|    std                  | 0.557       |\n",
      "|    value_loss           | 0.449       |\n",
      "-----------------------------------------\n",
      "Saving video to /Users/mukilankrishnakumar/Desktop/Gym/videos/mucg1bqc/rl-video-step-145600-to-step-145800.mp4\n",
      "Saving video to /Users/mukilankrishnakumar/Desktop/Gym/videos/mucg1bqc/rl-video-step-146000-to-step-146200.mp4\n",
      "Saving video to /Users/mukilankrishnakumar/Desktop/Gym/videos/mucg1bqc/rl-video-step-146400-to-step-146600.mp4\n",
      "Saving video to /Users/mukilankrishnakumar/Desktop/Gym/videos/mucg1bqc/rl-video-step-146800-to-step-147000.mp4\n",
      "Saving video to /Users/mukilankrishnakumar/Desktop/Gym/videos/mucg1bqc/rl-video-step-147200-to-step-147400.mp4\n",
      "-----------------------------------------\n",
      "| rollout/                |             |\n",
      "|    ep_len_mean          | 1.27e+03    |\n",
      "|    ep_rew_mean          | 10.6        |\n",
      "| time/                   |             |\n",
      "|    fps                  | 103         |\n",
      "|    iterations           | 72          |\n",
      "|    time_elapsed         | 1424        |\n",
      "|    total_timesteps      | 147456      |\n",
      "| train/                  |             |\n",
      "|    approx_kl            | 0.011842279 |\n",
      "|    clip_fraction        | 0.135       |\n",
      "|    clip_range           | 0.2         |\n",
      "|    entropy_loss         | -3.32       |\n",
      "|    explained_variance   | 0.795       |\n",
      "|    learning_rate        | 0.0003      |\n",
      "|    loss                 | 0.259       |\n",
      "|    n_updates            | 710         |\n",
      "|    policy_gradient_loss | -0.00918    |\n",
      "|    std                  | 0.552       |\n",
      "|    value_loss           | 0.52        |\n",
      "-----------------------------------------\n"
     ]
    },
    {
     "name": "stdout",
     "output_type": "stream",
     "text": [
      "Saving video to /Users/mukilankrishnakumar/Desktop/Gym/videos/mucg1bqc/rl-video-step-147600-to-step-147800.mp4\n",
      "Saving video to /Users/mukilankrishnakumar/Desktop/Gym/videos/mucg1bqc/rl-video-step-148000-to-step-148200.mp4\n",
      "Saving video to /Users/mukilankrishnakumar/Desktop/Gym/videos/mucg1bqc/rl-video-step-148400-to-step-148600.mp4\n",
      "Saving video to /Users/mukilankrishnakumar/Desktop/Gym/videos/mucg1bqc/rl-video-step-148800-to-step-149000.mp4\n",
      "Saving video to /Users/mukilankrishnakumar/Desktop/Gym/videos/mucg1bqc/rl-video-step-149200-to-step-149400.mp4\n",
      "-----------------------------------------\n",
      "| rollout/                |             |\n",
      "|    ep_len_mean          | 1.25e+03    |\n",
      "|    ep_rew_mean          | 11.1        |\n",
      "| time/                   |             |\n",
      "|    fps                  | 103         |\n",
      "|    iterations           | 73          |\n",
      "|    time_elapsed         | 1443        |\n",
      "|    total_timesteps      | 149504      |\n",
      "| train/                  |             |\n",
      "|    approx_kl            | 0.010299569 |\n",
      "|    clip_fraction        | 0.096       |\n",
      "|    clip_range           | 0.2         |\n",
      "|    entropy_loss         | -3.3        |\n",
      "|    explained_variance   | 0.874       |\n",
      "|    learning_rate        | 0.0003      |\n",
      "|    loss                 | 3.3         |\n",
      "|    n_updates            | 720         |\n",
      "|    policy_gradient_loss | -0.00933    |\n",
      "|    std                  | 0.552       |\n",
      "|    value_loss           | 10.6        |\n",
      "-----------------------------------------\n",
      "Saving video to /Users/mukilankrishnakumar/Desktop/Gym/videos/mucg1bqc/rl-video-step-149600-to-step-149800.mp4\n",
      "Saving video to /Users/mukilankrishnakumar/Desktop/Gym/videos/mucg1bqc/rl-video-step-150000-to-step-150200.mp4\n",
      "Saving video to /Users/mukilankrishnakumar/Desktop/Gym/videos/mucg1bqc/rl-video-step-150400-to-step-150600.mp4\n",
      "Saving video to /Users/mukilankrishnakumar/Desktop/Gym/videos/mucg1bqc/rl-video-step-150800-to-step-151000.mp4\n",
      "Saving video to /Users/mukilankrishnakumar/Desktop/Gym/videos/mucg1bqc/rl-video-step-151200-to-step-151400.mp4\n",
      "-----------------------------------------\n",
      "| rollout/                |             |\n",
      "|    ep_len_mean          | 1.2e+03     |\n",
      "|    ep_rew_mean          | 13.1        |\n",
      "| time/                   |             |\n",
      "|    fps                  | 103         |\n",
      "|    iterations           | 74          |\n",
      "|    time_elapsed         | 1463        |\n",
      "|    total_timesteps      | 151552      |\n",
      "| train/                  |             |\n",
      "|    approx_kl            | 0.007520725 |\n",
      "|    clip_fraction        | 0.0572      |\n",
      "|    clip_range           | 0.2         |\n",
      "|    entropy_loss         | -3.29       |\n",
      "|    explained_variance   | 0.659       |\n",
      "|    learning_rate        | 0.0003      |\n",
      "|    loss                 | 33.1        |\n",
      "|    n_updates            | 730         |\n",
      "|    policy_gradient_loss | -0.00984    |\n",
      "|    std                  | 0.551       |\n",
      "|    value_loss           | 64.3        |\n",
      "-----------------------------------------\n",
      "Saving video to /Users/mukilankrishnakumar/Desktop/Gym/videos/mucg1bqc/rl-video-step-151600-to-step-151800.mp4\n",
      "Saving video to /Users/mukilankrishnakumar/Desktop/Gym/videos/mucg1bqc/rl-video-step-152000-to-step-152200.mp4\n",
      "Saving video to /Users/mukilankrishnakumar/Desktop/Gym/videos/mucg1bqc/rl-video-step-152400-to-step-152600.mp4\n",
      "Saving video to /Users/mukilankrishnakumar/Desktop/Gym/videos/mucg1bqc/rl-video-step-152800-to-step-153000.mp4\n",
      "Saving video to /Users/mukilankrishnakumar/Desktop/Gym/videos/mucg1bqc/rl-video-step-153200-to-step-153400.mp4\n",
      "------------------------------------------\n",
      "| rollout/                |              |\n",
      "|    ep_len_mean          | 1.2e+03      |\n",
      "|    ep_rew_mean          | 18           |\n",
      "| time/                   |              |\n",
      "|    fps                  | 103          |\n",
      "|    iterations           | 75           |\n",
      "|    time_elapsed         | 1482         |\n",
      "|    total_timesteps      | 153600       |\n",
      "| train/                  |              |\n",
      "|    approx_kl            | 0.0072492296 |\n",
      "|    clip_fraction        | 0.0712       |\n",
      "|    clip_range           | 0.2          |\n",
      "|    entropy_loss         | -3.29        |\n",
      "|    explained_variance   | 0.89         |\n",
      "|    learning_rate        | 0.0003       |\n",
      "|    loss                 | 11           |\n",
      "|    n_updates            | 740          |\n",
      "|    policy_gradient_loss | -0.00845     |\n",
      "|    std                  | 0.55         |\n",
      "|    value_loss           | 38.5         |\n",
      "------------------------------------------\n",
      "Saving video to /Users/mukilankrishnakumar/Desktop/Gym/videos/mucg1bqc/rl-video-step-153600-to-step-153800.mp4\n",
      "Saving video to /Users/mukilankrishnakumar/Desktop/Gym/videos/mucg1bqc/rl-video-step-154000-to-step-154200.mp4\n",
      "Saving video to /Users/mukilankrishnakumar/Desktop/Gym/videos/mucg1bqc/rl-video-step-154400-to-step-154600.mp4\n",
      "Saving video to /Users/mukilankrishnakumar/Desktop/Gym/videos/mucg1bqc/rl-video-step-154800-to-step-155000.mp4\n",
      "Saving video to /Users/mukilankrishnakumar/Desktop/Gym/videos/mucg1bqc/rl-video-step-155200-to-step-155400.mp4\n",
      "-----------------------------------------\n",
      "| rollout/                |             |\n",
      "|    ep_len_mean          | 1.18e+03    |\n",
      "|    ep_rew_mean          | 17.7        |\n",
      "| time/                   |             |\n",
      "|    fps                  | 103         |\n",
      "|    iterations           | 76          |\n",
      "|    time_elapsed         | 1502        |\n",
      "|    total_timesteps      | 155648      |\n",
      "| train/                  |             |\n",
      "|    approx_kl            | 0.010359012 |\n",
      "|    clip_fraction        | 0.118       |\n",
      "|    clip_range           | 0.2         |\n",
      "|    entropy_loss         | -3.3        |\n",
      "|    explained_variance   | 0.845       |\n",
      "|    learning_rate        | 0.0003      |\n",
      "|    loss                 | 0.329       |\n",
      "|    n_updates            | 750         |\n",
      "|    policy_gradient_loss | -0.012      |\n",
      "|    std                  | 0.553       |\n",
      "|    value_loss           | 2.32        |\n",
      "-----------------------------------------\n",
      "Saving video to /Users/mukilankrishnakumar/Desktop/Gym/videos/mucg1bqc/rl-video-step-155600-to-step-155800.mp4\n",
      "Saving video to /Users/mukilankrishnakumar/Desktop/Gym/videos/mucg1bqc/rl-video-step-156000-to-step-156200.mp4\n",
      "Saving video to /Users/mukilankrishnakumar/Desktop/Gym/videos/mucg1bqc/rl-video-step-156400-to-step-156600.mp4\n",
      "Saving video to /Users/mukilankrishnakumar/Desktop/Gym/videos/mucg1bqc/rl-video-step-156800-to-step-157000.mp4\n",
      "Saving video to /Users/mukilankrishnakumar/Desktop/Gym/videos/mucg1bqc/rl-video-step-157200-to-step-157400.mp4\n",
      "-----------------------------------------\n",
      "| rollout/                |             |\n",
      "|    ep_len_mean          | 1.17e+03    |\n",
      "|    ep_rew_mean          | 18.2        |\n",
      "| time/                   |             |\n",
      "|    fps                  | 103         |\n",
      "|    iterations           | 77          |\n",
      "|    time_elapsed         | 1523        |\n",
      "|    total_timesteps      | 157696      |\n",
      "| train/                  |             |\n",
      "|    approx_kl            | 0.008014729 |\n",
      "|    clip_fraction        | 0.101       |\n",
      "|    clip_range           | 0.2         |\n",
      "|    entropy_loss         | -3.3        |\n",
      "|    explained_variance   | 0.705       |\n",
      "|    learning_rate        | 0.0003      |\n",
      "|    loss                 | 0.703       |\n",
      "|    n_updates            | 760         |\n",
      "|    policy_gradient_loss | -0.0103     |\n",
      "|    std                  | 0.552       |\n",
      "|    value_loss           | 40          |\n",
      "-----------------------------------------\n",
      "Saving video to /Users/mukilankrishnakumar/Desktop/Gym/videos/mucg1bqc/rl-video-step-157600-to-step-157800.mp4\n",
      "Saving video to /Users/mukilankrishnakumar/Desktop/Gym/videos/mucg1bqc/rl-video-step-158000-to-step-158200.mp4\n",
      "Saving video to /Users/mukilankrishnakumar/Desktop/Gym/videos/mucg1bqc/rl-video-step-158400-to-step-158600.mp4\n",
      "Saving video to /Users/mukilankrishnakumar/Desktop/Gym/videos/mucg1bqc/rl-video-step-158800-to-step-159000.mp4\n",
      "Saving video to /Users/mukilankrishnakumar/Desktop/Gym/videos/mucg1bqc/rl-video-step-159200-to-step-159400.mp4\n",
      "-----------------------------------------\n",
      "| rollout/                |             |\n",
      "|    ep_len_mean          | 1.17e+03    |\n",
      "|    ep_rew_mean          | 20.6        |\n",
      "| time/                   |             |\n",
      "|    fps                  | 103         |\n",
      "|    iterations           | 78          |\n",
      "|    time_elapsed         | 1543        |\n",
      "|    total_timesteps      | 159744      |\n",
      "| train/                  |             |\n",
      "|    approx_kl            | 0.008726189 |\n",
      "|    clip_fraction        | 0.0665      |\n",
      "|    clip_range           | 0.2         |\n",
      "|    entropy_loss         | -3.29       |\n",
      "|    explained_variance   | 0.876       |\n",
      "|    learning_rate        | 0.0003      |\n",
      "|    loss                 | 4.42        |\n",
      "|    n_updates            | 770         |\n",
      "|    policy_gradient_loss | -0.00783    |\n",
      "|    std                  | 0.552       |\n",
      "|    value_loss           | 40.2        |\n",
      "-----------------------------------------\n"
     ]
    },
    {
     "name": "stdout",
     "output_type": "stream",
     "text": [
      "Saving video to /Users/mukilankrishnakumar/Desktop/Gym/videos/mucg1bqc/rl-video-step-159600-to-step-159800.mp4\n",
      "Saving video to /Users/mukilankrishnakumar/Desktop/Gym/videos/mucg1bqc/rl-video-step-160000-to-step-160200.mp4\n",
      "Saving video to /Users/mukilankrishnakumar/Desktop/Gym/videos/mucg1bqc/rl-video-step-160400-to-step-160600.mp4\n",
      "Saving video to /Users/mukilankrishnakumar/Desktop/Gym/videos/mucg1bqc/rl-video-step-160800-to-step-161000.mp4\n",
      "Saving video to /Users/mukilankrishnakumar/Desktop/Gym/videos/mucg1bqc/rl-video-step-161200-to-step-161400.mp4\n",
      "-----------------------------------------\n",
      "| rollout/                |             |\n",
      "|    ep_len_mean          | 1.15e+03    |\n",
      "|    ep_rew_mean          | 23.4        |\n",
      "| time/                   |             |\n",
      "|    fps                  | 103         |\n",
      "|    iterations           | 79          |\n",
      "|    time_elapsed         | 1563        |\n",
      "|    total_timesteps      | 161792      |\n",
      "| train/                  |             |\n",
      "|    approx_kl            | 0.015588431 |\n",
      "|    clip_fraction        | 0.183       |\n",
      "|    clip_range           | 0.2         |\n",
      "|    entropy_loss         | -3.25       |\n",
      "|    explained_variance   | 0.469       |\n",
      "|    learning_rate        | 0.0003      |\n",
      "|    loss                 | 0.611       |\n",
      "|    n_updates            | 780         |\n",
      "|    policy_gradient_loss | -0.0124     |\n",
      "|    std                  | 0.541       |\n",
      "|    value_loss           | 1.05        |\n",
      "-----------------------------------------\n",
      "Saving video to /Users/mukilankrishnakumar/Desktop/Gym/videos/mucg1bqc/rl-video-step-161600-to-step-161800.mp4\n",
      "Saving video to /Users/mukilankrishnakumar/Desktop/Gym/videos/mucg1bqc/rl-video-step-162000-to-step-162200.mp4\n",
      "Saving video to /Users/mukilankrishnakumar/Desktop/Gym/videos/mucg1bqc/rl-video-step-162400-to-step-162600.mp4\n",
      "Saving video to /Users/mukilankrishnakumar/Desktop/Gym/videos/mucg1bqc/rl-video-step-162800-to-step-163000.mp4\n",
      "Saving video to /Users/mukilankrishnakumar/Desktop/Gym/videos/mucg1bqc/rl-video-step-163200-to-step-163400.mp4\n",
      "Saving video to /Users/mukilankrishnakumar/Desktop/Gym/videos/mucg1bqc/rl-video-step-163600-to-step-163800.mp4\n",
      "-----------------------------------------\n",
      "| rollout/                |             |\n",
      "|    ep_len_mean          | 1.13e+03    |\n",
      "|    ep_rew_mean          | 23.6        |\n",
      "| time/                   |             |\n",
      "|    fps                  | 103         |\n",
      "|    iterations           | 80          |\n",
      "|    time_elapsed         | 1582        |\n",
      "|    total_timesteps      | 163840      |\n",
      "| train/                  |             |\n",
      "|    approx_kl            | 0.010981367 |\n",
      "|    clip_fraction        | 0.112       |\n",
      "|    clip_range           | 0.2         |\n",
      "|    entropy_loss         | -3.22       |\n",
      "|    explained_variance   | 0.892       |\n",
      "|    learning_rate        | 0.0003      |\n",
      "|    loss                 | 6.85        |\n",
      "|    n_updates            | 790         |\n",
      "|    policy_gradient_loss | -0.00944    |\n",
      "|    std                  | 0.542       |\n",
      "|    value_loss           | 22.6        |\n",
      "-----------------------------------------\n",
      "Saving video to /Users/mukilankrishnakumar/Desktop/Gym/videos/mucg1bqc/rl-video-step-164000-to-step-164200.mp4\n",
      "Saving video to /Users/mukilankrishnakumar/Desktop/Gym/videos/mucg1bqc/rl-video-step-164400-to-step-164600.mp4\n",
      "Saving video to /Users/mukilankrishnakumar/Desktop/Gym/videos/mucg1bqc/rl-video-step-164800-to-step-165000.mp4\n",
      "Saving video to /Users/mukilankrishnakumar/Desktop/Gym/videos/mucg1bqc/rl-video-step-165200-to-step-165400.mp4\n",
      "Saving video to /Users/mukilankrishnakumar/Desktop/Gym/videos/mucg1bqc/rl-video-step-165600-to-step-165800.mp4\n",
      "-----------------------------------------\n",
      "| rollout/                |             |\n",
      "|    ep_len_mean          | 1.13e+03    |\n",
      "|    ep_rew_mean          | 25.6        |\n",
      "| time/                   |             |\n",
      "|    fps                  | 103         |\n",
      "|    iterations           | 81          |\n",
      "|    time_elapsed         | 1602        |\n",
      "|    total_timesteps      | 165888      |\n",
      "| train/                  |             |\n",
      "|    approx_kl            | 0.012591953 |\n",
      "|    clip_fraction        | 0.115       |\n",
      "|    clip_range           | 0.2         |\n",
      "|    entropy_loss         | -3.22       |\n",
      "|    explained_variance   | 0.933       |\n",
      "|    learning_rate        | 0.0003      |\n",
      "|    loss                 | 4.14        |\n",
      "|    n_updates            | 800         |\n",
      "|    policy_gradient_loss | -0.0131     |\n",
      "|    std                  | 0.541       |\n",
      "|    value_loss           | 11.9        |\n",
      "-----------------------------------------\n",
      "Saving video to /Users/mukilankrishnakumar/Desktop/Gym/videos/mucg1bqc/rl-video-step-166000-to-step-166200.mp4\n",
      "Saving video to /Users/mukilankrishnakumar/Desktop/Gym/videos/mucg1bqc/rl-video-step-166400-to-step-166600.mp4\n",
      "Saving video to /Users/mukilankrishnakumar/Desktop/Gym/videos/mucg1bqc/rl-video-step-166800-to-step-167000.mp4\n",
      "Saving video to /Users/mukilankrishnakumar/Desktop/Gym/videos/mucg1bqc/rl-video-step-167200-to-step-167400.mp4\n",
      "Saving video to /Users/mukilankrishnakumar/Desktop/Gym/videos/mucg1bqc/rl-video-step-167600-to-step-167800.mp4\n",
      "-----------------------------------------\n",
      "| rollout/                |             |\n",
      "|    ep_len_mean          | 1.13e+03    |\n",
      "|    ep_rew_mean          | 29.6        |\n",
      "| time/                   |             |\n",
      "|    fps                  | 103         |\n",
      "|    iterations           | 82          |\n",
      "|    time_elapsed         | 1621        |\n",
      "|    total_timesteps      | 167936      |\n",
      "| train/                  |             |\n",
      "|    approx_kl            | 0.011386538 |\n",
      "|    clip_fraction        | 0.14        |\n",
      "|    clip_range           | 0.2         |\n",
      "|    entropy_loss         | -3.21       |\n",
      "|    explained_variance   | 0.675       |\n",
      "|    learning_rate        | 0.0003      |\n",
      "|    loss                 | 0.991       |\n",
      "|    n_updates            | 810         |\n",
      "|    policy_gradient_loss | -0.00781    |\n",
      "|    std                  | 0.539       |\n",
      "|    value_loss           | 4.44        |\n",
      "-----------------------------------------\n",
      "Saving video to /Users/mukilankrishnakumar/Desktop/Gym/videos/mucg1bqc/rl-video-step-168000-to-step-168200.mp4\n",
      "Saving video to /Users/mukilankrishnakumar/Desktop/Gym/videos/mucg1bqc/rl-video-step-168400-to-step-168600.mp4\n",
      "Saving video to /Users/mukilankrishnakumar/Desktop/Gym/videos/mucg1bqc/rl-video-step-168800-to-step-169000.mp4\n",
      "Saving video to /Users/mukilankrishnakumar/Desktop/Gym/videos/mucg1bqc/rl-video-step-169200-to-step-169400.mp4\n",
      "Saving video to /Users/mukilankrishnakumar/Desktop/Gym/videos/mucg1bqc/rl-video-step-169600-to-step-169800.mp4\n",
      "-----------------------------------------\n",
      "| rollout/                |             |\n",
      "|    ep_len_mean          | 1.13e+03    |\n",
      "|    ep_rew_mean          | 31.7        |\n",
      "| time/                   |             |\n",
      "|    fps                  | 103         |\n",
      "|    iterations           | 83          |\n",
      "|    time_elapsed         | 1640        |\n",
      "|    total_timesteps      | 169984      |\n",
      "| train/                  |             |\n",
      "|    approx_kl            | 0.016413089 |\n",
      "|    clip_fraction        | 0.205       |\n",
      "|    clip_range           | 0.2         |\n",
      "|    entropy_loss         | -3.18       |\n",
      "|    explained_variance   | 0.593       |\n",
      "|    learning_rate        | 0.0003      |\n",
      "|    loss                 | 0.733       |\n",
      "|    n_updates            | 820         |\n",
      "|    policy_gradient_loss | -0.0133     |\n",
      "|    std                  | 0.534       |\n",
      "|    value_loss           | 1.17        |\n",
      "-----------------------------------------\n",
      "Saving video to /Users/mukilankrishnakumar/Desktop/Gym/videos/mucg1bqc/rl-video-step-170000-to-step-170200.mp4\n",
      "Saving video to /Users/mukilankrishnakumar/Desktop/Gym/videos/mucg1bqc/rl-video-step-170400-to-step-170600.mp4\n",
      "Saving video to /Users/mukilankrishnakumar/Desktop/Gym/videos/mucg1bqc/rl-video-step-170800-to-step-171000.mp4\n",
      "Saving video to /Users/mukilankrishnakumar/Desktop/Gym/videos/mucg1bqc/rl-video-step-171200-to-step-171400.mp4\n",
      "Saving video to /Users/mukilankrishnakumar/Desktop/Gym/videos/mucg1bqc/rl-video-step-171600-to-step-171800.mp4\n",
      "-----------------------------------------\n",
      "| rollout/                |             |\n",
      "|    ep_len_mean          | 1.13e+03    |\n",
      "|    ep_rew_mean          | 34          |\n",
      "| time/                   |             |\n",
      "|    fps                  | 103         |\n",
      "|    iterations           | 84          |\n",
      "|    time_elapsed         | 1660        |\n",
      "|    total_timesteps      | 172032      |\n",
      "| train/                  |             |\n",
      "|    approx_kl            | 0.015636276 |\n",
      "|    clip_fraction        | 0.202       |\n",
      "|    clip_range           | 0.2         |\n",
      "|    entropy_loss         | -3.15       |\n",
      "|    explained_variance   | 0.673       |\n",
      "|    learning_rate        | 0.0003      |\n",
      "|    loss                 | 0.151       |\n",
      "|    n_updates            | 830         |\n",
      "|    policy_gradient_loss | -0.0129     |\n",
      "|    std                  | 0.532       |\n",
      "|    value_loss           | 0.368       |\n",
      "-----------------------------------------\n"
     ]
    },
    {
     "name": "stdout",
     "output_type": "stream",
     "text": [
      "Saving video to /Users/mukilankrishnakumar/Desktop/Gym/videos/mucg1bqc/rl-video-step-172000-to-step-172200.mp4\n",
      "Saving video to /Users/mukilankrishnakumar/Desktop/Gym/videos/mucg1bqc/rl-video-step-172400-to-step-172600.mp4\n",
      "Saving video to /Users/mukilankrishnakumar/Desktop/Gym/videos/mucg1bqc/rl-video-step-172800-to-step-173000.mp4\n",
      "Saving video to /Users/mukilankrishnakumar/Desktop/Gym/videos/mucg1bqc/rl-video-step-173200-to-step-173400.mp4\n",
      "Saving video to /Users/mukilankrishnakumar/Desktop/Gym/videos/mucg1bqc/rl-video-step-173600-to-step-173800.mp4\n",
      "-----------------------------------------\n",
      "| rollout/                |             |\n",
      "|    ep_len_mean          | 1.12e+03    |\n",
      "|    ep_rew_mean          | 34.5        |\n",
      "| time/                   |             |\n",
      "|    fps                  | 103         |\n",
      "|    iterations           | 85          |\n",
      "|    time_elapsed         | 1681        |\n",
      "|    total_timesteps      | 174080      |\n",
      "| train/                  |             |\n",
      "|    approx_kl            | 0.011634757 |\n",
      "|    clip_fraction        | 0.164       |\n",
      "|    clip_range           | 0.2         |\n",
      "|    entropy_loss         | -3.13       |\n",
      "|    explained_variance   | 0.804       |\n",
      "|    learning_rate        | 0.0003      |\n",
      "|    loss                 | 0.192       |\n",
      "|    n_updates            | 840         |\n",
      "|    policy_gradient_loss | -0.0089     |\n",
      "|    std                  | 0.527       |\n",
      "|    value_loss           | 0.342       |\n",
      "-----------------------------------------\n",
      "Saving video to /Users/mukilankrishnakumar/Desktop/Gym/videos/mucg1bqc/rl-video-step-174000-to-step-174200.mp4\n",
      "Saving video to /Users/mukilankrishnakumar/Desktop/Gym/videos/mucg1bqc/rl-video-step-174400-to-step-174600.mp4\n",
      "Saving video to /Users/mukilankrishnakumar/Desktop/Gym/videos/mucg1bqc/rl-video-step-174800-to-step-175000.mp4\n",
      "Saving video to /Users/mukilankrishnakumar/Desktop/Gym/videos/mucg1bqc/rl-video-step-175200-to-step-175400.mp4\n",
      "Saving video to /Users/mukilankrishnakumar/Desktop/Gym/videos/mucg1bqc/rl-video-step-175600-to-step-175800.mp4\n",
      "-----------------------------------------\n",
      "| rollout/                |             |\n",
      "|    ep_len_mean          | 1.09e+03    |\n",
      "|    ep_rew_mean          | 34.1        |\n",
      "| time/                   |             |\n",
      "|    fps                  | 103         |\n",
      "|    iterations           | 86          |\n",
      "|    time_elapsed         | 1701        |\n",
      "|    total_timesteps      | 176128      |\n",
      "| train/                  |             |\n",
      "|    approx_kl            | 0.008853328 |\n",
      "|    clip_fraction        | 0.101       |\n",
      "|    clip_range           | 0.2         |\n",
      "|    entropy_loss         | -3.1        |\n",
      "|    explained_variance   | 0.94        |\n",
      "|    learning_rate        | 0.0003      |\n",
      "|    loss                 | 1.18        |\n",
      "|    n_updates            | 850         |\n",
      "|    policy_gradient_loss | -0.00459    |\n",
      "|    std                  | 0.526       |\n",
      "|    value_loss           | 6.15        |\n",
      "-----------------------------------------\n",
      "Saving video to /Users/mukilankrishnakumar/Desktop/Gym/videos/mucg1bqc/rl-video-step-176000-to-step-176200.mp4\n",
      "Saving video to /Users/mukilankrishnakumar/Desktop/Gym/videos/mucg1bqc/rl-video-step-176400-to-step-176600.mp4\n",
      "Saving video to /Users/mukilankrishnakumar/Desktop/Gym/videos/mucg1bqc/rl-video-step-176800-to-step-177000.mp4\n",
      "Saving video to /Users/mukilankrishnakumar/Desktop/Gym/videos/mucg1bqc/rl-video-step-177200-to-step-177400.mp4\n",
      "Saving video to /Users/mukilankrishnakumar/Desktop/Gym/videos/mucg1bqc/rl-video-step-177600-to-step-177800.mp4\n",
      "-----------------------------------------\n",
      "| rollout/                |             |\n",
      "|    ep_len_mean          | 1.11e+03    |\n",
      "|    ep_rew_mean          | 37.2        |\n",
      "| time/                   |             |\n",
      "|    fps                  | 103         |\n",
      "|    iterations           | 87          |\n",
      "|    time_elapsed         | 1721        |\n",
      "|    total_timesteps      | 178176      |\n",
      "| train/                  |             |\n",
      "|    approx_kl            | 0.010711322 |\n",
      "|    clip_fraction        | 0.121       |\n",
      "|    clip_range           | 0.2         |\n",
      "|    entropy_loss         | -3.1        |\n",
      "|    explained_variance   | 0.943       |\n",
      "|    learning_rate        | 0.0003      |\n",
      "|    loss                 | 8.16        |\n",
      "|    n_updates            | 860         |\n",
      "|    policy_gradient_loss | -0.0108     |\n",
      "|    std                  | 0.526       |\n",
      "|    value_loss           | 14.7        |\n",
      "-----------------------------------------\n",
      "Saving video to /Users/mukilankrishnakumar/Desktop/Gym/videos/mucg1bqc/rl-video-step-178000-to-step-178200.mp4\n",
      "Saving video to /Users/mukilankrishnakumar/Desktop/Gym/videos/mucg1bqc/rl-video-step-178400-to-step-178600.mp4\n",
      "Saving video to /Users/mukilankrishnakumar/Desktop/Gym/videos/mucg1bqc/rl-video-step-178800-to-step-179000.mp4\n",
      "Saving video to /Users/mukilankrishnakumar/Desktop/Gym/videos/mucg1bqc/rl-video-step-179200-to-step-179400.mp4\n",
      "Saving video to /Users/mukilankrishnakumar/Desktop/Gym/videos/mucg1bqc/rl-video-step-179600-to-step-179800.mp4\n",
      "Saving video to /Users/mukilankrishnakumar/Desktop/Gym/videos/mucg1bqc/rl-video-step-180000-to-step-180200.mp4\n",
      "-----------------------------------------\n",
      "| rollout/                |             |\n",
      "|    ep_len_mean          | 1.09e+03    |\n",
      "|    ep_rew_mean          | 37.3        |\n",
      "| time/                   |             |\n",
      "|    fps                  | 103         |\n",
      "|    iterations           | 88          |\n",
      "|    time_elapsed         | 1741        |\n",
      "|    total_timesteps      | 180224      |\n",
      "| train/                  |             |\n",
      "|    approx_kl            | 0.007928664 |\n",
      "|    clip_fraction        | 0.112       |\n",
      "|    clip_range           | 0.2         |\n",
      "|    entropy_loss         | -3.1        |\n",
      "|    explained_variance   | 0.94        |\n",
      "|    learning_rate        | 0.0003      |\n",
      "|    loss                 | 13.6        |\n",
      "|    n_updates            | 870         |\n",
      "|    policy_gradient_loss | -0.00816    |\n",
      "|    std                  | 0.527       |\n",
      "|    value_loss           | 11          |\n",
      "-----------------------------------------\n",
      "Saving video to /Users/mukilankrishnakumar/Desktop/Gym/videos/mucg1bqc/rl-video-step-180400-to-step-180600.mp4\n",
      "Saving video to /Users/mukilankrishnakumar/Desktop/Gym/videos/mucg1bqc/rl-video-step-180800-to-step-181000.mp4\n",
      "Saving video to /Users/mukilankrishnakumar/Desktop/Gym/videos/mucg1bqc/rl-video-step-181200-to-step-181400.mp4\n",
      "Saving video to /Users/mukilankrishnakumar/Desktop/Gym/videos/mucg1bqc/rl-video-step-181600-to-step-181800.mp4\n",
      "Saving video to /Users/mukilankrishnakumar/Desktop/Gym/videos/mucg1bqc/rl-video-step-182000-to-step-182200.mp4\n",
      "-----------------------------------------\n",
      "| rollout/                |             |\n",
      "|    ep_len_mean          | 1.09e+03    |\n",
      "|    ep_rew_mean          | 38.6        |\n",
      "| time/                   |             |\n",
      "|    fps                  | 103         |\n",
      "|    iterations           | 89          |\n",
      "|    time_elapsed         | 1760        |\n",
      "|    total_timesteps      | 182272      |\n",
      "| train/                  |             |\n",
      "|    approx_kl            | 0.014141815 |\n",
      "|    clip_fraction        | 0.114       |\n",
      "|    clip_range           | 0.2         |\n",
      "|    entropy_loss         | -3.11       |\n",
      "|    explained_variance   | 0.956       |\n",
      "|    learning_rate        | 0.0003      |\n",
      "|    loss                 | 2.99        |\n",
      "|    n_updates            | 880         |\n",
      "|    policy_gradient_loss | -0.00799    |\n",
      "|    std                  | 0.528       |\n",
      "|    value_loss           | 8.25        |\n",
      "-----------------------------------------\n",
      "Saving video to /Users/mukilankrishnakumar/Desktop/Gym/videos/mucg1bqc/rl-video-step-182400-to-step-182600.mp4\n",
      "Saving video to /Users/mukilankrishnakumar/Desktop/Gym/videos/mucg1bqc/rl-video-step-182800-to-step-183000.mp4\n",
      "Saving video to /Users/mukilankrishnakumar/Desktop/Gym/videos/mucg1bqc/rl-video-step-183200-to-step-183400.mp4\n",
      "Saving video to /Users/mukilankrishnakumar/Desktop/Gym/videos/mucg1bqc/rl-video-step-183600-to-step-183800.mp4\n",
      "Saving video to /Users/mukilankrishnakumar/Desktop/Gym/videos/mucg1bqc/rl-video-step-184000-to-step-184200.mp4\n",
      "-----------------------------------------\n",
      "| rollout/                |             |\n",
      "|    ep_len_mean          | 1.11e+03    |\n",
      "|    ep_rew_mean          | 43.1        |\n",
      "| time/                   |             |\n",
      "|    fps                  | 103         |\n",
      "|    iterations           | 90          |\n",
      "|    time_elapsed         | 1780        |\n",
      "|    total_timesteps      | 184320      |\n",
      "| train/                  |             |\n",
      "|    approx_kl            | 0.018235017 |\n",
      "|    clip_fraction        | 0.191       |\n",
      "|    clip_range           | 0.2         |\n",
      "|    entropy_loss         | -3.13       |\n",
      "|    explained_variance   | -0.0476     |\n",
      "|    learning_rate        | 0.0003      |\n",
      "|    loss                 | 0.258       |\n",
      "|    n_updates            | 890         |\n",
      "|    policy_gradient_loss | -0.00823    |\n",
      "|    std                  | 0.531       |\n",
      "|    value_loss           | 0.879       |\n",
      "-----------------------------------------\n"
     ]
    },
    {
     "name": "stdout",
     "output_type": "stream",
     "text": [
      "Saving video to /Users/mukilankrishnakumar/Desktop/Gym/videos/mucg1bqc/rl-video-step-184400-to-step-184600.mp4\n",
      "Saving video to /Users/mukilankrishnakumar/Desktop/Gym/videos/mucg1bqc/rl-video-step-184800-to-step-185000.mp4\n",
      "Saving video to /Users/mukilankrishnakumar/Desktop/Gym/videos/mucg1bqc/rl-video-step-185200-to-step-185400.mp4\n",
      "Saving video to /Users/mukilankrishnakumar/Desktop/Gym/videos/mucg1bqc/rl-video-step-185600-to-step-185800.mp4\n",
      "Saving video to /Users/mukilankrishnakumar/Desktop/Gym/videos/mucg1bqc/rl-video-step-186000-to-step-186200.mp4\n",
      "-----------------------------------------\n",
      "| rollout/                |             |\n",
      "|    ep_len_mean          | 1.09e+03    |\n",
      "|    ep_rew_mean          | 42.7        |\n",
      "| time/                   |             |\n",
      "|    fps                  | 103         |\n",
      "|    iterations           | 91          |\n",
      "|    time_elapsed         | 1800        |\n",
      "|    total_timesteps      | 186368      |\n",
      "| train/                  |             |\n",
      "|    approx_kl            | 0.021800317 |\n",
      "|    clip_fraction        | 0.212       |\n",
      "|    clip_range           | 0.2         |\n",
      "|    entropy_loss         | -3.08       |\n",
      "|    explained_variance   | 0.776       |\n",
      "|    learning_rate        | 0.0003      |\n",
      "|    loss                 | 0.217       |\n",
      "|    n_updates            | 900         |\n",
      "|    policy_gradient_loss | -0.014      |\n",
      "|    std                  | 0.52        |\n",
      "|    value_loss           | 0.505       |\n",
      "-----------------------------------------\n",
      "Saving video to /Users/mukilankrishnakumar/Desktop/Gym/videos/mucg1bqc/rl-video-step-186400-to-step-186600.mp4\n",
      "Saving video to /Users/mukilankrishnakumar/Desktop/Gym/videos/mucg1bqc/rl-video-step-186800-to-step-187000.mp4\n",
      "Saving video to /Users/mukilankrishnakumar/Desktop/Gym/videos/mucg1bqc/rl-video-step-187200-to-step-187400.mp4\n",
      "Saving video to /Users/mukilankrishnakumar/Desktop/Gym/videos/mucg1bqc/rl-video-step-187600-to-step-187800.mp4\n",
      "Saving video to /Users/mukilankrishnakumar/Desktop/Gym/videos/mucg1bqc/rl-video-step-188000-to-step-188200.mp4\n",
      "------------------------------------------\n",
      "| rollout/                |              |\n",
      "|    ep_len_mean          | 1.11e+03     |\n",
      "|    ep_rew_mean          | 45.7         |\n",
      "| time/                   |              |\n",
      "|    fps                  | 103          |\n",
      "|    iterations           | 92           |\n",
      "|    time_elapsed         | 1819         |\n",
      "|    total_timesteps      | 188416       |\n",
      "| train/                  |              |\n",
      "|    approx_kl            | 0.0068716174 |\n",
      "|    clip_fraction        | 0.0859       |\n",
      "|    clip_range           | 0.2          |\n",
      "|    entropy_loss         | -3.05        |\n",
      "|    explained_variance   | 0.878        |\n",
      "|    learning_rate        | 0.0003       |\n",
      "|    loss                 | 0.87         |\n",
      "|    n_updates            | 910          |\n",
      "|    policy_gradient_loss | -0.00636     |\n",
      "|    std                  | 0.518        |\n",
      "|    value_loss           | 16           |\n",
      "------------------------------------------\n",
      "Saving video to /Users/mukilankrishnakumar/Desktop/Gym/videos/mucg1bqc/rl-video-step-188400-to-step-188600.mp4\n",
      "Saving video to /Users/mukilankrishnakumar/Desktop/Gym/videos/mucg1bqc/rl-video-step-188800-to-step-189000.mp4\n",
      "Saving video to /Users/mukilankrishnakumar/Desktop/Gym/videos/mucg1bqc/rl-video-step-189200-to-step-189400.mp4\n",
      "Saving video to /Users/mukilankrishnakumar/Desktop/Gym/videos/mucg1bqc/rl-video-step-189600-to-step-189800.mp4\n",
      "Saving video to /Users/mukilankrishnakumar/Desktop/Gym/videos/mucg1bqc/rl-video-step-190000-to-step-190200.mp4\n",
      "-----------------------------------------\n",
      "| rollout/                |             |\n",
      "|    ep_len_mean          | 1.11e+03    |\n",
      "|    ep_rew_mean          | 46.9        |\n",
      "| time/                   |             |\n",
      "|    fps                  | 103         |\n",
      "|    iterations           | 93          |\n",
      "|    time_elapsed         | 1840        |\n",
      "|    total_timesteps      | 190464      |\n",
      "| train/                  |             |\n",
      "|    approx_kl            | 0.012174036 |\n",
      "|    clip_fraction        | 0.159       |\n",
      "|    clip_range           | 0.2         |\n",
      "|    entropy_loss         | -3.02       |\n",
      "|    explained_variance   | 0.686       |\n",
      "|    learning_rate        | 0.0003      |\n",
      "|    loss                 | 0.415       |\n",
      "|    n_updates            | 920         |\n",
      "|    policy_gradient_loss | -0.0131     |\n",
      "|    std                  | 0.513       |\n",
      "|    value_loss           | 0.982       |\n",
      "-----------------------------------------\n",
      "Saving video to /Users/mukilankrishnakumar/Desktop/Gym/videos/mucg1bqc/rl-video-step-190400-to-step-190600.mp4\n",
      "Saving video to /Users/mukilankrishnakumar/Desktop/Gym/videos/mucg1bqc/rl-video-step-190800-to-step-191000.mp4\n",
      "Saving video to /Users/mukilankrishnakumar/Desktop/Gym/videos/mucg1bqc/rl-video-step-191200-to-step-191400.mp4\n",
      "Saving video to /Users/mukilankrishnakumar/Desktop/Gym/videos/mucg1bqc/rl-video-step-191600-to-step-191800.mp4\n",
      "Saving video to /Users/mukilankrishnakumar/Desktop/Gym/videos/mucg1bqc/rl-video-step-192000-to-step-192200.mp4\n",
      "----------------------------------------\n",
      "| rollout/                |            |\n",
      "|    ep_len_mean          | 1.11e+03   |\n",
      "|    ep_rew_mean          | 50.6       |\n",
      "| time/                   |            |\n",
      "|    fps                  | 103        |\n",
      "|    iterations           | 94         |\n",
      "|    time_elapsed         | 1860       |\n",
      "|    total_timesteps      | 192512     |\n",
      "| train/                  |            |\n",
      "|    approx_kl            | 0.01641059 |\n",
      "|    clip_fraction        | 0.208      |\n",
      "|    clip_range           | 0.2        |\n",
      "|    entropy_loss         | -2.97      |\n",
      "|    explained_variance   | 0.832      |\n",
      "|    learning_rate        | 0.0003     |\n",
      "|    loss                 | 0.206      |\n",
      "|    n_updates            | 930        |\n",
      "|    policy_gradient_loss | -0.0131    |\n",
      "|    std                  | 0.506      |\n",
      "|    value_loss           | 0.502      |\n",
      "----------------------------------------\n",
      "Saving video to /Users/mukilankrishnakumar/Desktop/Gym/videos/mucg1bqc/rl-video-step-192400-to-step-192600.mp4\n",
      "Saving video to /Users/mukilankrishnakumar/Desktop/Gym/videos/mucg1bqc/rl-video-step-192800-to-step-193000.mp4\n",
      "Saving video to /Users/mukilankrishnakumar/Desktop/Gym/videos/mucg1bqc/rl-video-step-193200-to-step-193400.mp4\n",
      "Saving video to /Users/mukilankrishnakumar/Desktop/Gym/videos/mucg1bqc/rl-video-step-193600-to-step-193800.mp4\n",
      "Saving video to /Users/mukilankrishnakumar/Desktop/Gym/videos/mucg1bqc/rl-video-step-194000-to-step-194200.mp4\n",
      "-----------------------------------------\n",
      "| rollout/                |             |\n",
      "|    ep_len_mean          | 1.09e+03    |\n",
      "|    ep_rew_mean          | 50.8        |\n",
      "| time/                   |             |\n",
      "|    fps                  | 103         |\n",
      "|    iterations           | 95          |\n",
      "|    time_elapsed         | 1880        |\n",
      "|    total_timesteps      | 194560      |\n",
      "| train/                  |             |\n",
      "|    approx_kl            | 0.014653347 |\n",
      "|    clip_fraction        | 0.182       |\n",
      "|    clip_range           | 0.2         |\n",
      "|    entropy_loss         | -2.91       |\n",
      "|    explained_variance   | 0.838       |\n",
      "|    learning_rate        | 0.0003      |\n",
      "|    loss                 | 0.0769      |\n",
      "|    n_updates            | 940         |\n",
      "|    policy_gradient_loss | -0.0152     |\n",
      "|    std                  | 0.498       |\n",
      "|    value_loss           | 0.474       |\n",
      "-----------------------------------------\n",
      "Saving video to /Users/mukilankrishnakumar/Desktop/Gym/videos/mucg1bqc/rl-video-step-194400-to-step-194600.mp4\n",
      "Saving video to /Users/mukilankrishnakumar/Desktop/Gym/videos/mucg1bqc/rl-video-step-194800-to-step-195000.mp4\n",
      "Saving video to /Users/mukilankrishnakumar/Desktop/Gym/videos/mucg1bqc/rl-video-step-195200-to-step-195400.mp4\n",
      "Saving video to /Users/mukilankrishnakumar/Desktop/Gym/videos/mucg1bqc/rl-video-step-195600-to-step-195800.mp4\n",
      "Saving video to /Users/mukilankrishnakumar/Desktop/Gym/videos/mucg1bqc/rl-video-step-196000-to-step-196200.mp4\n",
      "Saving video to /Users/mukilankrishnakumar/Desktop/Gym/videos/mucg1bqc/rl-video-step-196400-to-step-196600.mp4\n",
      "-----------------------------------------\n",
      "| rollout/                |             |\n",
      "|    ep_len_mean          | 1.08e+03    |\n",
      "|    ep_rew_mean          | 50.4        |\n",
      "| time/                   |             |\n",
      "|    fps                  | 103         |\n",
      "|    iterations           | 96          |\n",
      "|    time_elapsed         | 1900        |\n",
      "|    total_timesteps      | 196608      |\n",
      "| train/                  |             |\n",
      "|    approx_kl            | 0.014131893 |\n",
      "|    clip_fraction        | 0.184       |\n",
      "|    clip_range           | 0.2         |\n",
      "|    entropy_loss         | -2.89       |\n",
      "|    explained_variance   | 0.923       |\n",
      "|    learning_rate        | 0.0003      |\n",
      "|    loss                 | 2.12        |\n",
      "|    n_updates            | 950         |\n",
      "|    policy_gradient_loss | -0.00874    |\n",
      "|    std                  | 0.499       |\n",
      "|    value_loss           | 4.56        |\n",
      "-----------------------------------------\n"
     ]
    },
    {
     "name": "stdout",
     "output_type": "stream",
     "text": [
      "Saving video to /Users/mukilankrishnakumar/Desktop/Gym/videos/mucg1bqc/rl-video-step-196800-to-step-197000.mp4\n",
      "Saving video to /Users/mukilankrishnakumar/Desktop/Gym/videos/mucg1bqc/rl-video-step-197200-to-step-197400.mp4\n",
      "Saving video to /Users/mukilankrishnakumar/Desktop/Gym/videos/mucg1bqc/rl-video-step-197600-to-step-197800.mp4\n",
      "Saving video to /Users/mukilankrishnakumar/Desktop/Gym/videos/mucg1bqc/rl-video-step-198000-to-step-198200.mp4\n",
      "Saving video to /Users/mukilankrishnakumar/Desktop/Gym/videos/mucg1bqc/rl-video-step-198400-to-step-198600.mp4\n",
      "-----------------------------------------\n",
      "| rollout/                |             |\n",
      "|    ep_len_mean          | 1.09e+03    |\n",
      "|    ep_rew_mean          | 52.1        |\n",
      "| time/                   |             |\n",
      "|    fps                  | 103         |\n",
      "|    iterations           | 97          |\n",
      "|    time_elapsed         | 1920        |\n",
      "|    total_timesteps      | 198656      |\n",
      "| train/                  |             |\n",
      "|    approx_kl            | 0.011638753 |\n",
      "|    clip_fraction        | 0.13        |\n",
      "|    clip_range           | 0.2         |\n",
      "|    entropy_loss         | -2.88       |\n",
      "|    explained_variance   | 0.931       |\n",
      "|    learning_rate        | 0.0003      |\n",
      "|    loss                 | 9.77        |\n",
      "|    n_updates            | 960         |\n",
      "|    policy_gradient_loss | -0.00965    |\n",
      "|    std                  | 0.498       |\n",
      "|    value_loss           | 10.9        |\n",
      "-----------------------------------------\n",
      "Saving video to /Users/mukilankrishnakumar/Desktop/Gym/videos/mucg1bqc/rl-video-step-198800-to-step-199000.mp4\n",
      "Saving video to /Users/mukilankrishnakumar/Desktop/Gym/videos/mucg1bqc/rl-video-step-199200-to-step-199400.mp4\n",
      "Saving video to /Users/mukilankrishnakumar/Desktop/Gym/videos/mucg1bqc/rl-video-step-199600-to-step-199800.mp4\n",
      "Saving video to /Users/mukilankrishnakumar/Desktop/Gym/videos/mucg1bqc/rl-video-step-200000-to-step-200200.mp4\n",
      "Saving video to /Users/mukilankrishnakumar/Desktop/Gym/videos/mucg1bqc/rl-video-step-200400-to-step-200600.mp4\n",
      "-----------------------------------------\n",
      "| rollout/                |             |\n",
      "|    ep_len_mean          | 1.08e+03    |\n",
      "|    ep_rew_mean          | 51.1        |\n",
      "| time/                   |             |\n",
      "|    fps                  | 103         |\n",
      "|    iterations           | 98          |\n",
      "|    time_elapsed         | 1939        |\n",
      "|    total_timesteps      | 200704      |\n",
      "| train/                  |             |\n",
      "|    approx_kl            | 0.006078111 |\n",
      "|    clip_fraction        | 0.0984      |\n",
      "|    clip_range           | 0.2         |\n",
      "|    entropy_loss         | -2.88       |\n",
      "|    explained_variance   | 0.945       |\n",
      "|    learning_rate        | 0.0003      |\n",
      "|    loss                 | 7.59        |\n",
      "|    n_updates            | 970         |\n",
      "|    policy_gradient_loss | -0.00771    |\n",
      "|    std                  | 0.497       |\n",
      "|    value_loss           | 19.9        |\n",
      "-----------------------------------------\n",
      "Saving video to /Users/mukilankrishnakumar/Desktop/Gym/videos/mucg1bqc/rl-video-step-200800-to-step-201000.mp4\n",
      "Saving video to /Users/mukilankrishnakumar/Desktop/Gym/videos/mucg1bqc/rl-video-step-201200-to-step-201400.mp4\n",
      "Saving video to /Users/mukilankrishnakumar/Desktop/Gym/videos/mucg1bqc/rl-video-step-201600-to-step-201800.mp4\n",
      "Saving video to /Users/mukilankrishnakumar/Desktop/Gym/videos/mucg1bqc/rl-video-step-202000-to-step-202200.mp4\n",
      "Saving video to /Users/mukilankrishnakumar/Desktop/Gym/videos/mucg1bqc/rl-video-step-202400-to-step-202600.mp4\n",
      "-----------------------------------------\n",
      "| rollout/                |             |\n",
      "|    ep_len_mean          | 1.08e+03    |\n",
      "|    ep_rew_mean          | 54.5        |\n",
      "| time/                   |             |\n",
      "|    fps                  | 103         |\n",
      "|    iterations           | 99          |\n",
      "|    time_elapsed         | 1958        |\n",
      "|    total_timesteps      | 202752      |\n",
      "| train/                  |             |\n",
      "|    approx_kl            | 0.007286985 |\n",
      "|    clip_fraction        | 0.0743      |\n",
      "|    clip_range           | 0.2         |\n",
      "|    entropy_loss         | -2.88       |\n",
      "|    explained_variance   | 0.932       |\n",
      "|    learning_rate        | 0.0003      |\n",
      "|    loss                 | 7.08        |\n",
      "|    n_updates            | 980         |\n",
      "|    policy_gradient_loss | -0.00672    |\n",
      "|    std                  | 0.498       |\n",
      "|    value_loss           | 28.6        |\n",
      "-----------------------------------------\n",
      "Saving video to /Users/mukilankrishnakumar/Desktop/Gym/videos/mucg1bqc/rl-video-step-202800-to-step-203000.mp4\n",
      "Saving video to /Users/mukilankrishnakumar/Desktop/Gym/videos/mucg1bqc/rl-video-step-203200-to-step-203400.mp4\n",
      "Saving video to /Users/mukilankrishnakumar/Desktop/Gym/videos/mucg1bqc/rl-video-step-203600-to-step-203800.mp4\n",
      "Saving video to /Users/mukilankrishnakumar/Desktop/Gym/videos/mucg1bqc/rl-video-step-204000-to-step-204200.mp4\n",
      "Saving video to /Users/mukilankrishnakumar/Desktop/Gym/videos/mucg1bqc/rl-video-step-204400-to-step-204600.mp4\n",
      "-----------------------------------------\n",
      "| rollout/                |             |\n",
      "|    ep_len_mean          | 1.08e+03    |\n",
      "|    ep_rew_mean          | 55.7        |\n",
      "| time/                   |             |\n",
      "|    fps                  | 103         |\n",
      "|    iterations           | 100         |\n",
      "|    time_elapsed         | 1978        |\n",
      "|    total_timesteps      | 204800      |\n",
      "| train/                  |             |\n",
      "|    approx_kl            | 0.016242556 |\n",
      "|    clip_fraction        | 0.181       |\n",
      "|    clip_range           | 0.2         |\n",
      "|    entropy_loss         | -2.87       |\n",
      "|    explained_variance   | -0.0877     |\n",
      "|    learning_rate        | 0.0003      |\n",
      "|    loss                 | 0.423       |\n",
      "|    n_updates            | 990         |\n",
      "|    policy_gradient_loss | -0.00635    |\n",
      "|    std                  | 0.495       |\n",
      "|    value_loss           | 0.933       |\n",
      "-----------------------------------------\n",
      "Saving video to /Users/mukilankrishnakumar/Desktop/Gym/videos/mucg1bqc/rl-video-step-204800-to-step-205000.mp4\n",
      "Saving video to /Users/mukilankrishnakumar/Desktop/Gym/videos/mucg1bqc/rl-video-step-205200-to-step-205400.mp4\n",
      "Saving video to /Users/mukilankrishnakumar/Desktop/Gym/videos/mucg1bqc/rl-video-step-205600-to-step-205800.mp4\n",
      "Saving video to /Users/mukilankrishnakumar/Desktop/Gym/videos/mucg1bqc/rl-video-step-206000-to-step-206200.mp4\n",
      "Saving video to /Users/mukilankrishnakumar/Desktop/Gym/videos/mucg1bqc/rl-video-step-206400-to-step-206600.mp4\n",
      "-----------------------------------------\n",
      "| rollout/                |             |\n",
      "|    ep_len_mean          | 1.08e+03    |\n",
      "|    ep_rew_mean          | 56.8        |\n",
      "| time/                   |             |\n",
      "|    fps                  | 103         |\n",
      "|    iterations           | 101         |\n",
      "|    time_elapsed         | 1998        |\n",
      "|    total_timesteps      | 206848      |\n",
      "| train/                  |             |\n",
      "|    approx_kl            | 0.014568187 |\n",
      "|    clip_fraction        | 0.185       |\n",
      "|    clip_range           | 0.2         |\n",
      "|    entropy_loss         | -2.84       |\n",
      "|    explained_variance   | 0.622       |\n",
      "|    learning_rate        | 0.0003      |\n",
      "|    loss                 | 0.195       |\n",
      "|    n_updates            | 1000        |\n",
      "|    policy_gradient_loss | -0.0103     |\n",
      "|    std                  | 0.491       |\n",
      "|    value_loss           | 0.485       |\n",
      "-----------------------------------------\n",
      "Saving video to /Users/mukilankrishnakumar/Desktop/Gym/videos/mucg1bqc/rl-video-step-206800-to-step-207000.mp4\n",
      "Saving video to /Users/mukilankrishnakumar/Desktop/Gym/videos/mucg1bqc/rl-video-step-207200-to-step-207400.mp4\n",
      "Saving video to /Users/mukilankrishnakumar/Desktop/Gym/videos/mucg1bqc/rl-video-step-207600-to-step-207800.mp4\n",
      "Saving video to /Users/mukilankrishnakumar/Desktop/Gym/videos/mucg1bqc/rl-video-step-208000-to-step-208200.mp4\n",
      "Saving video to /Users/mukilankrishnakumar/Desktop/Gym/videos/mucg1bqc/rl-video-step-208400-to-step-208600.mp4\n",
      "-----------------------------------------\n",
      "| rollout/                |             |\n",
      "|    ep_len_mean          | 1.08e+03    |\n",
      "|    ep_rew_mean          | 57.4        |\n",
      "| time/                   |             |\n",
      "|    fps                  | 103         |\n",
      "|    iterations           | 102         |\n",
      "|    time_elapsed         | 2018        |\n",
      "|    total_timesteps      | 208896      |\n",
      "| train/                  |             |\n",
      "|    approx_kl            | 0.016235575 |\n",
      "|    clip_fraction        | 0.179       |\n",
      "|    clip_range           | 0.2         |\n",
      "|    entropy_loss         | -2.81       |\n",
      "|    explained_variance   | 0.825       |\n",
      "|    learning_rate        | 0.0003      |\n",
      "|    loss                 | 0.127       |\n",
      "|    n_updates            | 1010        |\n",
      "|    policy_gradient_loss | -0.0117     |\n",
      "|    std                  | 0.489       |\n",
      "|    value_loss           | 0.399       |\n",
      "-----------------------------------------\n"
     ]
    },
    {
     "name": "stdout",
     "output_type": "stream",
     "text": [
      "Saving video to /Users/mukilankrishnakumar/Desktop/Gym/videos/mucg1bqc/rl-video-step-208800-to-step-209000.mp4\n",
      "Saving video to /Users/mukilankrishnakumar/Desktop/Gym/videos/mucg1bqc/rl-video-step-209200-to-step-209400.mp4\n",
      "Saving video to /Users/mukilankrishnakumar/Desktop/Gym/videos/mucg1bqc/rl-video-step-209600-to-step-209800.mp4\n",
      "Saving video to /Users/mukilankrishnakumar/Desktop/Gym/videos/mucg1bqc/rl-video-step-210000-to-step-210200.mp4\n",
      "Saving video to /Users/mukilankrishnakumar/Desktop/Gym/videos/mucg1bqc/rl-video-step-210400-to-step-210600.mp4\n",
      "-----------------------------------------\n",
      "| rollout/                |             |\n",
      "|    ep_len_mean          | 1.07e+03    |\n",
      "|    ep_rew_mean          | 56.2        |\n",
      "| time/                   |             |\n",
      "|    fps                  | 103         |\n",
      "|    iterations           | 103         |\n",
      "|    time_elapsed         | 2038        |\n",
      "|    total_timesteps      | 210944      |\n",
      "| train/                  |             |\n",
      "|    approx_kl            | 0.015431392 |\n",
      "|    clip_fraction        | 0.183       |\n",
      "|    clip_range           | 0.2         |\n",
      "|    entropy_loss         | -2.81       |\n",
      "|    explained_variance   | 0.935       |\n",
      "|    learning_rate        | 0.0003      |\n",
      "|    loss                 | 2.08        |\n",
      "|    n_updates            | 1020        |\n",
      "|    policy_gradient_loss | -0.00808    |\n",
      "|    std                  | 0.49        |\n",
      "|    value_loss           | 4.95        |\n",
      "-----------------------------------------\n",
      "Saving video to /Users/mukilankrishnakumar/Desktop/Gym/videos/mucg1bqc/rl-video-step-210800-to-step-211000.mp4\n",
      "Saving video to /Users/mukilankrishnakumar/Desktop/Gym/videos/mucg1bqc/rl-video-step-211200-to-step-211400.mp4\n",
      "Saving video to /Users/mukilankrishnakumar/Desktop/Gym/videos/mucg1bqc/rl-video-step-211600-to-step-211800.mp4\n",
      "Saving video to /Users/mukilankrishnakumar/Desktop/Gym/videos/mucg1bqc/rl-video-step-212000-to-step-212200.mp4\n",
      "Saving video to /Users/mukilankrishnakumar/Desktop/Gym/videos/mucg1bqc/rl-video-step-212400-to-step-212600.mp4\n",
      "-----------------------------------------\n",
      "| rollout/                |             |\n",
      "|    ep_len_mean          | 1.06e+03    |\n",
      "|    ep_rew_mean          | 57.7        |\n",
      "| time/                   |             |\n",
      "|    fps                  | 103         |\n",
      "|    iterations           | 104         |\n",
      "|    time_elapsed         | 2058        |\n",
      "|    total_timesteps      | 212992      |\n",
      "| train/                  |             |\n",
      "|    approx_kl            | 0.015199799 |\n",
      "|    clip_fraction        | 0.155       |\n",
      "|    clip_range           | 0.2         |\n",
      "|    entropy_loss         | -2.81       |\n",
      "|    explained_variance   | 0.895       |\n",
      "|    learning_rate        | 0.0003      |\n",
      "|    loss                 | 6.41        |\n",
      "|    n_updates            | 1030        |\n",
      "|    policy_gradient_loss | -0.00825    |\n",
      "|    std                  | 0.49        |\n",
      "|    value_loss           | 16.5        |\n",
      "-----------------------------------------\n",
      "Saving video to /Users/mukilankrishnakumar/Desktop/Gym/videos/mucg1bqc/rl-video-step-212800-to-step-213000.mp4\n",
      "Saving video to /Users/mukilankrishnakumar/Desktop/Gym/videos/mucg1bqc/rl-video-step-213200-to-step-213400.mp4\n",
      "Saving video to /Users/mukilankrishnakumar/Desktop/Gym/videos/mucg1bqc/rl-video-step-213600-to-step-213800.mp4\n",
      "Saving video to /Users/mukilankrishnakumar/Desktop/Gym/videos/mucg1bqc/rl-video-step-214000-to-step-214200.mp4\n",
      "Saving video to /Users/mukilankrishnakumar/Desktop/Gym/videos/mucg1bqc/rl-video-step-214400-to-step-214600.mp4\n",
      "Saving video to /Users/mukilankrishnakumar/Desktop/Gym/videos/mucg1bqc/rl-video-step-214800-to-step-215000.mp4\n",
      "-----------------------------------------\n",
      "| rollout/                |             |\n",
      "|    ep_len_mean          | 1.06e+03    |\n",
      "|    ep_rew_mean          | 58.3        |\n",
      "| time/                   |             |\n",
      "|    fps                  | 103         |\n",
      "|    iterations           | 105         |\n",
      "|    time_elapsed         | 2078        |\n",
      "|    total_timesteps      | 215040      |\n",
      "| train/                  |             |\n",
      "|    approx_kl            | 0.012765561 |\n",
      "|    clip_fraction        | 0.153       |\n",
      "|    clip_range           | 0.2         |\n",
      "|    entropy_loss         | -2.82       |\n",
      "|    explained_variance   | 0.906       |\n",
      "|    learning_rate        | 0.0003      |\n",
      "|    loss                 | 0.39        |\n",
      "|    n_updates            | 1040        |\n",
      "|    policy_gradient_loss | -0.00955    |\n",
      "|    std                  | 0.49        |\n",
      "|    value_loss           | 15          |\n",
      "-----------------------------------------\n",
      "Saving video to /Users/mukilankrishnakumar/Desktop/Gym/videos/mucg1bqc/rl-video-step-215200-to-step-215400.mp4\n",
      "Saving video to /Users/mukilankrishnakumar/Desktop/Gym/videos/mucg1bqc/rl-video-step-215600-to-step-215800.mp4\n",
      "Saving video to /Users/mukilankrishnakumar/Desktop/Gym/videos/mucg1bqc/rl-video-step-216000-to-step-216200.mp4\n",
      "Saving video to /Users/mukilankrishnakumar/Desktop/Gym/videos/mucg1bqc/rl-video-step-216400-to-step-216600.mp4\n",
      "Saving video to /Users/mukilankrishnakumar/Desktop/Gym/videos/mucg1bqc/rl-video-step-216800-to-step-217000.mp4\n",
      "-----------------------------------------\n",
      "| rollout/                |             |\n",
      "|    ep_len_mean          | 1.06e+03    |\n",
      "|    ep_rew_mean          | 58.1        |\n",
      "| time/                   |             |\n",
      "|    fps                  | 103         |\n",
      "|    iterations           | 106         |\n",
      "|    time_elapsed         | 2097        |\n",
      "|    total_timesteps      | 217088      |\n",
      "| train/                  |             |\n",
      "|    approx_kl            | 0.018787138 |\n",
      "|    clip_fraction        | 0.173       |\n",
      "|    clip_range           | 0.2         |\n",
      "|    entropy_loss         | -2.82       |\n",
      "|    explained_variance   | 0.571       |\n",
      "|    learning_rate        | 0.0003      |\n",
      "|    loss                 | 0.938       |\n",
      "|    n_updates            | 1050        |\n",
      "|    policy_gradient_loss | -0.0115     |\n",
      "|    std                  | 0.491       |\n",
      "|    value_loss           | 1.31        |\n",
      "-----------------------------------------\n",
      "Saving video to /Users/mukilankrishnakumar/Desktop/Gym/videos/mucg1bqc/rl-video-step-217200-to-step-217400.mp4\n",
      "Saving video to /Users/mukilankrishnakumar/Desktop/Gym/videos/mucg1bqc/rl-video-step-217600-to-step-217800.mp4\n",
      "Saving video to /Users/mukilankrishnakumar/Desktop/Gym/videos/mucg1bqc/rl-video-step-218000-to-step-218200.mp4\n",
      "Saving video to /Users/mukilankrishnakumar/Desktop/Gym/videos/mucg1bqc/rl-video-step-218400-to-step-218600.mp4\n",
      "Saving video to /Users/mukilankrishnakumar/Desktop/Gym/videos/mucg1bqc/rl-video-step-218800-to-step-219000.mp4\n",
      "-----------------------------------------\n",
      "| rollout/                |             |\n",
      "|    ep_len_mean          | 1.07e+03    |\n",
      "|    ep_rew_mean          | 59.9        |\n",
      "| time/                   |             |\n",
      "|    fps                  | 103         |\n",
      "|    iterations           | 107         |\n",
      "|    time_elapsed         | 2117        |\n",
      "|    total_timesteps      | 219136      |\n",
      "| train/                  |             |\n",
      "|    approx_kl            | 0.010430963 |\n",
      "|    clip_fraction        | 0.137       |\n",
      "|    clip_range           | 0.2         |\n",
      "|    entropy_loss         | -2.82       |\n",
      "|    explained_variance   | 0.939       |\n",
      "|    learning_rate        | 0.0003      |\n",
      "|    loss                 | 0.402       |\n",
      "|    n_updates            | 1060        |\n",
      "|    policy_gradient_loss | -0.00607    |\n",
      "|    std                  | 0.491       |\n",
      "|    value_loss           | 3.91        |\n",
      "-----------------------------------------\n",
      "Saving video to /Users/mukilankrishnakumar/Desktop/Gym/videos/mucg1bqc/rl-video-step-219200-to-step-219400.mp4\n",
      "Saving video to /Users/mukilankrishnakumar/Desktop/Gym/videos/mucg1bqc/rl-video-step-219600-to-step-219800.mp4\n",
      "Saving video to /Users/mukilankrishnakumar/Desktop/Gym/videos/mucg1bqc/rl-video-step-220000-to-step-220200.mp4\n",
      "Saving video to /Users/mukilankrishnakumar/Desktop/Gym/videos/mucg1bqc/rl-video-step-220400-to-step-220600.mp4\n",
      "Saving video to /Users/mukilankrishnakumar/Desktop/Gym/videos/mucg1bqc/rl-video-step-220800-to-step-221000.mp4\n",
      "-----------------------------------------\n",
      "| rollout/                |             |\n",
      "|    ep_len_mean          | 1.06e+03    |\n",
      "|    ep_rew_mean          | 59.1        |\n",
      "| time/                   |             |\n",
      "|    fps                  | 103         |\n",
      "|    iterations           | 108         |\n",
      "|    time_elapsed         | 2136        |\n",
      "|    total_timesteps      | 221184      |\n",
      "| train/                  |             |\n",
      "|    approx_kl            | 0.006931913 |\n",
      "|    clip_fraction        | 0.0721      |\n",
      "|    clip_range           | 0.2         |\n",
      "|    entropy_loss         | -2.83       |\n",
      "|    explained_variance   | 0.863       |\n",
      "|    learning_rate        | 0.0003      |\n",
      "|    loss                 | 6.77        |\n",
      "|    n_updates            | 1070        |\n",
      "|    policy_gradient_loss | -0.0115     |\n",
      "|    std                  | 0.492       |\n",
      "|    value_loss           | 29.7        |\n",
      "-----------------------------------------\n"
     ]
    },
    {
     "name": "stdout",
     "output_type": "stream",
     "text": [
      "Saving video to /Users/mukilankrishnakumar/Desktop/Gym/videos/mucg1bqc/rl-video-step-221200-to-step-221400.mp4\n",
      "Saving video to /Users/mukilankrishnakumar/Desktop/Gym/videos/mucg1bqc/rl-video-step-221600-to-step-221800.mp4\n",
      "Saving video to /Users/mukilankrishnakumar/Desktop/Gym/videos/mucg1bqc/rl-video-step-222000-to-step-222200.mp4\n",
      "Saving video to /Users/mukilankrishnakumar/Desktop/Gym/videos/mucg1bqc/rl-video-step-222400-to-step-222600.mp4\n",
      "Saving video to /Users/mukilankrishnakumar/Desktop/Gym/videos/mucg1bqc/rl-video-step-222800-to-step-223000.mp4\n",
      "-----------------------------------------\n",
      "| rollout/                |             |\n",
      "|    ep_len_mean          | 1.07e+03    |\n",
      "|    ep_rew_mean          | 61.9        |\n",
      "| time/                   |             |\n",
      "|    fps                  | 103         |\n",
      "|    iterations           | 109         |\n",
      "|    time_elapsed         | 2156        |\n",
      "|    total_timesteps      | 223232      |\n",
      "| train/                  |             |\n",
      "|    approx_kl            | 0.014781597 |\n",
      "|    clip_fraction        | 0.139       |\n",
      "|    clip_range           | 0.2         |\n",
      "|    entropy_loss         | -2.83       |\n",
      "|    explained_variance   | 0.95        |\n",
      "|    learning_rate        | 0.0003      |\n",
      "|    loss                 | 6.31        |\n",
      "|    n_updates            | 1080        |\n",
      "|    policy_gradient_loss | -0.00999    |\n",
      "|    std                  | 0.493       |\n",
      "|    value_loss           | 8.8         |\n",
      "-----------------------------------------\n",
      "Saving video to /Users/mukilankrishnakumar/Desktop/Gym/videos/mucg1bqc/rl-video-step-223200-to-step-223400.mp4\n",
      "Saving video to /Users/mukilankrishnakumar/Desktop/Gym/videos/mucg1bqc/rl-video-step-223600-to-step-223800.mp4\n",
      "Saving video to /Users/mukilankrishnakumar/Desktop/Gym/videos/mucg1bqc/rl-video-step-224000-to-step-224200.mp4\n",
      "Saving video to /Users/mukilankrishnakumar/Desktop/Gym/videos/mucg1bqc/rl-video-step-224400-to-step-224600.mp4\n",
      "Saving video to /Users/mukilankrishnakumar/Desktop/Gym/videos/mucg1bqc/rl-video-step-224800-to-step-225000.mp4\n",
      "-----------------------------------------\n",
      "| rollout/                |             |\n",
      "|    ep_len_mean          | 1.08e+03    |\n",
      "|    ep_rew_mean          | 63          |\n",
      "| time/                   |             |\n",
      "|    fps                  | 103         |\n",
      "|    iterations           | 110         |\n",
      "|    time_elapsed         | 2176        |\n",
      "|    total_timesteps      | 225280      |\n",
      "| train/                  |             |\n",
      "|    approx_kl            | 0.009936193 |\n",
      "|    clip_fraction        | 0.101       |\n",
      "|    clip_range           | 0.2         |\n",
      "|    entropy_loss         | -2.84       |\n",
      "|    explained_variance   | 0.934       |\n",
      "|    learning_rate        | 0.0003      |\n",
      "|    loss                 | 13.1        |\n",
      "|    n_updates            | 1090        |\n",
      "|    policy_gradient_loss | -0.0113     |\n",
      "|    std                  | 0.493       |\n",
      "|    value_loss           | 20.3        |\n",
      "-----------------------------------------\n",
      "Saving video to /Users/mukilankrishnakumar/Desktop/Gym/videos/mucg1bqc/rl-video-step-225200-to-step-225400.mp4\n",
      "Saving video to /Users/mukilankrishnakumar/Desktop/Gym/videos/mucg1bqc/rl-video-step-225600-to-step-225800.mp4\n",
      "Saving video to /Users/mukilankrishnakumar/Desktop/Gym/videos/mucg1bqc/rl-video-step-226000-to-step-226200.mp4\n",
      "Saving video to /Users/mukilankrishnakumar/Desktop/Gym/videos/mucg1bqc/rl-video-step-226400-to-step-226600.mp4\n",
      "Saving video to /Users/mukilankrishnakumar/Desktop/Gym/videos/mucg1bqc/rl-video-step-226800-to-step-227000.mp4\n",
      "-----------------------------------------\n",
      "| rollout/                |             |\n",
      "|    ep_len_mean          | 1.08e+03    |\n",
      "|    ep_rew_mean          | 62.8        |\n",
      "| time/                   |             |\n",
      "|    fps                  | 103         |\n",
      "|    iterations           | 111         |\n",
      "|    time_elapsed         | 2196        |\n",
      "|    total_timesteps      | 227328      |\n",
      "| train/                  |             |\n",
      "|    approx_kl            | 0.006941843 |\n",
      "|    clip_fraction        | 0.0515      |\n",
      "|    clip_range           | 0.2         |\n",
      "|    entropy_loss         | -2.83       |\n",
      "|    explained_variance   | 0.95        |\n",
      "|    learning_rate        | 0.0003      |\n",
      "|    loss                 | 6.51        |\n",
      "|    n_updates            | 1100        |\n",
      "|    policy_gradient_loss | -0.00716    |\n",
      "|    std                  | 0.492       |\n",
      "|    value_loss           | 24.6        |\n",
      "-----------------------------------------\n",
      "Saving video to /Users/mukilankrishnakumar/Desktop/Gym/videos/mucg1bqc/rl-video-step-227200-to-step-227400.mp4\n",
      "Saving video to /Users/mukilankrishnakumar/Desktop/Gym/videos/mucg1bqc/rl-video-step-227600-to-step-227800.mp4\n",
      "Saving video to /Users/mukilankrishnakumar/Desktop/Gym/videos/mucg1bqc/rl-video-step-228000-to-step-228200.mp4\n",
      "Saving video to /Users/mukilankrishnakumar/Desktop/Gym/videos/mucg1bqc/rl-video-step-228400-to-step-228600.mp4\n",
      "Saving video to /Users/mukilankrishnakumar/Desktop/Gym/videos/mucg1bqc/rl-video-step-228800-to-step-229000.mp4\n",
      "-----------------------------------------\n",
      "| rollout/                |             |\n",
      "|    ep_len_mean          | 1.08e+03    |\n",
      "|    ep_rew_mean          | 63.3        |\n",
      "| time/                   |             |\n",
      "|    fps                  | 103         |\n",
      "|    iterations           | 112         |\n",
      "|    time_elapsed         | 2217        |\n",
      "|    total_timesteps      | 229376      |\n",
      "| train/                  |             |\n",
      "|    approx_kl            | 0.011260878 |\n",
      "|    clip_fraction        | 0.125       |\n",
      "|    clip_range           | 0.2         |\n",
      "|    entropy_loss         | -2.82       |\n",
      "|    explained_variance   | 0.942       |\n",
      "|    learning_rate        | 0.0003      |\n",
      "|    loss                 | 3.8         |\n",
      "|    n_updates            | 1110        |\n",
      "|    policy_gradient_loss | -0.0142     |\n",
      "|    std                  | 0.491       |\n",
      "|    value_loss           | 34.8        |\n",
      "-----------------------------------------\n",
      "Saving video to /Users/mukilankrishnakumar/Desktop/Gym/videos/mucg1bqc/rl-video-step-229200-to-step-229400.mp4\n",
      "Saving video to /Users/mukilankrishnakumar/Desktop/Gym/videos/mucg1bqc/rl-video-step-229600-to-step-229800.mp4\n",
      "Saving video to /Users/mukilankrishnakumar/Desktop/Gym/videos/mucg1bqc/rl-video-step-230000-to-step-230200.mp4\n",
      "Saving video to /Users/mukilankrishnakumar/Desktop/Gym/videos/mucg1bqc/rl-video-step-230400-to-step-230600.mp4\n",
      "Saving video to /Users/mukilankrishnakumar/Desktop/Gym/videos/mucg1bqc/rl-video-step-230800-to-step-231000.mp4\n",
      "Saving video to /Users/mukilankrishnakumar/Desktop/Gym/videos/mucg1bqc/rl-video-step-231200-to-step-231400.mp4\n",
      "------------------------------------------\n",
      "| rollout/                |              |\n",
      "|    ep_len_mean          | 1.08e+03     |\n",
      "|    ep_rew_mean          | 65.7         |\n",
      "| time/                   |              |\n",
      "|    fps                  | 103          |\n",
      "|    iterations           | 113          |\n",
      "|    time_elapsed         | 2236         |\n",
      "|    total_timesteps      | 231424       |\n",
      "| train/                  |              |\n",
      "|    approx_kl            | 0.0144531885 |\n",
      "|    clip_fraction        | 0.227        |\n",
      "|    clip_range           | 0.2          |\n",
      "|    entropy_loss         | -2.8         |\n",
      "|    explained_variance   | 0.0451       |\n",
      "|    learning_rate        | 0.0003       |\n",
      "|    loss                 | 0.26         |\n",
      "|    n_updates            | 1120         |\n",
      "|    policy_gradient_loss | -0.00681     |\n",
      "|    std                  | 0.486        |\n",
      "|    value_loss           | 0.765        |\n",
      "------------------------------------------\n",
      "Saving video to /Users/mukilankrishnakumar/Desktop/Gym/videos/mucg1bqc/rl-video-step-231600-to-step-231800.mp4\n",
      "Saving video to /Users/mukilankrishnakumar/Desktop/Gym/videos/mucg1bqc/rl-video-step-232000-to-step-232200.mp4\n",
      "Saving video to /Users/mukilankrishnakumar/Desktop/Gym/videos/mucg1bqc/rl-video-step-232400-to-step-232600.mp4\n",
      "Saving video to /Users/mukilankrishnakumar/Desktop/Gym/videos/mucg1bqc/rl-video-step-232800-to-step-233000.mp4\n",
      "Saving video to /Users/mukilankrishnakumar/Desktop/Gym/videos/mucg1bqc/rl-video-step-233200-to-step-233400.mp4\n",
      "-----------------------------------------\n",
      "| rollout/                |             |\n",
      "|    ep_len_mean          | 1.08e+03    |\n",
      "|    ep_rew_mean          | 66.9        |\n",
      "| time/                   |             |\n",
      "|    fps                  | 103         |\n",
      "|    iterations           | 114         |\n",
      "|    time_elapsed         | 2256        |\n",
      "|    total_timesteps      | 233472      |\n",
      "| train/                  |             |\n",
      "|    approx_kl            | 0.019252755 |\n",
      "|    clip_fraction        | 0.197       |\n",
      "|    clip_range           | 0.2         |\n",
      "|    entropy_loss         | -2.77       |\n",
      "|    explained_variance   | 0.615       |\n",
      "|    learning_rate        | 0.0003      |\n",
      "|    loss                 | 0.251       |\n",
      "|    n_updates            | 1130        |\n",
      "|    policy_gradient_loss | -0.00871    |\n",
      "|    std                  | 0.484       |\n",
      "|    value_loss           | 1.77        |\n",
      "-----------------------------------------\n"
     ]
    },
    {
     "name": "stdout",
     "output_type": "stream",
     "text": [
      "Saving video to /Users/mukilankrishnakumar/Desktop/Gym/videos/mucg1bqc/rl-video-step-233600-to-step-233800.mp4\n",
      "Saving video to /Users/mukilankrishnakumar/Desktop/Gym/videos/mucg1bqc/rl-video-step-234000-to-step-234200.mp4\n",
      "Saving video to /Users/mukilankrishnakumar/Desktop/Gym/videos/mucg1bqc/rl-video-step-234400-to-step-234600.mp4\n",
      "Saving video to /Users/mukilankrishnakumar/Desktop/Gym/videos/mucg1bqc/rl-video-step-234800-to-step-235000.mp4\n",
      "Saving video to /Users/mukilankrishnakumar/Desktop/Gym/videos/mucg1bqc/rl-video-step-235200-to-step-235400.mp4\n",
      "-----------------------------------------\n",
      "| rollout/                |             |\n",
      "|    ep_len_mean          | 1.08e+03    |\n",
      "|    ep_rew_mean          | 67.7        |\n",
      "| time/                   |             |\n",
      "|    fps                  | 103         |\n",
      "|    iterations           | 115         |\n",
      "|    time_elapsed         | 2275        |\n",
      "|    total_timesteps      | 235520      |\n",
      "| train/                  |             |\n",
      "|    approx_kl            | 0.014950134 |\n",
      "|    clip_fraction        | 0.211       |\n",
      "|    clip_range           | 0.2         |\n",
      "|    entropy_loss         | -2.76       |\n",
      "|    explained_variance   | 0.59        |\n",
      "|    learning_rate        | 0.0003      |\n",
      "|    loss                 | 0.354       |\n",
      "|    n_updates            | 1140        |\n",
      "|    policy_gradient_loss | -0.00941    |\n",
      "|    std                  | 0.483       |\n",
      "|    value_loss           | 0.711       |\n",
      "-----------------------------------------\n",
      "Saving video to /Users/mukilankrishnakumar/Desktop/Gym/videos/mucg1bqc/rl-video-step-235600-to-step-235800.mp4\n",
      "Saving video to /Users/mukilankrishnakumar/Desktop/Gym/videos/mucg1bqc/rl-video-step-236000-to-step-236200.mp4\n",
      "Saving video to /Users/mukilankrishnakumar/Desktop/Gym/videos/mucg1bqc/rl-video-step-236400-to-step-236600.mp4\n",
      "Saving video to /Users/mukilankrishnakumar/Desktop/Gym/videos/mucg1bqc/rl-video-step-236800-to-step-237000.mp4\n",
      "Saving video to /Users/mukilankrishnakumar/Desktop/Gym/videos/mucg1bqc/rl-video-step-237200-to-step-237400.mp4\n",
      "-----------------------------------------\n",
      "| rollout/                |             |\n",
      "|    ep_len_mean          | 1.08e+03    |\n",
      "|    ep_rew_mean          | 66.5        |\n",
      "| time/                   |             |\n",
      "|    fps                  | 103         |\n",
      "|    iterations           | 116         |\n",
      "|    time_elapsed         | 2294        |\n",
      "|    total_timesteps      | 237568      |\n",
      "| train/                  |             |\n",
      "|    approx_kl            | 0.013865214 |\n",
      "|    clip_fraction        | 0.225       |\n",
      "|    clip_range           | 0.2         |\n",
      "|    entropy_loss         | -2.75       |\n",
      "|    explained_variance   | -0.12       |\n",
      "|    learning_rate        | 0.0003      |\n",
      "|    loss                 | 0.167       |\n",
      "|    n_updates            | 1150        |\n",
      "|    policy_gradient_loss | -0.00783    |\n",
      "|    std                  | 0.483       |\n",
      "|    value_loss           | 1.54        |\n",
      "-----------------------------------------\n",
      "Saving video to /Users/mukilankrishnakumar/Desktop/Gym/videos/mucg1bqc/rl-video-step-237600-to-step-237800.mp4\n",
      "Saving video to /Users/mukilankrishnakumar/Desktop/Gym/videos/mucg1bqc/rl-video-step-238000-to-step-238200.mp4\n",
      "Saving video to /Users/mukilankrishnakumar/Desktop/Gym/videos/mucg1bqc/rl-video-step-238400-to-step-238600.mp4\n",
      "Saving video to /Users/mukilankrishnakumar/Desktop/Gym/videos/mucg1bqc/rl-video-step-238800-to-step-239000.mp4\n",
      "Saving video to /Users/mukilankrishnakumar/Desktop/Gym/videos/mucg1bqc/rl-video-step-239200-to-step-239400.mp4\n",
      "-----------------------------------------\n",
      "| rollout/                |             |\n",
      "|    ep_len_mean          | 1.09e+03    |\n",
      "|    ep_rew_mean          | 70.5        |\n",
      "| time/                   |             |\n",
      "|    fps                  | 103         |\n",
      "|    iterations           | 117         |\n",
      "|    time_elapsed         | 2314        |\n",
      "|    total_timesteps      | 239616      |\n",
      "| train/                  |             |\n",
      "|    approx_kl            | 0.015103916 |\n",
      "|    clip_fraction        | 0.169       |\n",
      "|    clip_range           | 0.2         |\n",
      "|    entropy_loss         | -2.75       |\n",
      "|    explained_variance   | 0.963       |\n",
      "|    learning_rate        | 0.0003      |\n",
      "|    loss                 | 0.435       |\n",
      "|    n_updates            | 1160        |\n",
      "|    policy_gradient_loss | -0.00848    |\n",
      "|    std                  | 0.483       |\n",
      "|    value_loss           | 2.25        |\n",
      "-----------------------------------------\n",
      "Saving video to /Users/mukilankrishnakumar/Desktop/Gym/videos/mucg1bqc/rl-video-step-239600-to-step-239800.mp4\n",
      "Saving video to /Users/mukilankrishnakumar/Desktop/Gym/videos/mucg1bqc/rl-video-step-240000-to-step-240200.mp4\n",
      "Saving video to /Users/mukilankrishnakumar/Desktop/Gym/videos/mucg1bqc/rl-video-step-240400-to-step-240600.mp4\n",
      "Saving video to /Users/mukilankrishnakumar/Desktop/Gym/videos/mucg1bqc/rl-video-step-240800-to-step-241000.mp4\n",
      "Saving video to /Users/mukilankrishnakumar/Desktop/Gym/videos/mucg1bqc/rl-video-step-241200-to-step-241400.mp4\n",
      "-----------------------------------------\n",
      "| rollout/                |             |\n",
      "|    ep_len_mean          | 1.1e+03     |\n",
      "|    ep_rew_mean          | 73.4        |\n",
      "| time/                   |             |\n",
      "|    fps                  | 103         |\n",
      "|    iterations           | 118         |\n",
      "|    time_elapsed         | 2334        |\n",
      "|    total_timesteps      | 241664      |\n",
      "| train/                  |             |\n",
      "|    approx_kl            | 0.017694987 |\n",
      "|    clip_fraction        | 0.215       |\n",
      "|    clip_range           | 0.2         |\n",
      "|    entropy_loss         | -2.73       |\n",
      "|    explained_variance   | 0.811       |\n",
      "|    learning_rate        | 0.0003      |\n",
      "|    loss                 | 0.148       |\n",
      "|    n_updates            | 1170        |\n",
      "|    policy_gradient_loss | -0.0099     |\n",
      "|    std                  | 0.478       |\n",
      "|    value_loss           | 0.284       |\n",
      "-----------------------------------------\n",
      "Saving video to /Users/mukilankrishnakumar/Desktop/Gym/videos/mucg1bqc/rl-video-step-241600-to-step-241800.mp4\n",
      "Saving video to /Users/mukilankrishnakumar/Desktop/Gym/videos/mucg1bqc/rl-video-step-242000-to-step-242200.mp4\n",
      "Saving video to /Users/mukilankrishnakumar/Desktop/Gym/videos/mucg1bqc/rl-video-step-242400-to-step-242600.mp4\n",
      "Saving video to /Users/mukilankrishnakumar/Desktop/Gym/videos/mucg1bqc/rl-video-step-242800-to-step-243000.mp4\n",
      "Saving video to /Users/mukilankrishnakumar/Desktop/Gym/videos/mucg1bqc/rl-video-step-243200-to-step-243400.mp4\n",
      "-----------------------------------------\n",
      "| rollout/                |             |\n",
      "|    ep_len_mean          | 1.1e+03     |\n",
      "|    ep_rew_mean          | 74.1        |\n",
      "| time/                   |             |\n",
      "|    fps                  | 103         |\n",
      "|    iterations           | 119         |\n",
      "|    time_elapsed         | 2354        |\n",
      "|    total_timesteps      | 243712      |\n",
      "| train/                  |             |\n",
      "|    approx_kl            | 0.018787855 |\n",
      "|    clip_fraction        | 0.207       |\n",
      "|    clip_range           | 0.2         |\n",
      "|    entropy_loss         | -2.68       |\n",
      "|    explained_variance   | 0.864       |\n",
      "|    learning_rate        | 0.0003      |\n",
      "|    loss                 | 0.152       |\n",
      "|    n_updates            | 1180        |\n",
      "|    policy_gradient_loss | -0.0155     |\n",
      "|    std                  | 0.471       |\n",
      "|    value_loss           | 0.379       |\n",
      "-----------------------------------------\n",
      "Saving video to /Users/mukilankrishnakumar/Desktop/Gym/videos/mucg1bqc/rl-video-step-243600-to-step-243800.mp4\n",
      "Saving video to /Users/mukilankrishnakumar/Desktop/Gym/videos/mucg1bqc/rl-video-step-244000-to-step-244200.mp4\n",
      "Saving video to /Users/mukilankrishnakumar/Desktop/Gym/videos/mucg1bqc/rl-video-step-244400-to-step-244600.mp4\n",
      "Saving video to /Users/mukilankrishnakumar/Desktop/Gym/videos/mucg1bqc/rl-video-step-244800-to-step-245000.mp4\n",
      "Saving video to /Users/mukilankrishnakumar/Desktop/Gym/videos/mucg1bqc/rl-video-step-245200-to-step-245400.mp4\n",
      "-----------------------------------------\n",
      "| rollout/                |             |\n",
      "|    ep_len_mean          | 1.1e+03     |\n",
      "|    ep_rew_mean          | 75.9        |\n",
      "| time/                   |             |\n",
      "|    fps                  | 103         |\n",
      "|    iterations           | 120         |\n",
      "|    time_elapsed         | 2375        |\n",
      "|    total_timesteps      | 245760      |\n",
      "| train/                  |             |\n",
      "|    approx_kl            | 0.015920848 |\n",
      "|    clip_fraction        | 0.192       |\n",
      "|    clip_range           | 0.2         |\n",
      "|    entropy_loss         | -2.63       |\n",
      "|    explained_variance   | 0.565       |\n",
      "|    learning_rate        | 0.0003      |\n",
      "|    loss                 | 0.177       |\n",
      "|    n_updates            | 1190        |\n",
      "|    policy_gradient_loss | -0.0141     |\n",
      "|    std                  | 0.465       |\n",
      "|    value_loss           | 0.471       |\n",
      "-----------------------------------------\n"
     ]
    },
    {
     "name": "stdout",
     "output_type": "stream",
     "text": [
      "Saving video to /Users/mukilankrishnakumar/Desktop/Gym/videos/mucg1bqc/rl-video-step-245600-to-step-245800.mp4\n",
      "Saving video to /Users/mukilankrishnakumar/Desktop/Gym/videos/mucg1bqc/rl-video-step-246000-to-step-246200.mp4\n",
      "Saving video to /Users/mukilankrishnakumar/Desktop/Gym/videos/mucg1bqc/rl-video-step-246400-to-step-246600.mp4\n",
      "Saving video to /Users/mukilankrishnakumar/Desktop/Gym/videos/mucg1bqc/rl-video-step-246800-to-step-247000.mp4\n",
      "Saving video to /Users/mukilankrishnakumar/Desktop/Gym/videos/mucg1bqc/rl-video-step-247200-to-step-247400.mp4\n",
      "Saving video to /Users/mukilankrishnakumar/Desktop/Gym/videos/mucg1bqc/rl-video-step-247600-to-step-247800.mp4\n",
      "-----------------------------------------\n",
      "| rollout/                |             |\n",
      "|    ep_len_mean          | 1.12e+03    |\n",
      "|    ep_rew_mean          | 79.5        |\n",
      "| time/                   |             |\n",
      "|    fps                  | 103         |\n",
      "|    iterations           | 121         |\n",
      "|    time_elapsed         | 2395        |\n",
      "|    total_timesteps      | 247808      |\n",
      "| train/                  |             |\n",
      "|    approx_kl            | 0.019757075 |\n",
      "|    clip_fraction        | 0.184       |\n",
      "|    clip_range           | 0.2         |\n",
      "|    entropy_loss         | -2.58       |\n",
      "|    explained_variance   | 0.825       |\n",
      "|    learning_rate        | 0.0003      |\n",
      "|    loss                 | 0.186       |\n",
      "|    n_updates            | 1200        |\n",
      "|    policy_gradient_loss | -0.0126     |\n",
      "|    std                  | 0.459       |\n",
      "|    value_loss           | 0.406       |\n",
      "-----------------------------------------\n",
      "Saving video to /Users/mukilankrishnakumar/Desktop/Gym/videos/mucg1bqc/rl-video-step-248000-to-step-248200.mp4\n",
      "Saving video to /Users/mukilankrishnakumar/Desktop/Gym/videos/mucg1bqc/rl-video-step-248400-to-step-248600.mp4\n",
      "Saving video to /Users/mukilankrishnakumar/Desktop/Gym/videos/mucg1bqc/rl-video-step-248800-to-step-249000.mp4\n",
      "Saving video to /Users/mukilankrishnakumar/Desktop/Gym/videos/mucg1bqc/rl-video-step-249200-to-step-249400.mp4\n",
      "Saving video to /Users/mukilankrishnakumar/Desktop/Gym/videos/mucg1bqc/rl-video-step-249600-to-step-249800.mp4\n",
      "-----------------------------------------\n",
      "| rollout/                |             |\n",
      "|    ep_len_mean          | 1.12e+03    |\n",
      "|    ep_rew_mean          | 81.5        |\n",
      "| time/                   |             |\n",
      "|    fps                  | 103         |\n",
      "|    iterations           | 122         |\n",
      "|    time_elapsed         | 2414        |\n",
      "|    total_timesteps      | 249856      |\n",
      "| train/                  |             |\n",
      "|    approx_kl            | 0.016101453 |\n",
      "|    clip_fraction        | 0.202       |\n",
      "|    clip_range           | 0.2         |\n",
      "|    entropy_loss         | -2.54       |\n",
      "|    explained_variance   | 0.862       |\n",
      "|    learning_rate        | 0.0003      |\n",
      "|    loss                 | 0.151       |\n",
      "|    n_updates            | 1210        |\n",
      "|    policy_gradient_loss | -0.0166     |\n",
      "|    std                  | 0.456       |\n",
      "|    value_loss           | 0.313       |\n",
      "-----------------------------------------\n",
      "Saving video to /Users/mukilankrishnakumar/Desktop/Gym/videos/mucg1bqc/rl-video-step-250000-to-step-250200.mp4\n",
      "Saving video to /Users/mukilankrishnakumar/Desktop/Gym/videos/mucg1bqc/rl-video-step-250400-to-step-250600.mp4\n",
      "Saving video to /Users/mukilankrishnakumar/Desktop/Gym/videos/mucg1bqc/rl-video-step-250800-to-step-251000.mp4\n",
      "Saving video to /Users/mukilankrishnakumar/Desktop/Gym/videos/mucg1bqc/rl-video-step-251200-to-step-251400.mp4\n",
      "Saving video to /Users/mukilankrishnakumar/Desktop/Gym/videos/mucg1bqc/rl-video-step-251600-to-step-251800.mp4\n",
      "-----------------------------------------\n",
      "| rollout/                |             |\n",
      "|    ep_len_mean          | 1.13e+03    |\n",
      "|    ep_rew_mean          | 84.7        |\n",
      "| time/                   |             |\n",
      "|    fps                  | 103         |\n",
      "|    iterations           | 123         |\n",
      "|    time_elapsed         | 2433        |\n",
      "|    total_timesteps      | 251904      |\n",
      "| train/                  |             |\n",
      "|    approx_kl            | 0.017091691 |\n",
      "|    clip_fraction        | 0.203       |\n",
      "|    clip_range           | 0.2         |\n",
      "|    entropy_loss         | -2.54       |\n",
      "|    explained_variance   | 0.827       |\n",
      "|    learning_rate        | 0.0003      |\n",
      "|    loss                 | 0.108       |\n",
      "|    n_updates            | 1220        |\n",
      "|    policy_gradient_loss | -0.0141     |\n",
      "|    std                  | 0.458       |\n",
      "|    value_loss           | 0.332       |\n",
      "-----------------------------------------\n"
     ]
    },
    {
     "data": {
      "text/plain": [
       "<stable_baselines3.ppo.ppo.PPO at 0x16de5f940>"
      ]
     },
     "execution_count": 10,
     "metadata": {},
     "output_type": "execute_result"
    }
   ],
   "source": [
    "model = PPO(config[\"policy_type\"], env, verbose=1, tensorboard_log=f\"runs/{run.id}\")\n",
    "model.learn(\n",
    "    total_timesteps=config[\"total_timesteps\"],\n",
    "    callback=WandbCallback(\n",
    "        gradient_save_freq=100,\n",
    "        model_save_path=f\"models/{run.id}\",\n",
    "        verbose=2,\n",
    "    ),\n",
    ")"
   ]
  },
  {
   "cell_type": "code",
   "execution_count": 11,
   "id": "1e4364b3",
   "metadata": {},
   "outputs": [],
   "source": [
    "PPO_path = os.path.join('Training', 'Saved Models', 'PPO_BipedalWalker_250k')\n",
    "model.save(PPO_path)"
   ]
  },
  {
   "cell_type": "code",
   "execution_count": 12,
   "id": "5c296d91",
   "metadata": {},
   "outputs": [
    {
     "name": "stdout",
     "output_type": "stream",
     "text": [
      "Saving video to /Users/mukilankrishnakumar/Desktop/Gym/videos/mucg1bqc/rl-video-step-251904-to-step-252104.mp4\n",
      "Saving video to /Users/mukilankrishnakumar/Desktop/Gym/videos/mucg1bqc/rl-video-step-252200-to-step-252400.mp4\n",
      "Saving video to /Users/mukilankrishnakumar/Desktop/Gym/videos/mucg1bqc/rl-video-step-252600-to-step-252800.mp4\n",
      "Saving video to /Users/mukilankrishnakumar/Desktop/Gym/videos/mucg1bqc/rl-video-step-253000-to-step-253200.mp4\n",
      "Saving video to /Users/mukilankrishnakumar/Desktop/Gym/videos/mucg1bqc/rl-video-step-253400-to-step-253600.mp4\n",
      "Saving video to /Users/mukilankrishnakumar/Desktop/Gym/videos/mucg1bqc/rl-video-step-253800-to-step-254000.mp4\n",
      "Saving video to /Users/mukilankrishnakumar/Desktop/Gym/videos/mucg1bqc/rl-video-step-254200-to-step-254400.mp4\n",
      "Saving video to /Users/mukilankrishnakumar/Desktop/Gym/videos/mucg1bqc/rl-video-step-254600-to-step-254800.mp4\n",
      "Saving video to /Users/mukilankrishnakumar/Desktop/Gym/videos/mucg1bqc/rl-video-step-255000-to-step-255200.mp4\n",
      "Saving video to /Users/mukilankrishnakumar/Desktop/Gym/videos/mucg1bqc/rl-video-step-255400-to-step-255600.mp4\n",
      "Saving video to /Users/mukilankrishnakumar/Desktop/Gym/videos/mucg1bqc/rl-video-step-255800-to-step-256000.mp4\n",
      "Saving video to /Users/mukilankrishnakumar/Desktop/Gym/videos/mucg1bqc/rl-video-step-256200-to-step-256400.mp4\n",
      "Saving video to /Users/mukilankrishnakumar/Desktop/Gym/videos/mucg1bqc/rl-video-step-256600-to-step-256800.mp4\n",
      "Saving video to /Users/mukilankrishnakumar/Desktop/Gym/videos/mucg1bqc/rl-video-step-257000-to-step-257200.mp4\n"
     ]
    },
    {
     "data": {
      "text/html": [
       "Waiting for W&B process to finish... <strong style=\"color:green\">(success).</strong>"
      ],
      "text/plain": [
       "<IPython.core.display.HTML object>"
      ]
     },
     "metadata": {},
     "output_type": "display_data"
    },
    {
     "data": {
      "text/html": [
       "<style>\n",
       "    table.wandb td:nth-child(1) { padding: 0 10px; text-align: left ; width: auto;} td:nth-child(2) {text-align: left ; width: 100%}\n",
       "    .wandb-row { display: flex; flex-direction: row; flex-wrap: wrap; justify-content: flex-start; width: 100% }\n",
       "    .wandb-col { display: flex; flex-direction: column; flex-basis: 100%; flex: 1; padding: 10px; }\n",
       "    </style>\n",
       "<div class=\"wandb-row\"><div class=\"wandb-col\"><h3>Run history:</h3><br/><table class=\"wandb\"><tr><td>global_step</td><td>▁▁▁▂▂▂▂▂▂▃▃▃▃▃▃▄▄▄▄▄▅▅▅▅▅▅▆▆▆▆▆▇▇▇▇▇▇███</td></tr><tr><td>rollout/ep_len_mean</td><td>▄▁▃▄▄▅▆▆▇▇▇▇▇▇▇▇▇▇▇▇████▇▇▇▇▆▆▆▆▆▆▆▆▆▆▆▇</td></tr><tr><td>rollout/ep_rew_mean</td><td>▁▁▁▁▁▁▁▁▂▂▂▂▃▃▃▃▃▄▄▄▄▅▅▅▆▆▆▆▆▆▇▇▇▇▇▇▇▇██</td></tr><tr><td>time/fps</td><td>▁▃▆█▆███████████████████████████████████</td></tr><tr><td>train/approx_kl</td><td>▂▃▃▁▃▃▂▃▃▄▃▄▂▄▁▄▄▄▅▂▅▄▅▃▃▅▄▄▂█▅▁▅▅▃▃▅▅▇▆</td></tr><tr><td>train/clip_fraction</td><td>▃▃▄▁▃▃▃▄▄▄▄▅▂▄▁▅▆▅▆▂▆▆▅▃▄▆▅▆▄▇▆▃▆▅▅▃██▇▇</td></tr><tr><td>train/clip_range</td><td>▁▁▁▁▁▁▁▁▁▁▁▁▁▁▁▁▁▁▁▁▁▁▁▁▁▁▁▁▁▁▁▁▁▁▁▁▁▁▁▁</td></tr><tr><td>train/entropy_loss</td><td>▁▁▁▂▂▂▃▃▃▃▄▄▄▄▄▅▅▅▅▆▆▆▆▆▆▆▇▇▇▇▇▇▇▇▇▇▇███</td></tr><tr><td>train/explained_variance</td><td>▆▇▁▆▇█▇▇█▇██▇█▇▇██████▇██▇▇█████▇███▆▅██</td></tr><tr><td>train/learning_rate</td><td>▁▁▁▁▁▁▁▁▁▁▁▁▁▁▁▁▁▁▁▁▁▁▁▁▁▁▁▁▁▁▁▁▁▁▁▁▁▁▁▁</td></tr><tr><td>train/loss</td><td>▁▁▁█▁▁▃▁▁▁▁▁▁▁▃▁▁▁▁▂▁▁▁▁▁▁▁▁▃▁▁▂▁▂▁▃▁▁▁▁</td></tr><tr><td>train/policy_gradient_loss</td><td>▆▅▄█▄▂▆▄▃▂▂▁▆▄█▄▁▂▃▅▃▄▅▅▃▃▆▅▆▂▂▆▄▆▇▄▆▆▁▂</td></tr><tr><td>train/std</td><td>███▇▇▆▆▆▅▅▅▄▄▄▄▄▃▃▃▃▃▂▂▂▂▂▂▂▂▂▂▂▁▁▁▁▁▁▁▁</td></tr><tr><td>train/value_loss</td><td>▆▅▁▇▁▁▃▁▁▁▁▁█▁▇▁▁▁▁▃▁▁▁▂▁▁▂▁▂▁▁▃▁▃▁▄▁▁▁▁</td></tr></table><br/></div><div class=\"wandb-col\"><h3>Run summary:</h3><br/><table class=\"wandb\"><tr><td>global_step</td><td>251904</td></tr><tr><td>rollout/ep_len_mean</td><td>1125.10999</td></tr><tr><td>rollout/ep_rew_mean</td><td>84.70708</td></tr><tr><td>time/fps</td><td>103.0</td></tr><tr><td>train/approx_kl</td><td>0.01709</td></tr><tr><td>train/clip_fraction</td><td>0.20342</td></tr><tr><td>train/clip_range</td><td>0.2</td></tr><tr><td>train/entropy_loss</td><td>-2.53778</td></tr><tr><td>train/explained_variance</td><td>0.82692</td></tr><tr><td>train/learning_rate</td><td>0.0003</td></tr><tr><td>train/loss</td><td>0.10776</td></tr><tr><td>train/policy_gradient_loss</td><td>-0.01414</td></tr><tr><td>train/std</td><td>0.45754</td></tr><tr><td>train/value_loss</td><td>0.33185</td></tr></table><br/></div></div>"
      ],
      "text/plain": [
       "<IPython.core.display.HTML object>"
      ]
     },
     "metadata": {},
     "output_type": "display_data"
    },
    {
     "data": {
      "text/html": [
       "Synced <strong style=\"color:#cdcd00\">expert-energy-25</strong>: <a href=\"https://wandb.ai/mukilan/intro_to_gym/runs/mucg1bqc\" target=\"_blank\">https://wandb.ai/mukilan/intro_to_gym/runs/mucg1bqc</a><br/>Synced 5 W&B file(s), 644 media file(s), 4 artifact file(s) and 3 other file(s)"
      ],
      "text/plain": [
       "<IPython.core.display.HTML object>"
      ]
     },
     "metadata": {},
     "output_type": "display_data"
    },
    {
     "data": {
      "text/html": [
       "Find logs at: <code>./wandb/run-20230108_203224-mucg1bqc/logs</code>"
      ],
      "text/plain": [
       "<IPython.core.display.HTML object>"
      ]
     },
     "metadata": {},
     "output_type": "display_data"
    }
   ],
   "source": [
    "evaluate_policy(model, env, n_eval_episodes=10, render=True)\n",
    "run.finish()"
   ]
  },
  {
   "cell_type": "code",
   "execution_count": 13,
   "id": "4fd0fa5a",
   "metadata": {},
   "outputs": [],
   "source": [
    "del model"
   ]
  },
  {
   "cell_type": "markdown",
   "id": "fc47078d",
   "metadata": {},
   "source": [
    "# 4. SuperMarioBros"
   ]
  },
  {
   "cell_type": "code",
   "execution_count": 14,
   "id": "85a8d28d",
   "metadata": {},
   "outputs": [],
   "source": [
    "env = gym_super_mario_bros.make('SuperMarioBros-v0')\n",
    "env = JoypadSpace(env, SIMPLE_MOVEMENT)\n",
    "env = GrayScaleObservation(env, keep_dim=True)\n",
    "env = DummyVecEnv([lambda: env])\n",
    "env = VecFrameStack(env, 4, channels_order='last')\n",
    "env = Monitor(env)"
   ]
  },
  {
   "cell_type": "code",
   "execution_count": 15,
   "id": "de117331",
   "metadata": {},
   "outputs": [
    {
     "data": {
      "text/html": [
       "wandb version 0.13.7 is available!  To upgrade, please run:\n",
       " $ pip install wandb --upgrade"
      ],
      "text/plain": [
       "<IPython.core.display.HTML object>"
      ]
     },
     "metadata": {},
     "output_type": "display_data"
    },
    {
     "data": {
      "text/html": [
       "Tracking run with wandb version 0.13.5"
      ],
      "text/plain": [
       "<IPython.core.display.HTML object>"
      ]
     },
     "metadata": {},
     "output_type": "display_data"
    },
    {
     "data": {
      "text/html": [
       "Run data is saved locally in <code>/Users/mukilankrishnakumar/Desktop/Gym/wandb/run-20230108_211624-2r5ybbnx</code>"
      ],
      "text/plain": [
       "<IPython.core.display.HTML object>"
      ]
     },
     "metadata": {},
     "output_type": "display_data"
    },
    {
     "data": {
      "text/html": [
       "Syncing run <strong><a href=\"https://wandb.ai/mukilan/intro_to_gym/runs/2r5ybbnx\" target=\"_blank\">decent-frog-26</a></strong> to <a href=\"https://wandb.ai/mukilan/intro_to_gym\" target=\"_blank\">Weights & Biases</a> (<a href=\"https://wandb.me/run\" target=\"_blank\">docs</a>)<br/>"
      ],
      "text/plain": [
       "<IPython.core.display.HTML object>"
      ]
     },
     "metadata": {},
     "output_type": "display_data"
    }
   ],
   "source": [
    "env_name = \"SuperMarioBros-v0\"\n",
    "config = {\n",
    "    \"policy_type\": \"CnnPolicy\",\n",
    "    \"total_timesteps\": 25000,\n",
    "    \"env_name\": env_name,\n",
    "}\n",
    "run = wandb.init(\n",
    "    project=\"intro_to_gym\",\n",
    "    config=config,\n",
    "    sync_tensorboard=True,  \n",
    "    monitor_gym=True,  \n",
    "    save_code=True,  \n",
    ")"
   ]
  },
  {
   "cell_type": "code",
   "execution_count": 16,
   "id": "b14440cf",
   "metadata": {
    "scrolled": true
   },
   "outputs": [
    {
     "name": "stdout",
     "output_type": "stream",
     "text": [
      "Using cpu device\n",
      "Wrapping the env in a VecTransposeImage.\n"
     ]
    },
    {
     "name": "stderr",
     "output_type": "stream",
     "text": [
      "\u001b[34m\u001b[1mwandb\u001b[0m: \u001b[33mWARNING\u001b[0m When using several event log directories, please call `wandb.tensorboard.patch(root_logdir=\"...\")` before `wandb.init`\n"
     ]
    },
    {
     "name": "stdout",
     "output_type": "stream",
     "text": [
      "Logging to runs/2r5ybbnx/PPO_1\n",
      "Saving video to /Users/mukilankrishnakumar/Desktop/Gym/videos/2r5ybbnx/rl-video-step-0-to-step-20.mp4\n"
     ]
    },
    {
     "name": "stderr",
     "output_type": "stream",
     "text": [
      "/opt/homebrew/lib/python3.10/site-packages/gym_super_mario_bros/smb_env.py:148: RuntimeWarning: overflow encountered in ubyte_scalars\n",
      "  return (self.ram[0x86] - self.ram[0x071c]) % 256\n"
     ]
    },
    {
     "name": "stdout",
     "output_type": "stream",
     "text": [
      "Saving video to /Users/mukilankrishnakumar/Desktop/Gym/videos/2r5ybbnx/rl-video-step-200-to-step-220.mp4\n"
     ]
    },
    {
     "name": "stderr",
     "output_type": "stream",
     "text": [
      "/opt/homebrew/lib/python3.10/site-packages/gym_super_mario_bros/smb_env.py:148: RuntimeWarning: overflow encountered in ubyte_scalars\n",
      "  return (self.ram[0x86] - self.ram[0x071c]) % 256\n",
      "/opt/homebrew/lib/python3.10/site-packages/gym_super_mario_bros/smb_env.py:148: RuntimeWarning: overflow encountered in ubyte_scalars\n",
      "  return (self.ram[0x86] - self.ram[0x071c]) % 256\n"
     ]
    },
    {
     "name": "stdout",
     "output_type": "stream",
     "text": [
      "Saving video to /Users/mukilankrishnakumar/Desktop/Gym/videos/2r5ybbnx/rl-video-step-400-to-step-420.mp4\n"
     ]
    },
    {
     "name": "stderr",
     "output_type": "stream",
     "text": [
      "/opt/homebrew/lib/python3.10/site-packages/gym_super_mario_bros/smb_env.py:148: RuntimeWarning: overflow encountered in ubyte_scalars\n",
      "  return (self.ram[0x86] - self.ram[0x071c]) % 256\n"
     ]
    },
    {
     "name": "stdout",
     "output_type": "stream",
     "text": [
      "Saving video to /Users/mukilankrishnakumar/Desktop/Gym/videos/2r5ybbnx/rl-video-step-600-to-step-620.mp4\n"
     ]
    },
    {
     "name": "stderr",
     "output_type": "stream",
     "text": [
      "/opt/homebrew/lib/python3.10/site-packages/gym_super_mario_bros/smb_env.py:148: RuntimeWarning: overflow encountered in ubyte_scalars\n",
      "  return (self.ram[0x86] - self.ram[0x071c]) % 256\n"
     ]
    },
    {
     "name": "stdout",
     "output_type": "stream",
     "text": [
      "Saving video to /Users/mukilankrishnakumar/Desktop/Gym/videos/2r5ybbnx/rl-video-step-800-to-step-820.mp4\n"
     ]
    },
    {
     "name": "stderr",
     "output_type": "stream",
     "text": [
      "/opt/homebrew/lib/python3.10/site-packages/gym_super_mario_bros/smb_env.py:148: RuntimeWarning: overflow encountered in ubyte_scalars\n",
      "  return (self.ram[0x86] - self.ram[0x071c]) % 256\n"
     ]
    },
    {
     "name": "stdout",
     "output_type": "stream",
     "text": [
      "Saving video to /Users/mukilankrishnakumar/Desktop/Gym/videos/2r5ybbnx/rl-video-step-1000-to-step-1020.mp4\n"
     ]
    },
    {
     "name": "stderr",
     "output_type": "stream",
     "text": [
      "/opt/homebrew/lib/python3.10/site-packages/gym_super_mario_bros/smb_env.py:148: RuntimeWarning: overflow encountered in ubyte_scalars\n",
      "  return (self.ram[0x86] - self.ram[0x071c]) % 256\n"
     ]
    },
    {
     "name": "stdout",
     "output_type": "stream",
     "text": [
      "Saving video to /Users/mukilankrishnakumar/Desktop/Gym/videos/2r5ybbnx/rl-video-step-1200-to-step-1220.mp4\n"
     ]
    },
    {
     "name": "stderr",
     "output_type": "stream",
     "text": [
      "/opt/homebrew/lib/python3.10/site-packages/gym_super_mario_bros/smb_env.py:148: RuntimeWarning: overflow encountered in ubyte_scalars\n",
      "  return (self.ram[0x86] - self.ram[0x071c]) % 256\n"
     ]
    },
    {
     "name": "stdout",
     "output_type": "stream",
     "text": [
      "Saving video to /Users/mukilankrishnakumar/Desktop/Gym/videos/2r5ybbnx/rl-video-step-1400-to-step-1420.mp4\n"
     ]
    },
    {
     "name": "stderr",
     "output_type": "stream",
     "text": [
      "/opt/homebrew/lib/python3.10/site-packages/gym_super_mario_bros/smb_env.py:148: RuntimeWarning: overflow encountered in ubyte_scalars\n",
      "  return (self.ram[0x86] - self.ram[0x071c]) % 256\n"
     ]
    },
    {
     "name": "stdout",
     "output_type": "stream",
     "text": [
      "Saving video to /Users/mukilankrishnakumar/Desktop/Gym/videos/2r5ybbnx/rl-video-step-1600-to-step-1620.mp4\n"
     ]
    },
    {
     "name": "stderr",
     "output_type": "stream",
     "text": [
      "/opt/homebrew/lib/python3.10/site-packages/gym_super_mario_bros/smb_env.py:148: RuntimeWarning: overflow encountered in ubyte_scalars\n",
      "  return (self.ram[0x86] - self.ram[0x071c]) % 256\n"
     ]
    },
    {
     "name": "stdout",
     "output_type": "stream",
     "text": [
      "Saving video to /Users/mukilankrishnakumar/Desktop/Gym/videos/2r5ybbnx/rl-video-step-1800-to-step-1820.mp4\n",
      "Saving video to /Users/mukilankrishnakumar/Desktop/Gym/videos/2r5ybbnx/rl-video-step-2000-to-step-2020.mp4\n",
      "-----------------------------\n",
      "| time/              |      |\n",
      "|    fps             | 80   |\n",
      "|    iterations      | 1    |\n",
      "|    time_elapsed    | 25   |\n",
      "|    total_timesteps | 2048 |\n",
      "-----------------------------\n",
      "Saving video to /Users/mukilankrishnakumar/Desktop/Gym/videos/2r5ybbnx/rl-video-step-2200-to-step-2220.mp4\n",
      "Saving video to /Users/mukilankrishnakumar/Desktop/Gym/videos/2r5ybbnx/rl-video-step-2400-to-step-2420.mp4\n",
      "Saving video to /Users/mukilankrishnakumar/Desktop/Gym/videos/2r5ybbnx/rl-video-step-2600-to-step-2620.mp4\n",
      "Saving video to /Users/mukilankrishnakumar/Desktop/Gym/videos/2r5ybbnx/rl-video-step-2800-to-step-2820.mp4\n",
      "Saving video to /Users/mukilankrishnakumar/Desktop/Gym/videos/2r5ybbnx/rl-video-step-3000-to-step-3020.mp4\n",
      "Saving video to /Users/mukilankrishnakumar/Desktop/Gym/videos/2r5ybbnx/rl-video-step-3200-to-step-3220.mp4\n",
      "Saving video to /Users/mukilankrishnakumar/Desktop/Gym/videos/2r5ybbnx/rl-video-step-3400-to-step-3420.mp4\n",
      "Saving video to /Users/mukilankrishnakumar/Desktop/Gym/videos/2r5ybbnx/rl-video-step-3600-to-step-3620.mp4\n",
      "Saving video to /Users/mukilankrishnakumar/Desktop/Gym/videos/2r5ybbnx/rl-video-step-3800-to-step-3820.mp4\n",
      "Saving video to /Users/mukilankrishnakumar/Desktop/Gym/videos/2r5ybbnx/rl-video-step-4000-to-step-4020.mp4\n",
      "----------------------------------------\n",
      "| time/                   |            |\n",
      "|    fps                  | 18         |\n",
      "|    iterations           | 2          |\n",
      "|    time_elapsed         | 224        |\n",
      "|    total_timesteps      | 4096       |\n",
      "| train/                  |            |\n",
      "|    approx_kl            | 0.02089671 |\n",
      "|    clip_fraction        | 0.303      |\n",
      "|    clip_range           | 0.2        |\n",
      "|    entropy_loss         | -1.92      |\n",
      "|    explained_variance   | 0.000302   |\n",
      "|    learning_rate        | 0.0003     |\n",
      "|    loss                 | 0.84       |\n",
      "|    n_updates            | 10         |\n",
      "|    policy_gradient_loss | 0.0163     |\n",
      "|    value_loss           | 19.5       |\n",
      "----------------------------------------\n",
      "Saving video to /Users/mukilankrishnakumar/Desktop/Gym/videos/2r5ybbnx/rl-video-step-4200-to-step-4220.mp4\n",
      "Saving video to /Users/mukilankrishnakumar/Desktop/Gym/videos/2r5ybbnx/rl-video-step-4400-to-step-4420.mp4\n",
      "Saving video to /Users/mukilankrishnakumar/Desktop/Gym/videos/2r5ybbnx/rl-video-step-4600-to-step-4620.mp4\n",
      "Saving video to /Users/mukilankrishnakumar/Desktop/Gym/videos/2r5ybbnx/rl-video-step-4800-to-step-4820.mp4\n",
      "Saving video to /Users/mukilankrishnakumar/Desktop/Gym/videos/2r5ybbnx/rl-video-step-5000-to-step-5020.mp4\n",
      "Saving video to /Users/mukilankrishnakumar/Desktop/Gym/videos/2r5ybbnx/rl-video-step-5200-to-step-5220.mp4\n",
      "Saving video to /Users/mukilankrishnakumar/Desktop/Gym/videos/2r5ybbnx/rl-video-step-5400-to-step-5420.mp4\n",
      "Saving video to /Users/mukilankrishnakumar/Desktop/Gym/videos/2r5ybbnx/rl-video-step-5600-to-step-5620.mp4\n",
      "Saving video to /Users/mukilankrishnakumar/Desktop/Gym/videos/2r5ybbnx/rl-video-step-5800-to-step-5820.mp4\n",
      "Saving video to /Users/mukilankrishnakumar/Desktop/Gym/videos/2r5ybbnx/rl-video-step-6000-to-step-6020.mp4\n",
      "-----------------------------------------\n",
      "| time/                   |             |\n",
      "|    fps                  | 14          |\n",
      "|    iterations           | 3           |\n",
      "|    time_elapsed         | 424         |\n",
      "|    total_timesteps      | 6144        |\n",
      "| train/                  |             |\n",
      "|    approx_kl            | 0.010731937 |\n",
      "|    clip_fraction        | 0.121       |\n",
      "|    clip_range           | 0.2         |\n",
      "|    entropy_loss         | -1.9        |\n",
      "|    explained_variance   | 0.113       |\n",
      "|    learning_rate        | 0.0003      |\n",
      "|    loss                 | 0.0766      |\n",
      "|    n_updates            | 20          |\n",
      "|    policy_gradient_loss | -0.00237    |\n",
      "|    value_loss           | 0.36        |\n",
      "-----------------------------------------\n",
      "Saving video to /Users/mukilankrishnakumar/Desktop/Gym/videos/2r5ybbnx/rl-video-step-6200-to-step-6220.mp4\n",
      "Saving video to /Users/mukilankrishnakumar/Desktop/Gym/videos/2r5ybbnx/rl-video-step-6400-to-step-6420.mp4\n",
      "Saving video to /Users/mukilankrishnakumar/Desktop/Gym/videos/2r5ybbnx/rl-video-step-6600-to-step-6620.mp4\n",
      "Saving video to /Users/mukilankrishnakumar/Desktop/Gym/videos/2r5ybbnx/rl-video-step-6800-to-step-6820.mp4\n",
      "Saving video to /Users/mukilankrishnakumar/Desktop/Gym/videos/2r5ybbnx/rl-video-step-7000-to-step-7020.mp4\n",
      "Saving video to /Users/mukilankrishnakumar/Desktop/Gym/videos/2r5ybbnx/rl-video-step-7200-to-step-7220.mp4\n",
      "Saving video to /Users/mukilankrishnakumar/Desktop/Gym/videos/2r5ybbnx/rl-video-step-7400-to-step-7420.mp4\n",
      "Saving video to /Users/mukilankrishnakumar/Desktop/Gym/videos/2r5ybbnx/rl-video-step-7600-to-step-7620.mp4\n",
      "Saving video to /Users/mukilankrishnakumar/Desktop/Gym/videos/2r5ybbnx/rl-video-step-7800-to-step-7820.mp4\n",
      "Saving video to /Users/mukilankrishnakumar/Desktop/Gym/videos/2r5ybbnx/rl-video-step-8000-to-step-8020.mp4\n"
     ]
    },
    {
     "name": "stderr",
     "output_type": "stream",
     "text": [
      "/opt/homebrew/lib/python3.10/site-packages/gym_super_mario_bros/smb_env.py:148: RuntimeWarning: overflow encountered in ubyte_scalars\n",
      "  return (self.ram[0x86] - self.ram[0x071c]) % 256\n"
     ]
    },
    {
     "name": "stdout",
     "output_type": "stream",
     "text": [
      "-----------------------------------------\n",
      "| time/                   |             |\n",
      "|    fps                  | 13          |\n",
      "|    iterations           | 4           |\n",
      "|    time_elapsed         | 617         |\n",
      "|    total_timesteps      | 8192        |\n",
      "| train/                  |             |\n",
      "|    approx_kl            | 0.013035418 |\n",
      "|    clip_fraction        | 0.122       |\n",
      "|    clip_range           | 0.2         |\n",
      "|    entropy_loss         | -1.89       |\n",
      "|    explained_variance   | 0.0368      |\n",
      "|    learning_rate        | 0.0003      |\n",
      "|    loss                 | 0.0512      |\n",
      "|    n_updates            | 30          |\n",
      "|    policy_gradient_loss | -0.00945    |\n",
      "|    value_loss           | 0.148       |\n",
      "-----------------------------------------\n",
      "Saving video to /Users/mukilankrishnakumar/Desktop/Gym/videos/2r5ybbnx/rl-video-step-8200-to-step-8220.mp4\n"
     ]
    },
    {
     "name": "stderr",
     "output_type": "stream",
     "text": [
      "/opt/homebrew/lib/python3.10/site-packages/gym_super_mario_bros/smb_env.py:148: RuntimeWarning: overflow encountered in ubyte_scalars\n",
      "  return (self.ram[0x86] - self.ram[0x071c]) % 256\n",
      "/opt/homebrew/lib/python3.10/site-packages/gym_super_mario_bros/smb_env.py:148: RuntimeWarning: overflow encountered in ubyte_scalars\n",
      "  return (self.ram[0x86] - self.ram[0x071c]) % 256\n"
     ]
    },
    {
     "name": "stdout",
     "output_type": "stream",
     "text": [
      "Saving video to /Users/mukilankrishnakumar/Desktop/Gym/videos/2r5ybbnx/rl-video-step-8400-to-step-8420.mp4\n"
     ]
    },
    {
     "name": "stderr",
     "output_type": "stream",
     "text": [
      "/opt/homebrew/lib/python3.10/site-packages/gym_super_mario_bros/smb_env.py:148: RuntimeWarning: overflow encountered in ubyte_scalars\n",
      "  return (self.ram[0x86] - self.ram[0x071c]) % 256\n"
     ]
    },
    {
     "name": "stdout",
     "output_type": "stream",
     "text": [
      "Saving video to /Users/mukilankrishnakumar/Desktop/Gym/videos/2r5ybbnx/rl-video-step-8600-to-step-8620.mp4\n"
     ]
    },
    {
     "name": "stderr",
     "output_type": "stream",
     "text": [
      "/opt/homebrew/lib/python3.10/site-packages/gym_super_mario_bros/smb_env.py:148: RuntimeWarning: overflow encountered in ubyte_scalars\n",
      "  return (self.ram[0x86] - self.ram[0x071c]) % 256\n"
     ]
    },
    {
     "name": "stdout",
     "output_type": "stream",
     "text": [
      "Saving video to /Users/mukilankrishnakumar/Desktop/Gym/videos/2r5ybbnx/rl-video-step-8800-to-step-8820.mp4\n"
     ]
    },
    {
     "name": "stderr",
     "output_type": "stream",
     "text": [
      "/opt/homebrew/lib/python3.10/site-packages/gym_super_mario_bros/smb_env.py:148: RuntimeWarning: overflow encountered in ubyte_scalars\n",
      "  return (self.ram[0x86] - self.ram[0x071c]) % 256\n"
     ]
    },
    {
     "name": "stdout",
     "output_type": "stream",
     "text": [
      "Saving video to /Users/mukilankrishnakumar/Desktop/Gym/videos/2r5ybbnx/rl-video-step-9000-to-step-9020.mp4\n"
     ]
    },
    {
     "name": "stderr",
     "output_type": "stream",
     "text": [
      "/opt/homebrew/lib/python3.10/site-packages/gym_super_mario_bros/smb_env.py:148: RuntimeWarning: overflow encountered in ubyte_scalars\n",
      "  return (self.ram[0x86] - self.ram[0x071c]) % 256\n"
     ]
    },
    {
     "name": "stdout",
     "output_type": "stream",
     "text": [
      "Saving video to /Users/mukilankrishnakumar/Desktop/Gym/videos/2r5ybbnx/rl-video-step-9200-to-step-9220.mp4\n"
     ]
    },
    {
     "name": "stderr",
     "output_type": "stream",
     "text": [
      "/opt/homebrew/lib/python3.10/site-packages/gym_super_mario_bros/smb_env.py:148: RuntimeWarning: overflow encountered in ubyte_scalars\n",
      "  return (self.ram[0x86] - self.ram[0x071c]) % 256\n"
     ]
    },
    {
     "name": "stdout",
     "output_type": "stream",
     "text": [
      "Saving video to /Users/mukilankrishnakumar/Desktop/Gym/videos/2r5ybbnx/rl-video-step-9400-to-step-9420.mp4\n"
     ]
    },
    {
     "name": "stderr",
     "output_type": "stream",
     "text": [
      "/opt/homebrew/lib/python3.10/site-packages/gym_super_mario_bros/smb_env.py:148: RuntimeWarning: overflow encountered in ubyte_scalars\n",
      "  return (self.ram[0x86] - self.ram[0x071c]) % 256\n"
     ]
    },
    {
     "name": "stdout",
     "output_type": "stream",
     "text": [
      "Saving video to /Users/mukilankrishnakumar/Desktop/Gym/videos/2r5ybbnx/rl-video-step-9600-to-step-9620.mp4\n"
     ]
    },
    {
     "name": "stderr",
     "output_type": "stream",
     "text": [
      "/opt/homebrew/lib/python3.10/site-packages/gym_super_mario_bros/smb_env.py:148: RuntimeWarning: overflow encountered in ubyte_scalars\n",
      "  return (self.ram[0x86] - self.ram[0x071c]) % 256\n"
     ]
    },
    {
     "name": "stdout",
     "output_type": "stream",
     "text": [
      "Saving video to /Users/mukilankrishnakumar/Desktop/Gym/videos/2r5ybbnx/rl-video-step-9800-to-step-9820.mp4\n"
     ]
    },
    {
     "name": "stderr",
     "output_type": "stream",
     "text": [
      "/opt/homebrew/lib/python3.10/site-packages/gym_super_mario_bros/smb_env.py:148: RuntimeWarning: overflow encountered in ubyte_scalars\n",
      "  return (self.ram[0x86] - self.ram[0x071c]) % 256\n"
     ]
    },
    {
     "name": "stdout",
     "output_type": "stream",
     "text": [
      "Saving video to /Users/mukilankrishnakumar/Desktop/Gym/videos/2r5ybbnx/rl-video-step-10000-to-step-10020.mp4\n"
     ]
    },
    {
     "name": "stderr",
     "output_type": "stream",
     "text": [
      "/opt/homebrew/lib/python3.10/site-packages/gym_super_mario_bros/smb_env.py:148: RuntimeWarning: overflow encountered in ubyte_scalars\n",
      "  return (self.ram[0x86] - self.ram[0x071c]) % 256\n"
     ]
    },
    {
     "name": "stdout",
     "output_type": "stream",
     "text": [
      "Saving video to /Users/mukilankrishnakumar/Desktop/Gym/videos/2r5ybbnx/rl-video-step-10200-to-step-10220.mp4\n",
      "----------------------------------------\n",
      "| time/                   |            |\n",
      "|    fps                  | 12         |\n",
      "|    iterations           | 5          |\n",
      "|    time_elapsed         | 810        |\n",
      "|    total_timesteps      | 10240      |\n",
      "| train/                  |            |\n",
      "|    approx_kl            | 0.02451279 |\n",
      "|    clip_fraction        | 0.343      |\n",
      "|    clip_range           | 0.2        |\n",
      "|    entropy_loss         | -1.76      |\n",
      "|    explained_variance   | 0.305      |\n",
      "|    learning_rate        | 0.0003     |\n",
      "|    loss                 | 0.682      |\n",
      "|    n_updates            | 40         |\n",
      "|    policy_gradient_loss | 0.0458     |\n",
      "|    value_loss           | 4.77       |\n",
      "----------------------------------------\n"
     ]
    },
    {
     "name": "stderr",
     "output_type": "stream",
     "text": [
      "/opt/homebrew/lib/python3.10/site-packages/gym_super_mario_bros/smb_env.py:148: RuntimeWarning: overflow encountered in ubyte_scalars\n",
      "  return (self.ram[0x86] - self.ram[0x071c]) % 256\n"
     ]
    },
    {
     "name": "stdout",
     "output_type": "stream",
     "text": [
      "Saving video to /Users/mukilankrishnakumar/Desktop/Gym/videos/2r5ybbnx/rl-video-step-10400-to-step-10420.mp4\n"
     ]
    },
    {
     "name": "stderr",
     "output_type": "stream",
     "text": [
      "/opt/homebrew/lib/python3.10/site-packages/gym_super_mario_bros/smb_env.py:148: RuntimeWarning: overflow encountered in ubyte_scalars\n",
      "  return (self.ram[0x86] - self.ram[0x071c]) % 256\n"
     ]
    },
    {
     "name": "stdout",
     "output_type": "stream",
     "text": [
      "Saving video to /Users/mukilankrishnakumar/Desktop/Gym/videos/2r5ybbnx/rl-video-step-10600-to-step-10620.mp4\n"
     ]
    },
    {
     "name": "stderr",
     "output_type": "stream",
     "text": [
      "/opt/homebrew/lib/python3.10/site-packages/gym_super_mario_bros/smb_env.py:148: RuntimeWarning: overflow encountered in ubyte_scalars\n",
      "  return (self.ram[0x86] - self.ram[0x071c]) % 256\n"
     ]
    },
    {
     "name": "stdout",
     "output_type": "stream",
     "text": [
      "Saving video to /Users/mukilankrishnakumar/Desktop/Gym/videos/2r5ybbnx/rl-video-step-10800-to-step-10820.mp4\n"
     ]
    },
    {
     "name": "stderr",
     "output_type": "stream",
     "text": [
      "/opt/homebrew/lib/python3.10/site-packages/gym_super_mario_bros/smb_env.py:148: RuntimeWarning: overflow encountered in ubyte_scalars\n",
      "  return (self.ram[0x86] - self.ram[0x071c]) % 256\n"
     ]
    },
    {
     "name": "stdout",
     "output_type": "stream",
     "text": [
      "Saving video to /Users/mukilankrishnakumar/Desktop/Gym/videos/2r5ybbnx/rl-video-step-11000-to-step-11020.mp4\n"
     ]
    },
    {
     "name": "stderr",
     "output_type": "stream",
     "text": [
      "/opt/homebrew/lib/python3.10/site-packages/gym_super_mario_bros/smb_env.py:148: RuntimeWarning: overflow encountered in ubyte_scalars\n",
      "  return (self.ram[0x86] - self.ram[0x071c]) % 256\n"
     ]
    },
    {
     "name": "stdout",
     "output_type": "stream",
     "text": [
      "Saving video to /Users/mukilankrishnakumar/Desktop/Gym/videos/2r5ybbnx/rl-video-step-11200-to-step-11220.mp4\n"
     ]
    },
    {
     "name": "stderr",
     "output_type": "stream",
     "text": [
      "/opt/homebrew/lib/python3.10/site-packages/gym_super_mario_bros/smb_env.py:148: RuntimeWarning: overflow encountered in ubyte_scalars\n",
      "  return (self.ram[0x86] - self.ram[0x071c]) % 256\n"
     ]
    },
    {
     "name": "stdout",
     "output_type": "stream",
     "text": [
      "Saving video to /Users/mukilankrishnakumar/Desktop/Gym/videos/2r5ybbnx/rl-video-step-11400-to-step-11420.mp4\n"
     ]
    },
    {
     "name": "stderr",
     "output_type": "stream",
     "text": [
      "/opt/homebrew/lib/python3.10/site-packages/gym_super_mario_bros/smb_env.py:148: RuntimeWarning: overflow encountered in ubyte_scalars\n",
      "  return (self.ram[0x86] - self.ram[0x071c]) % 256\n"
     ]
    },
    {
     "name": "stdout",
     "output_type": "stream",
     "text": [
      "Saving video to /Users/mukilankrishnakumar/Desktop/Gym/videos/2r5ybbnx/rl-video-step-11600-to-step-11620.mp4\n"
     ]
    },
    {
     "name": "stderr",
     "output_type": "stream",
     "text": [
      "/opt/homebrew/lib/python3.10/site-packages/gym_super_mario_bros/smb_env.py:148: RuntimeWarning: overflow encountered in ubyte_scalars\n",
      "  return (self.ram[0x86] - self.ram[0x071c]) % 256\n"
     ]
    },
    {
     "name": "stdout",
     "output_type": "stream",
     "text": [
      "Saving video to /Users/mukilankrishnakumar/Desktop/Gym/videos/2r5ybbnx/rl-video-step-11800-to-step-11820.mp4\n"
     ]
    },
    {
     "name": "stderr",
     "output_type": "stream",
     "text": [
      "/opt/homebrew/lib/python3.10/site-packages/gym_super_mario_bros/smb_env.py:148: RuntimeWarning: overflow encountered in ubyte_scalars\n",
      "  return (self.ram[0x86] - self.ram[0x071c]) % 256\n"
     ]
    },
    {
     "name": "stdout",
     "output_type": "stream",
     "text": [
      "Saving video to /Users/mukilankrishnakumar/Desktop/Gym/videos/2r5ybbnx/rl-video-step-12000-to-step-12020.mp4\n"
     ]
    },
    {
     "name": "stderr",
     "output_type": "stream",
     "text": [
      "/opt/homebrew/lib/python3.10/site-packages/gym_super_mario_bros/smb_env.py:148: RuntimeWarning: overflow encountered in ubyte_scalars\n",
      "  return (self.ram[0x86] - self.ram[0x071c]) % 256\n"
     ]
    },
    {
     "name": "stdout",
     "output_type": "stream",
     "text": [
      "Saving video to /Users/mukilankrishnakumar/Desktop/Gym/videos/2r5ybbnx/rl-video-step-12200-to-step-12220.mp4\n",
      "-----------------------------------------\n",
      "| time/                   |             |\n",
      "|    fps                  | 12          |\n",
      "|    iterations           | 6           |\n",
      "|    time_elapsed         | 1010        |\n",
      "|    total_timesteps      | 12288       |\n",
      "| train/                  |             |\n",
      "|    approx_kl            | 0.015313948 |\n",
      "|    clip_fraction        | 0.221       |\n",
      "|    clip_range           | 0.2         |\n",
      "|    entropy_loss         | -1.86       |\n",
      "|    explained_variance   | 0.662       |\n",
      "|    learning_rate        | 0.0003      |\n",
      "|    loss                 | 0.532       |\n",
      "|    n_updates            | 50          |\n",
      "|    policy_gradient_loss | 0.0225      |\n",
      "|    value_loss           | 3.01        |\n",
      "-----------------------------------------\n"
     ]
    },
    {
     "name": "stderr",
     "output_type": "stream",
     "text": [
      "/opt/homebrew/lib/python3.10/site-packages/gym_super_mario_bros/smb_env.py:148: RuntimeWarning: overflow encountered in ubyte_scalars\n",
      "  return (self.ram[0x86] - self.ram[0x071c]) % 256\n"
     ]
    },
    {
     "name": "stdout",
     "output_type": "stream",
     "text": [
      "Saving video to /Users/mukilankrishnakumar/Desktop/Gym/videos/2r5ybbnx/rl-video-step-12400-to-step-12420.mp4\n"
     ]
    },
    {
     "name": "stderr",
     "output_type": "stream",
     "text": [
      "/opt/homebrew/lib/python3.10/site-packages/gym_super_mario_bros/smb_env.py:148: RuntimeWarning: overflow encountered in ubyte_scalars\n",
      "  return (self.ram[0x86] - self.ram[0x071c]) % 256\n"
     ]
    },
    {
     "name": "stdout",
     "output_type": "stream",
     "text": [
      "Saving video to /Users/mukilankrishnakumar/Desktop/Gym/videos/2r5ybbnx/rl-video-step-12600-to-step-12620.mp4\n"
     ]
    },
    {
     "name": "stderr",
     "output_type": "stream",
     "text": [
      "/opt/homebrew/lib/python3.10/site-packages/gym_super_mario_bros/smb_env.py:148: RuntimeWarning: overflow encountered in ubyte_scalars\n",
      "  return (self.ram[0x86] - self.ram[0x071c]) % 256\n"
     ]
    },
    {
     "name": "stdout",
     "output_type": "stream",
     "text": [
      "Saving video to /Users/mukilankrishnakumar/Desktop/Gym/videos/2r5ybbnx/rl-video-step-12800-to-step-12820.mp4\n"
     ]
    },
    {
     "name": "stderr",
     "output_type": "stream",
     "text": [
      "/opt/homebrew/lib/python3.10/site-packages/gym_super_mario_bros/smb_env.py:148: RuntimeWarning: overflow encountered in ubyte_scalars\n",
      "  return (self.ram[0x86] - self.ram[0x071c]) % 256\n"
     ]
    },
    {
     "name": "stdout",
     "output_type": "stream",
     "text": [
      "Saving video to /Users/mukilankrishnakumar/Desktop/Gym/videos/2r5ybbnx/rl-video-step-13000-to-step-13020.mp4\n"
     ]
    },
    {
     "name": "stderr",
     "output_type": "stream",
     "text": [
      "/opt/homebrew/lib/python3.10/site-packages/gym_super_mario_bros/smb_env.py:148: RuntimeWarning: overflow encountered in ubyte_scalars\n",
      "  return (self.ram[0x86] - self.ram[0x071c]) % 256\n"
     ]
    },
    {
     "name": "stdout",
     "output_type": "stream",
     "text": [
      "Saving video to /Users/mukilankrishnakumar/Desktop/Gym/videos/2r5ybbnx/rl-video-step-13200-to-step-13220.mp4\n"
     ]
    },
    {
     "name": "stderr",
     "output_type": "stream",
     "text": [
      "/opt/homebrew/lib/python3.10/site-packages/gym_super_mario_bros/smb_env.py:148: RuntimeWarning: overflow encountered in ubyte_scalars\n",
      "  return (self.ram[0x86] - self.ram[0x071c]) % 256\n"
     ]
    },
    {
     "name": "stdout",
     "output_type": "stream",
     "text": [
      "Saving video to /Users/mukilankrishnakumar/Desktop/Gym/videos/2r5ybbnx/rl-video-step-13400-to-step-13420.mp4\n"
     ]
    },
    {
     "name": "stderr",
     "output_type": "stream",
     "text": [
      "/opt/homebrew/lib/python3.10/site-packages/gym_super_mario_bros/smb_env.py:148: RuntimeWarning: overflow encountered in ubyte_scalars\n",
      "  return (self.ram[0x86] - self.ram[0x071c]) % 256\n"
     ]
    },
    {
     "name": "stdout",
     "output_type": "stream",
     "text": [
      "Saving video to /Users/mukilankrishnakumar/Desktop/Gym/videos/2r5ybbnx/rl-video-step-13600-to-step-13620.mp4\n"
     ]
    },
    {
     "name": "stderr",
     "output_type": "stream",
     "text": [
      "/opt/homebrew/lib/python3.10/site-packages/gym_super_mario_bros/smb_env.py:148: RuntimeWarning: overflow encountered in ubyte_scalars\n",
      "  return (self.ram[0x86] - self.ram[0x071c]) % 256\n"
     ]
    },
    {
     "name": "stdout",
     "output_type": "stream",
     "text": [
      "Saving video to /Users/mukilankrishnakumar/Desktop/Gym/videos/2r5ybbnx/rl-video-step-13800-to-step-13820.mp4\n"
     ]
    },
    {
     "name": "stderr",
     "output_type": "stream",
     "text": [
      "/opt/homebrew/lib/python3.10/site-packages/gym_super_mario_bros/smb_env.py:148: RuntimeWarning: overflow encountered in ubyte_scalars\n",
      "  return (self.ram[0x86] - self.ram[0x071c]) % 256\n"
     ]
    },
    {
     "name": "stdout",
     "output_type": "stream",
     "text": [
      "Saving video to /Users/mukilankrishnakumar/Desktop/Gym/videos/2r5ybbnx/rl-video-step-14000-to-step-14020.mp4\n"
     ]
    },
    {
     "name": "stderr",
     "output_type": "stream",
     "text": [
      "/opt/homebrew/lib/python3.10/site-packages/gym_super_mario_bros/smb_env.py:148: RuntimeWarning: overflow encountered in ubyte_scalars\n",
      "  return (self.ram[0x86] - self.ram[0x071c]) % 256\n"
     ]
    },
    {
     "name": "stdout",
     "output_type": "stream",
     "text": [
      "Saving video to /Users/mukilankrishnakumar/Desktop/Gym/videos/2r5ybbnx/rl-video-step-14200-to-step-14220.mp4\n",
      "-----------------------------------------\n",
      "| time/                   |             |\n",
      "|    fps                  | 11          |\n",
      "|    iterations           | 7           |\n",
      "|    time_elapsed         | 1203        |\n",
      "|    total_timesteps      | 14336       |\n",
      "| train/                  |             |\n",
      "|    approx_kl            | 0.009765596 |\n",
      "|    clip_fraction        | 0.13        |\n",
      "|    clip_range           | 0.2         |\n",
      "|    entropy_loss         | -1.86       |\n",
      "|    explained_variance   | 0.502       |\n",
      "|    learning_rate        | 0.0003      |\n",
      "|    loss                 | 0.13        |\n",
      "|    n_updates            | 60          |\n",
      "|    policy_gradient_loss | -0.00749    |\n",
      "|    value_loss           | 0.403       |\n",
      "-----------------------------------------\n"
     ]
    },
    {
     "name": "stderr",
     "output_type": "stream",
     "text": [
      "/opt/homebrew/lib/python3.10/site-packages/gym_super_mario_bros/smb_env.py:148: RuntimeWarning: overflow encountered in ubyte_scalars\n",
      "  return (self.ram[0x86] - self.ram[0x071c]) % 256\n"
     ]
    },
    {
     "name": "stdout",
     "output_type": "stream",
     "text": [
      "Saving video to /Users/mukilankrishnakumar/Desktop/Gym/videos/2r5ybbnx/rl-video-step-14400-to-step-14420.mp4\n"
     ]
    },
    {
     "name": "stderr",
     "output_type": "stream",
     "text": [
      "/opt/homebrew/lib/python3.10/site-packages/gym_super_mario_bros/smb_env.py:148: RuntimeWarning: overflow encountered in ubyte_scalars\n",
      "  return (self.ram[0x86] - self.ram[0x071c]) % 256\n"
     ]
    },
    {
     "name": "stdout",
     "output_type": "stream",
     "text": [
      "Saving video to /Users/mukilankrishnakumar/Desktop/Gym/videos/2r5ybbnx/rl-video-step-14600-to-step-14620.mp4\n"
     ]
    },
    {
     "name": "stderr",
     "output_type": "stream",
     "text": [
      "/opt/homebrew/lib/python3.10/site-packages/gym_super_mario_bros/smb_env.py:148: RuntimeWarning: overflow encountered in ubyte_scalars\n",
      "  return (self.ram[0x86] - self.ram[0x071c]) % 256\n"
     ]
    },
    {
     "name": "stdout",
     "output_type": "stream",
     "text": [
      "Saving video to /Users/mukilankrishnakumar/Desktop/Gym/videos/2r5ybbnx/rl-video-step-14800-to-step-14820.mp4\n"
     ]
    },
    {
     "name": "stderr",
     "output_type": "stream",
     "text": [
      "/opt/homebrew/lib/python3.10/site-packages/gym_super_mario_bros/smb_env.py:148: RuntimeWarning: overflow encountered in ubyte_scalars\n",
      "  return (self.ram[0x86] - self.ram[0x071c]) % 256\n"
     ]
    },
    {
     "name": "stdout",
     "output_type": "stream",
     "text": [
      "Saving video to /Users/mukilankrishnakumar/Desktop/Gym/videos/2r5ybbnx/rl-video-step-15000-to-step-15020.mp4\n"
     ]
    },
    {
     "name": "stderr",
     "output_type": "stream",
     "text": [
      "/opt/homebrew/lib/python3.10/site-packages/gym_super_mario_bros/smb_env.py:148: RuntimeWarning: overflow encountered in ubyte_scalars\n",
      "  return (self.ram[0x86] - self.ram[0x071c]) % 256\n"
     ]
    },
    {
     "name": "stdout",
     "output_type": "stream",
     "text": [
      "Saving video to /Users/mukilankrishnakumar/Desktop/Gym/videos/2r5ybbnx/rl-video-step-15200-to-step-15220.mp4\n"
     ]
    },
    {
     "name": "stderr",
     "output_type": "stream",
     "text": [
      "/opt/homebrew/lib/python3.10/site-packages/gym_super_mario_bros/smb_env.py:148: RuntimeWarning: overflow encountered in ubyte_scalars\n",
      "  return (self.ram[0x86] - self.ram[0x071c]) % 256\n"
     ]
    },
    {
     "name": "stdout",
     "output_type": "stream",
     "text": [
      "Saving video to /Users/mukilankrishnakumar/Desktop/Gym/videos/2r5ybbnx/rl-video-step-15400-to-step-15420.mp4\n"
     ]
    },
    {
     "name": "stderr",
     "output_type": "stream",
     "text": [
      "/opt/homebrew/lib/python3.10/site-packages/gym_super_mario_bros/smb_env.py:148: RuntimeWarning: overflow encountered in ubyte_scalars\n",
      "  return (self.ram[0x86] - self.ram[0x071c]) % 256\n"
     ]
    },
    {
     "name": "stdout",
     "output_type": "stream",
     "text": [
      "Saving video to /Users/mukilankrishnakumar/Desktop/Gym/videos/2r5ybbnx/rl-video-step-15600-to-step-15620.mp4\n"
     ]
    },
    {
     "name": "stderr",
     "output_type": "stream",
     "text": [
      "/opt/homebrew/lib/python3.10/site-packages/gym_super_mario_bros/smb_env.py:148: RuntimeWarning: overflow encountered in ubyte_scalars\n",
      "  return (self.ram[0x86] - self.ram[0x071c]) % 256\n"
     ]
    },
    {
     "name": "stdout",
     "output_type": "stream",
     "text": [
      "Saving video to /Users/mukilankrishnakumar/Desktop/Gym/videos/2r5ybbnx/rl-video-step-15800-to-step-15820.mp4\n"
     ]
    },
    {
     "name": "stderr",
     "output_type": "stream",
     "text": [
      "/opt/homebrew/lib/python3.10/site-packages/gym_super_mario_bros/smb_env.py:148: RuntimeWarning: overflow encountered in ubyte_scalars\n",
      "  return (self.ram[0x86] - self.ram[0x071c]) % 256\n"
     ]
    },
    {
     "name": "stdout",
     "output_type": "stream",
     "text": [
      "Saving video to /Users/mukilankrishnakumar/Desktop/Gym/videos/2r5ybbnx/rl-video-step-16000-to-step-16020.mp4\n"
     ]
    },
    {
     "name": "stderr",
     "output_type": "stream",
     "text": [
      "/opt/homebrew/lib/python3.10/site-packages/gym_super_mario_bros/smb_env.py:148: RuntimeWarning: overflow encountered in ubyte_scalars\n",
      "  return (self.ram[0x86] - self.ram[0x071c]) % 256\n"
     ]
    },
    {
     "name": "stdout",
     "output_type": "stream",
     "text": [
      "Saving video to /Users/mukilankrishnakumar/Desktop/Gym/videos/2r5ybbnx/rl-video-step-16200-to-step-16220.mp4\n",
      "-----------------------------------------\n",
      "| time/                   |             |\n",
      "|    fps                  | 11          |\n",
      "|    iterations           | 8           |\n",
      "|    time_elapsed         | 1395        |\n",
      "|    total_timesteps      | 16384       |\n",
      "| train/                  |             |\n",
      "|    approx_kl            | 0.008521458 |\n",
      "|    clip_fraction        | 0.0864      |\n",
      "|    clip_range           | 0.2         |\n",
      "|    entropy_loss         | -1.84       |\n",
      "|    explained_variance   | 0.437       |\n",
      "|    learning_rate        | 0.0003      |\n",
      "|    loss                 | 0.0443      |\n",
      "|    n_updates            | 70          |\n",
      "|    policy_gradient_loss | -0.00331    |\n",
      "|    value_loss           | 0.171       |\n",
      "-----------------------------------------\n"
     ]
    },
    {
     "name": "stderr",
     "output_type": "stream",
     "text": [
      "/opt/homebrew/lib/python3.10/site-packages/gym_super_mario_bros/smb_env.py:148: RuntimeWarning: overflow encountered in ubyte_scalars\n",
      "  return (self.ram[0x86] - self.ram[0x071c]) % 256\n"
     ]
    },
    {
     "name": "stdout",
     "output_type": "stream",
     "text": [
      "Saving video to /Users/mukilankrishnakumar/Desktop/Gym/videos/2r5ybbnx/rl-video-step-16400-to-step-16420.mp4\n"
     ]
    },
    {
     "name": "stderr",
     "output_type": "stream",
     "text": [
      "/opt/homebrew/lib/python3.10/site-packages/gym_super_mario_bros/smb_env.py:148: RuntimeWarning: overflow encountered in ubyte_scalars\n",
      "  return (self.ram[0x86] - self.ram[0x071c]) % 256\n"
     ]
    },
    {
     "name": "stdout",
     "output_type": "stream",
     "text": [
      "Saving video to /Users/mukilankrishnakumar/Desktop/Gym/videos/2r5ybbnx/rl-video-step-16600-to-step-16620.mp4\n"
     ]
    },
    {
     "name": "stderr",
     "output_type": "stream",
     "text": [
      "/opt/homebrew/lib/python3.10/site-packages/gym_super_mario_bros/smb_env.py:148: RuntimeWarning: overflow encountered in ubyte_scalars\n",
      "  return (self.ram[0x86] - self.ram[0x071c]) % 256\n"
     ]
    },
    {
     "name": "stdout",
     "output_type": "stream",
     "text": [
      "Saving video to /Users/mukilankrishnakumar/Desktop/Gym/videos/2r5ybbnx/rl-video-step-16800-to-step-16820.mp4\n"
     ]
    },
    {
     "name": "stderr",
     "output_type": "stream",
     "text": [
      "/opt/homebrew/lib/python3.10/site-packages/gym_super_mario_bros/smb_env.py:148: RuntimeWarning: overflow encountered in ubyte_scalars\n",
      "  return (self.ram[0x86] - self.ram[0x071c]) % 256\n"
     ]
    },
    {
     "name": "stdout",
     "output_type": "stream",
     "text": [
      "Saving video to /Users/mukilankrishnakumar/Desktop/Gym/videos/2r5ybbnx/rl-video-step-17000-to-step-17020.mp4\n"
     ]
    },
    {
     "name": "stderr",
     "output_type": "stream",
     "text": [
      "/opt/homebrew/lib/python3.10/site-packages/gym_super_mario_bros/smb_env.py:148: RuntimeWarning: overflow encountered in ubyte_scalars\n",
      "  return (self.ram[0x86] - self.ram[0x071c]) % 256\n"
     ]
    },
    {
     "name": "stdout",
     "output_type": "stream",
     "text": [
      "Saving video to /Users/mukilankrishnakumar/Desktop/Gym/videos/2r5ybbnx/rl-video-step-17200-to-step-17220.mp4\n"
     ]
    },
    {
     "name": "stderr",
     "output_type": "stream",
     "text": [
      "/opt/homebrew/lib/python3.10/site-packages/gym_super_mario_bros/smb_env.py:148: RuntimeWarning: overflow encountered in ubyte_scalars\n",
      "  return (self.ram[0x86] - self.ram[0x071c]) % 256\n"
     ]
    },
    {
     "name": "stdout",
     "output_type": "stream",
     "text": [
      "Saving video to /Users/mukilankrishnakumar/Desktop/Gym/videos/2r5ybbnx/rl-video-step-17400-to-step-17420.mp4\n"
     ]
    },
    {
     "name": "stderr",
     "output_type": "stream",
     "text": [
      "/opt/homebrew/lib/python3.10/site-packages/gym_super_mario_bros/smb_env.py:148: RuntimeWarning: overflow encountered in ubyte_scalars\n",
      "  return (self.ram[0x86] - self.ram[0x071c]) % 256\n"
     ]
    },
    {
     "name": "stdout",
     "output_type": "stream",
     "text": [
      "Saving video to /Users/mukilankrishnakumar/Desktop/Gym/videos/2r5ybbnx/rl-video-step-17600-to-step-17620.mp4\n"
     ]
    },
    {
     "name": "stderr",
     "output_type": "stream",
     "text": [
      "/opt/homebrew/lib/python3.10/site-packages/gym_super_mario_bros/smb_env.py:148: RuntimeWarning: overflow encountered in ubyte_scalars\n",
      "  return (self.ram[0x86] - self.ram[0x071c]) % 256\n"
     ]
    },
    {
     "name": "stdout",
     "output_type": "stream",
     "text": [
      "Saving video to /Users/mukilankrishnakumar/Desktop/Gym/videos/2r5ybbnx/rl-video-step-17800-to-step-17820.mp4\n"
     ]
    },
    {
     "name": "stderr",
     "output_type": "stream",
     "text": [
      "/opt/homebrew/lib/python3.10/site-packages/gym_super_mario_bros/smb_env.py:148: RuntimeWarning: overflow encountered in ubyte_scalars\n",
      "  return (self.ram[0x86] - self.ram[0x071c]) % 256\n"
     ]
    },
    {
     "name": "stdout",
     "output_type": "stream",
     "text": [
      "Saving video to /Users/mukilankrishnakumar/Desktop/Gym/videos/2r5ybbnx/rl-video-step-18000-to-step-18020.mp4\n"
     ]
    },
    {
     "name": "stderr",
     "output_type": "stream",
     "text": [
      "/opt/homebrew/lib/python3.10/site-packages/gym_super_mario_bros/smb_env.py:148: RuntimeWarning: overflow encountered in ubyte_scalars\n",
      "  return (self.ram[0x86] - self.ram[0x071c]) % 256\n"
     ]
    },
    {
     "name": "stdout",
     "output_type": "stream",
     "text": [
      "Saving video to /Users/mukilankrishnakumar/Desktop/Gym/videos/2r5ybbnx/rl-video-step-18200-to-step-18220.mp4\n"
     ]
    },
    {
     "name": "stderr",
     "output_type": "stream",
     "text": [
      "/opt/homebrew/lib/python3.10/site-packages/gym_super_mario_bros/smb_env.py:148: RuntimeWarning: overflow encountered in ubyte_scalars\n",
      "  return (self.ram[0x86] - self.ram[0x071c]) % 256\n"
     ]
    },
    {
     "name": "stdout",
     "output_type": "stream",
     "text": [
      "Saving video to /Users/mukilankrishnakumar/Desktop/Gym/videos/2r5ybbnx/rl-video-step-18400-to-step-18420.mp4\n",
      "-----------------------------------------\n",
      "| time/                   |             |\n",
      "|    fps                  | 11          |\n",
      "|    iterations           | 9           |\n",
      "|    time_elapsed         | 1588        |\n",
      "|    total_timesteps      | 18432       |\n",
      "| train/                  |             |\n",
      "|    approx_kl            | 0.013559541 |\n",
      "|    clip_fraction        | 0.316       |\n",
      "|    clip_range           | 0.2         |\n",
      "|    entropy_loss         | -1.7        |\n",
      "|    explained_variance   | 0.358       |\n",
      "|    learning_rate        | 0.0003      |\n",
      "|    loss                 | 0.578       |\n",
      "|    n_updates            | 80          |\n",
      "|    policy_gradient_loss | 0.0339      |\n",
      "|    value_loss           | 4.84        |\n",
      "-----------------------------------------\n"
     ]
    },
    {
     "name": "stderr",
     "output_type": "stream",
     "text": [
      "/opt/homebrew/lib/python3.10/site-packages/gym_super_mario_bros/smb_env.py:148: RuntimeWarning: overflow encountered in ubyte_scalars\n",
      "  return (self.ram[0x86] - self.ram[0x071c]) % 256\n"
     ]
    },
    {
     "name": "stdout",
     "output_type": "stream",
     "text": [
      "Saving video to /Users/mukilankrishnakumar/Desktop/Gym/videos/2r5ybbnx/rl-video-step-18600-to-step-18620.mp4\n"
     ]
    },
    {
     "name": "stderr",
     "output_type": "stream",
     "text": [
      "/opt/homebrew/lib/python3.10/site-packages/gym_super_mario_bros/smb_env.py:148: RuntimeWarning: overflow encountered in ubyte_scalars\n",
      "  return (self.ram[0x86] - self.ram[0x071c]) % 256\n"
     ]
    },
    {
     "name": "stdout",
     "output_type": "stream",
     "text": [
      "Saving video to /Users/mukilankrishnakumar/Desktop/Gym/videos/2r5ybbnx/rl-video-step-18800-to-step-18820.mp4\n"
     ]
    },
    {
     "name": "stderr",
     "output_type": "stream",
     "text": [
      "/opt/homebrew/lib/python3.10/site-packages/gym_super_mario_bros/smb_env.py:148: RuntimeWarning: overflow encountered in ubyte_scalars\n",
      "  return (self.ram[0x86] - self.ram[0x071c]) % 256\n"
     ]
    },
    {
     "name": "stdout",
     "output_type": "stream",
     "text": [
      "Saving video to /Users/mukilankrishnakumar/Desktop/Gym/videos/2r5ybbnx/rl-video-step-19000-to-step-19020.mp4\n"
     ]
    },
    {
     "name": "stderr",
     "output_type": "stream",
     "text": [
      "/opt/homebrew/lib/python3.10/site-packages/gym_super_mario_bros/smb_env.py:148: RuntimeWarning: overflow encountered in ubyte_scalars\n",
      "  return (self.ram[0x86] - self.ram[0x071c]) % 256\n"
     ]
    },
    {
     "name": "stdout",
     "output_type": "stream",
     "text": [
      "Saving video to /Users/mukilankrishnakumar/Desktop/Gym/videos/2r5ybbnx/rl-video-step-19200-to-step-19220.mp4\n"
     ]
    },
    {
     "name": "stderr",
     "output_type": "stream",
     "text": [
      "/opt/homebrew/lib/python3.10/site-packages/gym_super_mario_bros/smb_env.py:148: RuntimeWarning: overflow encountered in ubyte_scalars\n",
      "  return (self.ram[0x86] - self.ram[0x071c]) % 256\n"
     ]
    },
    {
     "name": "stdout",
     "output_type": "stream",
     "text": [
      "Saving video to /Users/mukilankrishnakumar/Desktop/Gym/videos/2r5ybbnx/rl-video-step-19400-to-step-19420.mp4\n"
     ]
    },
    {
     "name": "stderr",
     "output_type": "stream",
     "text": [
      "/opt/homebrew/lib/python3.10/site-packages/gym_super_mario_bros/smb_env.py:148: RuntimeWarning: overflow encountered in ubyte_scalars\n",
      "  return (self.ram[0x86] - self.ram[0x071c]) % 256\n"
     ]
    },
    {
     "name": "stdout",
     "output_type": "stream",
     "text": [
      "Saving video to /Users/mukilankrishnakumar/Desktop/Gym/videos/2r5ybbnx/rl-video-step-19600-to-step-19620.mp4\n"
     ]
    },
    {
     "name": "stderr",
     "output_type": "stream",
     "text": [
      "/opt/homebrew/lib/python3.10/site-packages/gym_super_mario_bros/smb_env.py:148: RuntimeWarning: overflow encountered in ubyte_scalars\n",
      "  return (self.ram[0x86] - self.ram[0x071c]) % 256\n"
     ]
    },
    {
     "name": "stdout",
     "output_type": "stream",
     "text": [
      "Saving video to /Users/mukilankrishnakumar/Desktop/Gym/videos/2r5ybbnx/rl-video-step-19800-to-step-19820.mp4\n"
     ]
    },
    {
     "name": "stderr",
     "output_type": "stream",
     "text": [
      "/opt/homebrew/lib/python3.10/site-packages/gym_super_mario_bros/smb_env.py:148: RuntimeWarning: overflow encountered in ubyte_scalars\n",
      "  return (self.ram[0x86] - self.ram[0x071c]) % 256\n"
     ]
    },
    {
     "name": "stdout",
     "output_type": "stream",
     "text": [
      "Saving video to /Users/mukilankrishnakumar/Desktop/Gym/videos/2r5ybbnx/rl-video-step-20000-to-step-20020.mp4\n"
     ]
    },
    {
     "name": "stderr",
     "output_type": "stream",
     "text": [
      "/opt/homebrew/lib/python3.10/site-packages/gym_super_mario_bros/smb_env.py:148: RuntimeWarning: overflow encountered in ubyte_scalars\n",
      "  return (self.ram[0x86] - self.ram[0x071c]) % 256\n"
     ]
    },
    {
     "name": "stdout",
     "output_type": "stream",
     "text": [
      "Saving video to /Users/mukilankrishnakumar/Desktop/Gym/videos/2r5ybbnx/rl-video-step-20200-to-step-20220.mp4\n"
     ]
    },
    {
     "name": "stderr",
     "output_type": "stream",
     "text": [
      "/opt/homebrew/lib/python3.10/site-packages/gym_super_mario_bros/smb_env.py:148: RuntimeWarning: overflow encountered in ubyte_scalars\n",
      "  return (self.ram[0x86] - self.ram[0x071c]) % 256\n"
     ]
    },
    {
     "name": "stdout",
     "output_type": "stream",
     "text": [
      "Saving video to /Users/mukilankrishnakumar/Desktop/Gym/videos/2r5ybbnx/rl-video-step-20400-to-step-20420.mp4\n",
      "-----------------------------------------\n",
      "| time/                   |             |\n",
      "|    fps                  | 11          |\n",
      "|    iterations           | 10          |\n",
      "|    time_elapsed         | 1787        |\n",
      "|    total_timesteps      | 20480       |\n",
      "| train/                  |             |\n",
      "|    approx_kl            | 0.012727492 |\n",
      "|    clip_fraction        | 0.165       |\n",
      "|    clip_range           | 0.2         |\n",
      "|    entropy_loss         | -1.79       |\n",
      "|    explained_variance   | 0.749       |\n",
      "|    learning_rate        | 0.0003      |\n",
      "|    loss                 | 0.0075      |\n",
      "|    n_updates            | 90          |\n",
      "|    policy_gradient_loss | -0.00739    |\n",
      "|    value_loss           | 0.229       |\n",
      "-----------------------------------------\n"
     ]
    },
    {
     "name": "stderr",
     "output_type": "stream",
     "text": [
      "/opt/homebrew/lib/python3.10/site-packages/gym_super_mario_bros/smb_env.py:148: RuntimeWarning: overflow encountered in ubyte_scalars\n",
      "  return (self.ram[0x86] - self.ram[0x071c]) % 256\n"
     ]
    },
    {
     "name": "stdout",
     "output_type": "stream",
     "text": [
      "Saving video to /Users/mukilankrishnakumar/Desktop/Gym/videos/2r5ybbnx/rl-video-step-20600-to-step-20620.mp4\n"
     ]
    },
    {
     "name": "stderr",
     "output_type": "stream",
     "text": [
      "/opt/homebrew/lib/python3.10/site-packages/gym_super_mario_bros/smb_env.py:148: RuntimeWarning: overflow encountered in ubyte_scalars\n",
      "  return (self.ram[0x86] - self.ram[0x071c]) % 256\n"
     ]
    },
    {
     "name": "stdout",
     "output_type": "stream",
     "text": [
      "Saving video to /Users/mukilankrishnakumar/Desktop/Gym/videos/2r5ybbnx/rl-video-step-20800-to-step-20820.mp4\n"
     ]
    },
    {
     "name": "stderr",
     "output_type": "stream",
     "text": [
      "/opt/homebrew/lib/python3.10/site-packages/gym_super_mario_bros/smb_env.py:148: RuntimeWarning: overflow encountered in ubyte_scalars\n",
      "  return (self.ram[0x86] - self.ram[0x071c]) % 256\n"
     ]
    },
    {
     "name": "stdout",
     "output_type": "stream",
     "text": [
      "Saving video to /Users/mukilankrishnakumar/Desktop/Gym/videos/2r5ybbnx/rl-video-step-21000-to-step-21020.mp4\n"
     ]
    },
    {
     "name": "stderr",
     "output_type": "stream",
     "text": [
      "/opt/homebrew/lib/python3.10/site-packages/gym_super_mario_bros/smb_env.py:148: RuntimeWarning: overflow encountered in ubyte_scalars\n",
      "  return (self.ram[0x86] - self.ram[0x071c]) % 256\n"
     ]
    },
    {
     "name": "stdout",
     "output_type": "stream",
     "text": [
      "Saving video to /Users/mukilankrishnakumar/Desktop/Gym/videos/2r5ybbnx/rl-video-step-21200-to-step-21220.mp4\n"
     ]
    },
    {
     "name": "stderr",
     "output_type": "stream",
     "text": [
      "/opt/homebrew/lib/python3.10/site-packages/gym_super_mario_bros/smb_env.py:148: RuntimeWarning: overflow encountered in ubyte_scalars\n",
      "  return (self.ram[0x86] - self.ram[0x071c]) % 256\n"
     ]
    },
    {
     "name": "stdout",
     "output_type": "stream",
     "text": [
      "Saving video to /Users/mukilankrishnakumar/Desktop/Gym/videos/2r5ybbnx/rl-video-step-21400-to-step-21420.mp4\n"
     ]
    },
    {
     "name": "stderr",
     "output_type": "stream",
     "text": [
      "/opt/homebrew/lib/python3.10/site-packages/gym_super_mario_bros/smb_env.py:148: RuntimeWarning: overflow encountered in ubyte_scalars\n",
      "  return (self.ram[0x86] - self.ram[0x071c]) % 256\n"
     ]
    },
    {
     "name": "stdout",
     "output_type": "stream",
     "text": [
      "Saving video to /Users/mukilankrishnakumar/Desktop/Gym/videos/2r5ybbnx/rl-video-step-21600-to-step-21620.mp4\n"
     ]
    },
    {
     "name": "stderr",
     "output_type": "stream",
     "text": [
      "/opt/homebrew/lib/python3.10/site-packages/gym_super_mario_bros/smb_env.py:148: RuntimeWarning: overflow encountered in ubyte_scalars\n",
      "  return (self.ram[0x86] - self.ram[0x071c]) % 256\n"
     ]
    },
    {
     "name": "stdout",
     "output_type": "stream",
     "text": [
      "Saving video to /Users/mukilankrishnakumar/Desktop/Gym/videos/2r5ybbnx/rl-video-step-21800-to-step-21820.mp4\n"
     ]
    },
    {
     "name": "stderr",
     "output_type": "stream",
     "text": [
      "/opt/homebrew/lib/python3.10/site-packages/gym_super_mario_bros/smb_env.py:148: RuntimeWarning: overflow encountered in ubyte_scalars\n",
      "  return (self.ram[0x86] - self.ram[0x071c]) % 256\n"
     ]
    },
    {
     "name": "stdout",
     "output_type": "stream",
     "text": [
      "Saving video to /Users/mukilankrishnakumar/Desktop/Gym/videos/2r5ybbnx/rl-video-step-22000-to-step-22020.mp4\n"
     ]
    },
    {
     "name": "stderr",
     "output_type": "stream",
     "text": [
      "/opt/homebrew/lib/python3.10/site-packages/gym_super_mario_bros/smb_env.py:148: RuntimeWarning: overflow encountered in ubyte_scalars\n",
      "  return (self.ram[0x86] - self.ram[0x071c]) % 256\n"
     ]
    },
    {
     "name": "stdout",
     "output_type": "stream",
     "text": [
      "Saving video to /Users/mukilankrishnakumar/Desktop/Gym/videos/2r5ybbnx/rl-video-step-22200-to-step-22220.mp4\n"
     ]
    },
    {
     "name": "stderr",
     "output_type": "stream",
     "text": [
      "/opt/homebrew/lib/python3.10/site-packages/gym_super_mario_bros/smb_env.py:148: RuntimeWarning: overflow encountered in ubyte_scalars\n",
      "  return (self.ram[0x86] - self.ram[0x071c]) % 256\n"
     ]
    },
    {
     "name": "stdout",
     "output_type": "stream",
     "text": [
      "Saving video to /Users/mukilankrishnakumar/Desktop/Gym/videos/2r5ybbnx/rl-video-step-22400-to-step-22420.mp4\n",
      "-----------------------------------------\n",
      "| time/                   |             |\n",
      "|    fps                  | 11          |\n",
      "|    iterations           | 11          |\n",
      "|    time_elapsed         | 1979        |\n",
      "|    total_timesteps      | 22528       |\n",
      "| train/                  |             |\n",
      "|    approx_kl            | 0.010896242 |\n",
      "|    clip_fraction        | 0.138       |\n",
      "|    clip_range           | 0.2         |\n",
      "|    entropy_loss         | -1.8        |\n",
      "|    explained_variance   | 0.625       |\n",
      "|    learning_rate        | 0.0003      |\n",
      "|    loss                 | 0.034       |\n",
      "|    n_updates            | 100         |\n",
      "|    policy_gradient_loss | -0.0117     |\n",
      "|    value_loss           | 0.119       |\n",
      "-----------------------------------------\n"
     ]
    },
    {
     "name": "stderr",
     "output_type": "stream",
     "text": [
      "/opt/homebrew/lib/python3.10/site-packages/gym_super_mario_bros/smb_env.py:148: RuntimeWarning: overflow encountered in ubyte_scalars\n",
      "  return (self.ram[0x86] - self.ram[0x071c]) % 256\n"
     ]
    },
    {
     "name": "stdout",
     "output_type": "stream",
     "text": [
      "Saving video to /Users/mukilankrishnakumar/Desktop/Gym/videos/2r5ybbnx/rl-video-step-22600-to-step-22620.mp4\n"
     ]
    },
    {
     "name": "stderr",
     "output_type": "stream",
     "text": [
      "/opt/homebrew/lib/python3.10/site-packages/gym_super_mario_bros/smb_env.py:148: RuntimeWarning: overflow encountered in ubyte_scalars\n",
      "  return (self.ram[0x86] - self.ram[0x071c]) % 256\n"
     ]
    },
    {
     "name": "stdout",
     "output_type": "stream",
     "text": [
      "Saving video to /Users/mukilankrishnakumar/Desktop/Gym/videos/2r5ybbnx/rl-video-step-22800-to-step-22820.mp4\n"
     ]
    },
    {
     "name": "stderr",
     "output_type": "stream",
     "text": [
      "/opt/homebrew/lib/python3.10/site-packages/gym_super_mario_bros/smb_env.py:148: RuntimeWarning: overflow encountered in ubyte_scalars\n",
      "  return (self.ram[0x86] - self.ram[0x071c]) % 256\n"
     ]
    },
    {
     "name": "stdout",
     "output_type": "stream",
     "text": [
      "Saving video to /Users/mukilankrishnakumar/Desktop/Gym/videos/2r5ybbnx/rl-video-step-23000-to-step-23020.mp4\n"
     ]
    },
    {
     "name": "stderr",
     "output_type": "stream",
     "text": [
      "/opt/homebrew/lib/python3.10/site-packages/gym_super_mario_bros/smb_env.py:148: RuntimeWarning: overflow encountered in ubyte_scalars\n",
      "  return (self.ram[0x86] - self.ram[0x071c]) % 256\n"
     ]
    },
    {
     "name": "stdout",
     "output_type": "stream",
     "text": [
      "Saving video to /Users/mukilankrishnakumar/Desktop/Gym/videos/2r5ybbnx/rl-video-step-23200-to-step-23220.mp4\n"
     ]
    },
    {
     "name": "stderr",
     "output_type": "stream",
     "text": [
      "/opt/homebrew/lib/python3.10/site-packages/gym_super_mario_bros/smb_env.py:148: RuntimeWarning: overflow encountered in ubyte_scalars\n",
      "  return (self.ram[0x86] - self.ram[0x071c]) % 256\n"
     ]
    },
    {
     "name": "stdout",
     "output_type": "stream",
     "text": [
      "Saving video to /Users/mukilankrishnakumar/Desktop/Gym/videos/2r5ybbnx/rl-video-step-23400-to-step-23420.mp4\n"
     ]
    },
    {
     "name": "stderr",
     "output_type": "stream",
     "text": [
      "/opt/homebrew/lib/python3.10/site-packages/gym_super_mario_bros/smb_env.py:148: RuntimeWarning: overflow encountered in ubyte_scalars\n",
      "  return (self.ram[0x86] - self.ram[0x071c]) % 256\n"
     ]
    },
    {
     "name": "stdout",
     "output_type": "stream",
     "text": [
      "Saving video to /Users/mukilankrishnakumar/Desktop/Gym/videos/2r5ybbnx/rl-video-step-23600-to-step-23620.mp4\n"
     ]
    },
    {
     "name": "stderr",
     "output_type": "stream",
     "text": [
      "/opt/homebrew/lib/python3.10/site-packages/gym_super_mario_bros/smb_env.py:148: RuntimeWarning: overflow encountered in ubyte_scalars\n",
      "  return (self.ram[0x86] - self.ram[0x071c]) % 256\n"
     ]
    },
    {
     "name": "stdout",
     "output_type": "stream",
     "text": [
      "Saving video to /Users/mukilankrishnakumar/Desktop/Gym/videos/2r5ybbnx/rl-video-step-23800-to-step-23820.mp4\n"
     ]
    },
    {
     "name": "stderr",
     "output_type": "stream",
     "text": [
      "/opt/homebrew/lib/python3.10/site-packages/gym_super_mario_bros/smb_env.py:148: RuntimeWarning: overflow encountered in ubyte_scalars\n",
      "  return (self.ram[0x86] - self.ram[0x071c]) % 256\n"
     ]
    },
    {
     "name": "stdout",
     "output_type": "stream",
     "text": [
      "Saving video to /Users/mukilankrishnakumar/Desktop/Gym/videos/2r5ybbnx/rl-video-step-24000-to-step-24020.mp4\n"
     ]
    },
    {
     "name": "stderr",
     "output_type": "stream",
     "text": [
      "/opt/homebrew/lib/python3.10/site-packages/gym_super_mario_bros/smb_env.py:148: RuntimeWarning: overflow encountered in ubyte_scalars\n",
      "  return (self.ram[0x86] - self.ram[0x071c]) % 256\n"
     ]
    },
    {
     "name": "stdout",
     "output_type": "stream",
     "text": [
      "Saving video to /Users/mukilankrishnakumar/Desktop/Gym/videos/2r5ybbnx/rl-video-step-24200-to-step-24220.mp4\n"
     ]
    },
    {
     "name": "stderr",
     "output_type": "stream",
     "text": [
      "/opt/homebrew/lib/python3.10/site-packages/gym_super_mario_bros/smb_env.py:148: RuntimeWarning: overflow encountered in ubyte_scalars\n",
      "  return (self.ram[0x86] - self.ram[0x071c]) % 256\n"
     ]
    },
    {
     "name": "stdout",
     "output_type": "stream",
     "text": [
      "Saving video to /Users/mukilankrishnakumar/Desktop/Gym/videos/2r5ybbnx/rl-video-step-24400-to-step-24420.mp4\n",
      "-----------------------------------------\n",
      "| time/                   |             |\n",
      "|    fps                  | 11          |\n",
      "|    iterations           | 12          |\n",
      "|    time_elapsed         | 2171        |\n",
      "|    total_timesteps      | 24576       |\n",
      "| train/                  |             |\n",
      "|    approx_kl            | 0.009755641 |\n",
      "|    clip_fraction        | 0.113       |\n",
      "|    clip_range           | 0.2         |\n",
      "|    entropy_loss         | -1.82       |\n",
      "|    explained_variance   | 0.217       |\n",
      "|    learning_rate        | 0.0003      |\n",
      "|    loss                 | 0.0348      |\n",
      "|    n_updates            | 110         |\n",
      "|    policy_gradient_loss | -0.0162     |\n",
      "|    value_loss           | 0.0967      |\n",
      "-----------------------------------------\n"
     ]
    },
    {
     "name": "stderr",
     "output_type": "stream",
     "text": [
      "/opt/homebrew/lib/python3.10/site-packages/gym_super_mario_bros/smb_env.py:148: RuntimeWarning: overflow encountered in ubyte_scalars\n",
      "  return (self.ram[0x86] - self.ram[0x071c]) % 256\n"
     ]
    },
    {
     "name": "stdout",
     "output_type": "stream",
     "text": [
      "Saving video to /Users/mukilankrishnakumar/Desktop/Gym/videos/2r5ybbnx/rl-video-step-24600-to-step-24620.mp4\n"
     ]
    },
    {
     "name": "stderr",
     "output_type": "stream",
     "text": [
      "/opt/homebrew/lib/python3.10/site-packages/gym_super_mario_bros/smb_env.py:148: RuntimeWarning: overflow encountered in ubyte_scalars\n",
      "  return (self.ram[0x86] - self.ram[0x071c]) % 256\n"
     ]
    },
    {
     "name": "stdout",
     "output_type": "stream",
     "text": [
      "Saving video to /Users/mukilankrishnakumar/Desktop/Gym/videos/2r5ybbnx/rl-video-step-24800-to-step-24820.mp4\n"
     ]
    },
    {
     "name": "stderr",
     "output_type": "stream",
     "text": [
      "/opt/homebrew/lib/python3.10/site-packages/gym_super_mario_bros/smb_env.py:148: RuntimeWarning: overflow encountered in ubyte_scalars\n",
      "  return (self.ram[0x86] - self.ram[0x071c]) % 256\n"
     ]
    },
    {
     "name": "stdout",
     "output_type": "stream",
     "text": [
      "Saving video to /Users/mukilankrishnakumar/Desktop/Gym/videos/2r5ybbnx/rl-video-step-25000-to-step-25020.mp4\n"
     ]
    },
    {
     "name": "stderr",
     "output_type": "stream",
     "text": [
      "/opt/homebrew/lib/python3.10/site-packages/gym_super_mario_bros/smb_env.py:148: RuntimeWarning: overflow encountered in ubyte_scalars\n",
      "  return (self.ram[0x86] - self.ram[0x071c]) % 256\n"
     ]
    },
    {
     "name": "stdout",
     "output_type": "stream",
     "text": [
      "Saving video to /Users/mukilankrishnakumar/Desktop/Gym/videos/2r5ybbnx/rl-video-step-25200-to-step-25220.mp4\n"
     ]
    },
    {
     "name": "stderr",
     "output_type": "stream",
     "text": [
      "/opt/homebrew/lib/python3.10/site-packages/gym_super_mario_bros/smb_env.py:148: RuntimeWarning: overflow encountered in ubyte_scalars\n",
      "  return (self.ram[0x86] - self.ram[0x071c]) % 256\n"
     ]
    },
    {
     "name": "stdout",
     "output_type": "stream",
     "text": [
      "Saving video to /Users/mukilankrishnakumar/Desktop/Gym/videos/2r5ybbnx/rl-video-step-25400-to-step-25420.mp4\n"
     ]
    },
    {
     "name": "stderr",
     "output_type": "stream",
     "text": [
      "/opt/homebrew/lib/python3.10/site-packages/gym_super_mario_bros/smb_env.py:148: RuntimeWarning: overflow encountered in ubyte_scalars\n",
      "  return (self.ram[0x86] - self.ram[0x071c]) % 256\n"
     ]
    },
    {
     "name": "stdout",
     "output_type": "stream",
     "text": [
      "Saving video to /Users/mukilankrishnakumar/Desktop/Gym/videos/2r5ybbnx/rl-video-step-25600-to-step-25620.mp4\n"
     ]
    },
    {
     "name": "stderr",
     "output_type": "stream",
     "text": [
      "/opt/homebrew/lib/python3.10/site-packages/gym_super_mario_bros/smb_env.py:148: RuntimeWarning: overflow encountered in ubyte_scalars\n",
      "  return (self.ram[0x86] - self.ram[0x071c]) % 256\n"
     ]
    },
    {
     "name": "stdout",
     "output_type": "stream",
     "text": [
      "Saving video to /Users/mukilankrishnakumar/Desktop/Gym/videos/2r5ybbnx/rl-video-step-25800-to-step-25820.mp4\n"
     ]
    },
    {
     "name": "stderr",
     "output_type": "stream",
     "text": [
      "/opt/homebrew/lib/python3.10/site-packages/gym_super_mario_bros/smb_env.py:148: RuntimeWarning: overflow encountered in ubyte_scalars\n",
      "  return (self.ram[0x86] - self.ram[0x071c]) % 256\n"
     ]
    },
    {
     "name": "stdout",
     "output_type": "stream",
     "text": [
      "Saving video to /Users/mukilankrishnakumar/Desktop/Gym/videos/2r5ybbnx/rl-video-step-26000-to-step-26020.mp4\n"
     ]
    },
    {
     "name": "stderr",
     "output_type": "stream",
     "text": [
      "/opt/homebrew/lib/python3.10/site-packages/gym_super_mario_bros/smb_env.py:148: RuntimeWarning: overflow encountered in ubyte_scalars\n",
      "  return (self.ram[0x86] - self.ram[0x071c]) % 256\n"
     ]
    },
    {
     "name": "stdout",
     "output_type": "stream",
     "text": [
      "Saving video to /Users/mukilankrishnakumar/Desktop/Gym/videos/2r5ybbnx/rl-video-step-26200-to-step-26220.mp4\n"
     ]
    },
    {
     "name": "stderr",
     "output_type": "stream",
     "text": [
      "/opt/homebrew/lib/python3.10/site-packages/gym_super_mario_bros/smb_env.py:148: RuntimeWarning: overflow encountered in ubyte_scalars\n",
      "  return (self.ram[0x86] - self.ram[0x071c]) % 256\n"
     ]
    },
    {
     "name": "stdout",
     "output_type": "stream",
     "text": [
      "Saving video to /Users/mukilankrishnakumar/Desktop/Gym/videos/2r5ybbnx/rl-video-step-26400-to-step-26420.mp4\n"
     ]
    },
    {
     "name": "stderr",
     "output_type": "stream",
     "text": [
      "/opt/homebrew/lib/python3.10/site-packages/gym_super_mario_bros/smb_env.py:148: RuntimeWarning: overflow encountered in ubyte_scalars\n",
      "  return (self.ram[0x86] - self.ram[0x071c]) % 256\n"
     ]
    },
    {
     "name": "stdout",
     "output_type": "stream",
     "text": [
      "Saving video to /Users/mukilankrishnakumar/Desktop/Gym/videos/2r5ybbnx/rl-video-step-26600-to-step-26620.mp4\n",
      "-----------------------------------------\n",
      "| time/                   |             |\n",
      "|    fps                  | 11          |\n",
      "|    iterations           | 13          |\n",
      "|    time_elapsed         | 2363        |\n",
      "|    total_timesteps      | 26624       |\n",
      "| train/                  |             |\n",
      "|    approx_kl            | 0.028842816 |\n",
      "|    clip_fraction        | 0.375       |\n",
      "|    clip_range           | 0.2         |\n",
      "|    entropy_loss         | -1.53       |\n",
      "|    explained_variance   | 0.545       |\n",
      "|    learning_rate        | 0.0003      |\n",
      "|    loss                 | 0.697       |\n",
      "|    n_updates            | 120         |\n",
      "|    policy_gradient_loss | 0.0159      |\n",
      "|    value_loss           | 6.11        |\n",
      "-----------------------------------------\n"
     ]
    },
    {
     "data": {
      "text/plain": [
       "<stable_baselines3.ppo.ppo.PPO at 0x16de59ea0>"
      ]
     },
     "execution_count": 16,
     "metadata": {},
     "output_type": "execute_result"
    }
   ],
   "source": [
    "env = VecVideoRecorder(env, f\"videos/{run.id}\", record_video_trigger=lambda x: x % 200 == 0, video_length=20)\n",
    "model = PPO(config[\"policy_type\"], env, verbose=1, tensorboard_log=f\"runs/{run.id}\")\n",
    "model.learn(\n",
    "total_timesteps=config[\"total_timesteps\"],\n",
    "callback=WandbCallback(\n",
    "gradient_save_freq=10,\n",
    "model_save_path=f\"models/{run.id}\",\n",
    "verbose=2,\n",
    "),)"
   ]
  },
  {
   "cell_type": "code",
   "execution_count": 17,
   "id": "66b251f5",
   "metadata": {},
   "outputs": [],
   "source": [
    "PPO_path = os.path.join('Training', 'Saved Models', 'PPO_SuperMario_25k')\n",
    "model.save(PPO_path)"
   ]
  },
  {
   "cell_type": "code",
   "execution_count": 18,
   "id": "2e5faa52",
   "metadata": {},
   "outputs": [
    {
     "name": "stderr",
     "output_type": "stream",
     "text": [
      "/opt/homebrew/lib/python3.10/site-packages/stable_baselines3/common/evaluation.py:65: UserWarning: Evaluation environment is not wrapped with a ``Monitor`` wrapper. This may result in reporting modified episode lengths and rewards, if other wrappers happen to modify these. Consider wrapping environment first with ``Monitor`` wrapper.\n",
      "  warnings.warn(\n"
     ]
    },
    {
     "name": "stdout",
     "output_type": "stream",
     "text": [
      "Saving video to /Users/mukilankrishnakumar/Desktop/Gym/videos/2r5ybbnx/rl-video-step-26624-to-step-26644.mp4\n"
     ]
    },
    {
     "name": "stderr",
     "output_type": "stream",
     "text": [
      "/opt/homebrew/lib/python3.10/site-packages/gym_super_mario_bros/smb_env.py:148: RuntimeWarning: overflow encountered in ubyte_scalars\n",
      "  return (self.ram[0x86] - self.ram[0x071c]) % 256\n"
     ]
    },
    {
     "name": "stdout",
     "output_type": "stream",
     "text": [
      "Saving video to /Users/mukilankrishnakumar/Desktop/Gym/videos/2r5ybbnx/rl-video-step-26800-to-step-26820.mp4\n"
     ]
    },
    {
     "name": "stderr",
     "output_type": "stream",
     "text": [
      "/opt/homebrew/lib/python3.10/site-packages/gym_super_mario_bros/smb_env.py:148: RuntimeWarning: overflow encountered in ubyte_scalars\n",
      "  return (self.ram[0x86] - self.ram[0x071c]) % 256\n"
     ]
    },
    {
     "name": "stdout",
     "output_type": "stream",
     "text": [
      "Saving video to /Users/mukilankrishnakumar/Desktop/Gym/videos/2r5ybbnx/rl-video-step-27000-to-step-27020.mp4\n"
     ]
    },
    {
     "name": "stderr",
     "output_type": "stream",
     "text": [
      "/opt/homebrew/lib/python3.10/site-packages/gym_super_mario_bros/smb_env.py:148: RuntimeWarning: overflow encountered in ubyte_scalars\n",
      "  return (self.ram[0x86] - self.ram[0x071c]) % 256\n",
      "/opt/homebrew/lib/python3.10/site-packages/gym_super_mario_bros/smb_env.py:148: RuntimeWarning: overflow encountered in ubyte_scalars\n",
      "  return (self.ram[0x86] - self.ram[0x071c]) % 256\n"
     ]
    },
    {
     "name": "stdout",
     "output_type": "stream",
     "text": [
      "Saving video to /Users/mukilankrishnakumar/Desktop/Gym/videos/2r5ybbnx/rl-video-step-27200-to-step-27220.mp4\n",
      "Saving video to /Users/mukilankrishnakumar/Desktop/Gym/videos/2r5ybbnx/rl-video-step-27400-to-step-27420.mp4\n"
     ]
    },
    {
     "name": "stderr",
     "output_type": "stream",
     "text": [
      "/opt/homebrew/lib/python3.10/site-packages/gym_super_mario_bros/smb_env.py:148: RuntimeWarning: overflow encountered in ubyte_scalars\n",
      "  return (self.ram[0x86] - self.ram[0x071c]) % 256\n"
     ]
    },
    {
     "name": "stdout",
     "output_type": "stream",
     "text": [
      "Saving video to /Users/mukilankrishnakumar/Desktop/Gym/videos/2r5ybbnx/rl-video-step-27600-to-step-27620.mp4\n"
     ]
    },
    {
     "name": "stderr",
     "output_type": "stream",
     "text": [
      "/opt/homebrew/lib/python3.10/site-packages/gym_super_mario_bros/smb_env.py:148: RuntimeWarning: overflow encountered in ubyte_scalars\n",
      "  return (self.ram[0x86] - self.ram[0x071c]) % 256\n",
      "/opt/homebrew/lib/python3.10/site-packages/gym_super_mario_bros/smb_env.py:148: RuntimeWarning: overflow encountered in ubyte_scalars\n",
      "  return (self.ram[0x86] - self.ram[0x071c]) % 256\n"
     ]
    },
    {
     "name": "stdout",
     "output_type": "stream",
     "text": [
      "Saving video to /Users/mukilankrishnakumar/Desktop/Gym/videos/2r5ybbnx/rl-video-step-27800-to-step-27820.mp4\n",
      "Saving video to /Users/mukilankrishnakumar/Desktop/Gym/videos/2r5ybbnx/rl-video-step-28000-to-step-28020.mp4\n"
     ]
    },
    {
     "name": "stderr",
     "output_type": "stream",
     "text": [
      "/opt/homebrew/lib/python3.10/site-packages/gym_super_mario_bros/smb_env.py:148: RuntimeWarning: overflow encountered in ubyte_scalars\n",
      "  return (self.ram[0x86] - self.ram[0x071c]) % 256\n"
     ]
    },
    {
     "name": "stdout",
     "output_type": "stream",
     "text": [
      "Saving video to /Users/mukilankrishnakumar/Desktop/Gym/videos/2r5ybbnx/rl-video-step-28200-to-step-28220.mp4\n"
     ]
    },
    {
     "name": "stderr",
     "output_type": "stream",
     "text": [
      "/opt/homebrew/lib/python3.10/site-packages/gym_super_mario_bros/smb_env.py:148: RuntimeWarning: overflow encountered in ubyte_scalars\n",
      "  return (self.ram[0x86] - self.ram[0x071c]) % 256\n",
      "/opt/homebrew/lib/python3.10/site-packages/gym_super_mario_bros/smb_env.py:148: RuntimeWarning: overflow encountered in ubyte_scalars\n",
      "  return (self.ram[0x86] - self.ram[0x071c]) % 256\n"
     ]
    },
    {
     "name": "stdout",
     "output_type": "stream",
     "text": [
      "Saving video to /Users/mukilankrishnakumar/Desktop/Gym/videos/2r5ybbnx/rl-video-step-28400-to-step-28420.mp4\n",
      "Saving video to /Users/mukilankrishnakumar/Desktop/Gym/videos/2r5ybbnx/rl-video-step-28600-to-step-28620.mp4\n"
     ]
    },
    {
     "name": "stderr",
     "output_type": "stream",
     "text": [
      "/opt/homebrew/lib/python3.10/site-packages/gym_super_mario_bros/smb_env.py:148: RuntimeWarning: overflow encountered in ubyte_scalars\n",
      "  return (self.ram[0x86] - self.ram[0x071c]) % 256\n"
     ]
    },
    {
     "name": "stdout",
     "output_type": "stream",
     "text": [
      "Saving video to /Users/mukilankrishnakumar/Desktop/Gym/videos/2r5ybbnx/rl-video-step-28800-to-step-28820.mp4\n"
     ]
    },
    {
     "name": "stderr",
     "output_type": "stream",
     "text": [
      "/opt/homebrew/lib/python3.10/site-packages/gym_super_mario_bros/smb_env.py:148: RuntimeWarning: overflow encountered in ubyte_scalars\n",
      "  return (self.ram[0x86] - self.ram[0x071c]) % 256\n",
      "/opt/homebrew/lib/python3.10/site-packages/gym_super_mario_bros/smb_env.py:148: RuntimeWarning: overflow encountered in ubyte_scalars\n",
      "  return (self.ram[0x86] - self.ram[0x071c]) % 256\n"
     ]
    },
    {
     "name": "stdout",
     "output_type": "stream",
     "text": [
      "Saving video to /Users/mukilankrishnakumar/Desktop/Gym/videos/2r5ybbnx/rl-video-step-29000-to-step-29020.mp4\n",
      "Saving video to /Users/mukilankrishnakumar/Desktop/Gym/videos/2r5ybbnx/rl-video-step-29200-to-step-29220.mp4\n"
     ]
    },
    {
     "name": "stderr",
     "output_type": "stream",
     "text": [
      "/opt/homebrew/lib/python3.10/site-packages/gym_super_mario_bros/smb_env.py:148: RuntimeWarning: overflow encountered in ubyte_scalars\n",
      "  return (self.ram[0x86] - self.ram[0x071c]) % 256\n"
     ]
    },
    {
     "name": "stdout",
     "output_type": "stream",
     "text": [
      "Saving video to /Users/mukilankrishnakumar/Desktop/Gym/videos/2r5ybbnx/rl-video-step-29400-to-step-29420.mp4\n"
     ]
    },
    {
     "name": "stderr",
     "output_type": "stream",
     "text": [
      "/opt/homebrew/lib/python3.10/site-packages/gym_super_mario_bros/smb_env.py:148: RuntimeWarning: overflow encountered in ubyte_scalars\n",
      "  return (self.ram[0x86] - self.ram[0x071c]) % 256\n",
      "/opt/homebrew/lib/python3.10/site-packages/gym_super_mario_bros/smb_env.py:148: RuntimeWarning: overflow encountered in ubyte_scalars\n",
      "  return (self.ram[0x86] - self.ram[0x071c]) % 256\n"
     ]
    },
    {
     "name": "stdout",
     "output_type": "stream",
     "text": [
      "Saving video to /Users/mukilankrishnakumar/Desktop/Gym/videos/2r5ybbnx/rl-video-step-29600-to-step-29620.mp4\n",
      "Saving video to /Users/mukilankrishnakumar/Desktop/Gym/videos/2r5ybbnx/rl-video-step-29800-to-step-29820.mp4\n"
     ]
    },
    {
     "name": "stderr",
     "output_type": "stream",
     "text": [
      "/opt/homebrew/lib/python3.10/site-packages/gym_super_mario_bros/smb_env.py:148: RuntimeWarning: overflow encountered in ubyte_scalars\n",
      "  return (self.ram[0x86] - self.ram[0x071c]) % 256\n"
     ]
    },
    {
     "name": "stdout",
     "output_type": "stream",
     "text": [
      "Saving video to /Users/mukilankrishnakumar/Desktop/Gym/videos/2r5ybbnx/rl-video-step-30000-to-step-30020.mp4\n"
     ]
    },
    {
     "name": "stderr",
     "output_type": "stream",
     "text": [
      "/opt/homebrew/lib/python3.10/site-packages/gym_super_mario_bros/smb_env.py:148: RuntimeWarning: overflow encountered in ubyte_scalars\n",
      "  return (self.ram[0x86] - self.ram[0x071c]) % 256\n",
      "/opt/homebrew/lib/python3.10/site-packages/gym_super_mario_bros/smb_env.py:148: RuntimeWarning: overflow encountered in ubyte_scalars\n",
      "  return (self.ram[0x86] - self.ram[0x071c]) % 256\n"
     ]
    },
    {
     "name": "stdout",
     "output_type": "stream",
     "text": [
      "Saving video to /Users/mukilankrishnakumar/Desktop/Gym/videos/2r5ybbnx/rl-video-step-30200-to-step-30220.mp4\n"
     ]
    },
    {
     "data": {
      "text/html": [
       "Waiting for W&B process to finish... <strong style=\"color:green\">(success).</strong>"
      ],
      "text/plain": [
       "<IPython.core.display.HTML object>"
      ]
     },
     "metadata": {},
     "output_type": "display_data"
    },
    {
     "data": {
      "text/html": [
       "<style>\n",
       "    table.wandb td:nth-child(1) { padding: 0 10px; text-align: left ; width: auto;} td:nth-child(2) {text-align: left ; width: 100%}\n",
       "    .wandb-row { display: flex; flex-direction: row; flex-wrap: wrap; justify-content: flex-start; width: 100% }\n",
       "    .wandb-col { display: flex; flex-direction: column; flex-basis: 100%; flex: 1; padding: 10px; }\n",
       "    </style>\n",
       "<div class=\"wandb-row\"><div class=\"wandb-col\"><h3>Run history:</h3><br/><table class=\"wandb\"><tr><td>global_step</td><td>▁▂▂▃▃▄▅▅▆▆▇▇█</td></tr><tr><td>time/fps</td><td>█▂▁▁▁▁▁▁▁▁▁▁▁</td></tr><tr><td>train/approx_kl</td><td>▅▂▃▇▃▁▁▃▂▂▁█</td></tr><tr><td>train/clip_fraction</td><td>▆▂▂▇▄▂▁▇▃▂▂█</td></tr><tr><td>train/clip_range</td><td>▁▁▁▁▁▁▁▁▁▁▁▁</td></tr><tr><td>train/entropy_loss</td><td>▁▁▂▄▂▂▂▅▃▃▃█</td></tr><tr><td>train/explained_variance</td><td>▁▂▁▄▇▆▅▄█▇▃▆</td></tr><tr><td>train/learning_rate</td><td>▁▁▁▁▁▁▁▁▁▁▁▁</td></tr><tr><td>train/loss</td><td>█▂▁▇▅▂▁▆▁▁▁▇</td></tr><tr><td>train/policy_gradient_loss</td><td>▅▃▂█▅▂▂▇▂▂▁▅</td></tr><tr><td>train/value_loss</td><td>█▁▁▃▂▁▁▃▁▁▁▃</td></tr></table><br/></div><div class=\"wandb-col\"><h3>Run summary:</h3><br/><table class=\"wandb\"><tr><td>global_step</td><td>26624</td></tr><tr><td>time/fps</td><td>11.0</td></tr><tr><td>train/approx_kl</td><td>0.02884</td></tr><tr><td>train/clip_fraction</td><td>0.37505</td></tr><tr><td>train/clip_range</td><td>0.2</td></tr><tr><td>train/entropy_loss</td><td>-1.52791</td></tr><tr><td>train/explained_variance</td><td>0.54549</td></tr><tr><td>train/learning_rate</td><td>0.0003</td></tr><tr><td>train/loss</td><td>0.69658</td></tr><tr><td>train/policy_gradient_loss</td><td>0.01592</td></tr><tr><td>train/value_loss</td><td>6.10981</td></tr></table><br/></div></div>"
      ],
      "text/plain": [
       "<IPython.core.display.HTML object>"
      ]
     },
     "metadata": {},
     "output_type": "display_data"
    },
    {
     "data": {
      "text/html": [
       "Synced <strong style=\"color:#cdcd00\">decent-frog-26</strong>: <a href=\"https://wandb.ai/mukilan/intro_to_gym/runs/2r5ybbnx\" target=\"_blank\">https://wandb.ai/mukilan/intro_to_gym/runs/2r5ybbnx</a><br/>Synced 5 W&B file(s), 153 media file(s), 3 artifact file(s) and 3 other file(s)"
      ],
      "text/plain": [
       "<IPython.core.display.HTML object>"
      ]
     },
     "metadata": {},
     "output_type": "display_data"
    },
    {
     "data": {
      "text/html": [
       "Find logs at: <code>./wandb/run-20230108_211624-2r5ybbnx/logs</code>"
      ],
      "text/plain": [
       "<IPython.core.display.HTML object>"
      ]
     },
     "metadata": {},
     "output_type": "display_data"
    }
   ],
   "source": [
    "evaluate_policy(model, env, n_eval_episodes=10, render=True)\n",
    "run.finish()"
   ]
  },
  {
   "cell_type": "code",
   "execution_count": 19,
   "id": "06e9c37c",
   "metadata": {},
   "outputs": [],
   "source": [
    "del model"
   ]
  }
 ],
 "metadata": {
  "kernelspec": {
   "display_name": "Python 3 (ipykernel)",
   "language": "python",
   "name": "python3"
  },
  "language_info": {
   "codemirror_mode": {
    "name": "ipython",
    "version": 3
   },
   "file_extension": ".py",
   "mimetype": "text/x-python",
   "name": "python",
   "nbconvert_exporter": "python",
   "pygments_lexer": "ipython3",
   "version": "3.10.9"
  }
 },
 "nbformat": 4,
 "nbformat_minor": 5
}
